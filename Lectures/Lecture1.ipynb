{
 "cells": [
  {
   "cell_type": "markdown",
   "metadata": {},
   "source": [
    "## Numbers"
   ]
  },
  {
   "cell_type": "code",
   "execution_count": 11,
   "metadata": {
    "collapsed": false
   },
   "outputs": [
    {
     "name": "stdout",
     "output_type": "stream",
     "text": [
      "(-7+22j)\n"
     ]
    },
    {
     "data": {
      "text/plain": [
       "complex"
      ]
     },
     "execution_count": 11,
     "metadata": {},
     "output_type": "execute_result"
    }
   ],
   "source": [
    "a = 10\n",
    "a = 2.5\n",
    "a = 2 + 3j\n",
    "b = 4 + 5j\n",
    "print(a * b)\n",
    "a = a + 2\n",
    "type(a)"
   ]
  },
  {
   "cell_type": "markdown",
   "metadata": {},
   "source": [
    "## operators"
   ]
  },
  {
   "cell_type": "code",
   "execution_count": 15,
   "metadata": {
    "collapsed": false
   },
   "outputs": [
    {
     "name": "stdout",
     "output_type": "stream",
     "text": [
      "5\n",
      "1.5\n",
      "1\n",
      "9\n"
     ]
    }
   ],
   "source": [
    "a = 3\n",
    "b = 2\n",
    "print(a + b)\n",
    "print(a/b)\n",
    "print(a//b)\n",
    "print(a ** b)\n",
    "print(a ^ b)"
   ]
  },
  {
   "cell_type": "markdown",
   "metadata": {},
   "source": [
    "## Lets see how python variables work\n",
    "1. item 1\n",
    "2. item 2\n",
    "4. item3\n",
    "\n",
    "[CN](www.codingninjas.in)"
   ]
  },
  {
   "cell_type": "markdown",
   "metadata": {},
   "source": [
    "## strings"
   ]
  },
  {
   "cell_type": "code",
   "execution_count": 38,
   "metadata": {
    "collapsed": false
   },
   "outputs": [
    {
     "name": "stdout",
     "output_type": "stream",
     "text": [
      "<class 'str'>\n",
      "4\n",
      "sb\n",
      "sbc\n",
      "sbcd\n"
     ]
    }
   ],
   "source": [
    "a = \"abc\"\n",
    "a = 'abcd'\n",
    "print(type(a))\n",
    "print(len(a))\n",
    "a = 's' + a[1:4] # slicing\n",
    "print(a[:2])\n",
    "print(a[0:3])\n",
    "print(a[:])"
   ]
  },
  {
   "cell_type": "code",
   "execution_count": 54,
   "metadata": {
    "collapsed": false
   },
   "outputs": [
    {
     "name": "stdout",
     "output_type": "stream",
     "text": [
      " AB,CD,EF1 \n",
      "ab,cd,ef1\n",
      "False\n",
      "False\n",
      "ab,cd,ef\n"
     ]
    },
    {
     "data": {
      "text/plain": [
       "list"
      ]
     },
     "execution_count": 54,
     "metadata": {},
     "output_type": "execute_result"
    }
   ],
   "source": [
    "a = \" \" + a + \"1 \"\n",
    "print(a.upper())\n",
    "print(a.strip())\n",
    "a = a.strip()\n",
    "print(a.isalpha())\n",
    "print(a.isdigit())\n",
    "\n",
    "#split join\n",
    "a = \"ab,cd,ef\"\n",
    "b = a.split(\",\")\n",
    "print(\",\".join(b))\n",
    "type(b)"
   ]
  },
  {
   "cell_type": "code",
   "execution_count": 58,
   "metadata": {
    "collapsed": false
   },
   "outputs": [
    {
     "name": "stdout",
     "output_type": "stream",
     "text": [
      "3\n"
     ]
    },
    {
     "data": {
      "text/plain": [
       "5"
      ]
     },
     "execution_count": 58,
     "metadata": {},
     "output_type": "execute_result"
    }
   ],
   "source": [
    "n = int(input())\n",
    "n + 2"
   ]
  },
  {
   "cell_type": "code",
   "execution_count": 65,
   "metadata": {
    "collapsed": false
   },
   "outputs": [
    {
     "data": {
      "text/plain": [
       "False"
      ]
     },
     "execution_count": 65,
     "metadata": {},
     "output_type": "execute_result"
    }
   ],
   "source": [
    "a = (1,2,\"assff\")\n",
    "b = (3,4)\n",
    "a + b\n",
    "a * 3\n",
    "11 in a"
   ]
  },
  {
   "cell_type": "markdown",
   "metadata": {},
   "source": [
    "# list"
   ]
  },
  {
   "cell_type": "code",
   "execution_count": 83,
   "metadata": {
    "collapsed": false
   },
   "outputs": [],
   "source": [
    "a = [2,3,4]\n",
    "a[1] = 4\n",
    "for i in range(3,10, 2):\n",
    "    print(i)\n",
    "\n",
    "a = [2 * i for i in range(10)]\n",
    "a.insert(len(a),1)\n",
    "\n",
    "for i in a:\n",
    "    print(i)\n"
   ]
  },
  {
   "cell_type": "markdown",
   "metadata": {},
   "source": [
    "## Dictionary\n"
   ]
  },
  {
   "cell_type": "code",
   "execution_count": 102,
   "metadata": {
    "collapsed": false
   },
   "outputs": [
    {
     "name": "stdout",
     "output_type": "stream",
     "text": [
      "def\n",
      "7\n"
     ]
    }
   ],
   "source": [
    "a = {'abc': 'def', (2,4): 7}\n",
    "for i in a:\n",
    "    print(a[i])\n"
   ]
  },
  {
   "cell_type": "code",
   "execution_count": 106,
   "metadata": {
    "collapsed": false
   },
   "outputs": [
    {
     "name": "stdout",
     "output_type": "stream",
     "text": [
      "else\n"
     ]
    }
   ],
   "source": [
    "if (2 == 3) :\n",
    "    print(\"Yes\")\n",
    "elif (2 == 2) :\n",
    "    print(\"else\")\n",
    "else \n",
    "    "
   ]
  },
  {
   "cell_type": "code",
   "execution_count": 118,
   "metadata": {
    "collapsed": false
   },
   "outputs": [
    {
     "name": "stdout",
     "output_type": "stream",
     "text": [
      "3\n",
      "1\n",
      "2\n",
      "3\n",
      "0.5\n",
      "1.0\n",
      "1.5\n",
      "2.0\n",
      "2.5\n",
      "3.0\n",
      "0:1\n",
      "1:2\n",
      "2:3\n",
      "3:4\n",
      "4:5\n"
     ]
    }
   ],
   "source": [
    "n = int(input())\n",
    "for i in range(0,n):\n",
    "    print(i + 1)\n",
    "    \n",
    "i = 0\n",
    "while (i < n):\n",
    "    i = i + 0.5\n",
    "    print(i)\n",
    "    \n",
    "# fast iteration\n",
    "    \n",
    "a = [1,2,3,4,5]\n",
    "for i in range(len(a)):\n",
    "    #print(i, \":\", a[i])\n",
    "    print(str(i) +  \":\" + str(a[i]))\n",
    "   \n",
    "    "
   ]
  },
  {
   "cell_type": "code",
   "execution_count": 122,
   "metadata": {
    "collapsed": false
   },
   "outputs": [
    {
     "name": "stdout",
     "output_type": "stream",
     "text": [
      "24\n",
      "Not Prime\n"
     ]
    }
   ],
   "source": [
    "#prime\n",
    "n = int(input())\n",
    "flag = True\n",
    "for i in range(2,n):\n",
    "    if (n % i == 0):\n",
    "        flag = False\n",
    "        print(\"Not Prime\")\n",
    "        break\n",
    "if flag:\n",
    "    print(\"Prime\")"
   ]
  },
  {
   "cell_type": "code",
   "execution_count": 124,
   "metadata": {
    "collapsed": false
   },
   "outputs": [
    {
     "data": {
      "text/plain": [
       "[1, 2, 3, 4, 5, 6, 7, 8, 9, 10]"
      ]
     },
     "execution_count": 124,
     "metadata": {},
     "output_type": "execute_result"
    }
   ],
   "source": [
    "#bubble sort\n",
    "n = 10\n",
    "a = [n - i for i in range(n)]\n",
    "for j in range(a):\n",
    "    for i in range(n - 1 - j):\n",
    "        if (a[i] > a[i + 1]):\n",
    "            k = a[i]\n",
    "            a[i] = a[i + 1]\n",
    "            a[i + 1] = k\n",
    "a\n",
    "\n"
   ]
  },
  {
   "cell_type": "code",
   "execution_count": 133,
   "metadata": {
    "collapsed": false
   },
   "outputs": [
    {
     "name": "stdout",
     "output_type": "stream",
     "text": [
      "2 3 4 \n"
     ]
    },
    {
     "data": {
      "text/plain": [
       "[2, 3, 4]"
      ]
     },
     "execution_count": 133,
     "metadata": {},
     "output_type": "execute_result"
    }
   ],
   "source": [
    "# array input\n",
    "a = input()\n",
    "a = a.strip()\n",
    "a = a.split(\" \")\n",
    "a = list(map(int, a))\n"
   ]
  },
  {
   "cell_type": "code",
   "execution_count": 136,
   "metadata": {
    "collapsed": false
   },
   "outputs": [
    {
     "name": "stdout",
     "output_type": "stream",
     "text": [
      "2\n",
      "3\n",
      "3\n",
      "2\n"
     ]
    },
    {
     "data": {
      "text/plain": [
       "[3, 2]"
      ]
     },
     "execution_count": 136,
     "metadata": {},
     "output_type": "execute_result"
    }
   ],
   "source": [
    "# swapping\n",
    "a, b = 2, 3 \n",
    "print(a)\n",
    "print(b)\n",
    "a, b = b, a\n",
    "print(a)\n",
    "print(b)\n",
    "a = [2, 3]\n",
    "a[0], a[1] = a[1], a[0]\n",
    "a"
   ]
  },
  {
   "cell_type": "code",
   "execution_count": 148,
   "metadata": {
    "collapsed": false
   },
   "outputs": [
    {
     "name": "stdout",
     "output_type": "stream",
     "text": [
      "4\n",
      "9\n"
     ]
    }
   ],
   "source": [
    "def power(a, b = 2):\n",
    "    return a ** b\n",
    "power(3)\n",
    "\n",
    "def sq(a, b):\n",
    "    return a * a, b * b\n",
    "\n",
    "a = sq(2,3)[0]\n",
    "print(a)\n",
    "print(b)"
   ]
  },
  {
   "cell_type": "code",
   "execution_count": 152,
   "metadata": {
    "collapsed": false
   },
   "outputs": [
    {
     "name": "stdout",
     "output_type": "stream",
     "text": [
      "18\n",
      "12\n",
      "14\n",
      "49\n",
      "(3, 4, 5, 6)\n"
     ]
    }
   ],
   "source": [
    "def sum(a, b, c = 10, d = 3):\n",
    "    return a + b + c + d\n",
    "print(sum(2,3))\n",
    "print(sum(2,3,4))\n",
    "print(sum(2,3,4,5))\n",
    "print(sum(2, 3, d = 43, c = 1))\n",
    "\n",
    "def sum1(a, b, *other):\n",
    "    print(other)\n",
    "    \n",
    "sum1(1, 2, 3, 4, 5, 6)\n",
    "    "
   ]
  },
  {
   "cell_type": "code",
   "execution_count": 154,
   "metadata": {
    "collapsed": true
   },
   "outputs": [],
   "source": [
    "ab = [[1,2,3],[3,4,5],3]"
   ]
  },
  {
   "cell_type": "code",
   "execution_count": 156,
   "metadata": {
    "collapsed": false
   },
   "outputs": [
    {
     "name": "stdout",
     "output_type": "stream",
     "text": [
      "0 0 0 0 0 \n",
      "0 1 2 3 4 \n",
      "0 2 4 6 8 \n",
      "0 3 6 9 12 \n"
     ]
    }
   ],
   "source": [
    "m = 4\n",
    "n = 5\n",
    "matrix = [[i*j for i in range(n)] for j in range(m)]\n",
    "for l in matrix:\n",
    "    for i in l:\n",
    "        print(i, end=\" \")\n",
    "    print(\"\")"
   ]
  },
  {
   "cell_type": "code",
   "execution_count": null,
   "metadata": {
    "collapsed": true
   },
   "outputs": [],
   "source": []
  },
  {
   "cell_type": "code",
   "execution_count": null,
   "metadata": {
    "collapsed": true
   },
   "outputs": [],
   "source": []
  }
 ],
 "metadata": {
  "anaconda-cloud": {},
  "kernelspec": {
   "display_name": "Python [conda env:py3k]",
   "language": "python",
   "name": "conda-env-py3k-py"
  },
  "language_info": {
   "codemirror_mode": {
    "name": "ipython",
    "version": 3
   },
   "file_extension": ".py",
   "mimetype": "text/x-python",
   "name": "python",
   "nbconvert_exporter": "python",
   "pygments_lexer": "ipython3",
   "version": "3.6.0"
  }
 },
 "nbformat": 4,
 "nbformat_minor": 1
}
