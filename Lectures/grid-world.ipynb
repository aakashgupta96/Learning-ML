{
 "cells": [
  {
   "cell_type": "code",
   "execution_count": 6,
   "metadata": {},
   "outputs": [],
   "source": [
    "import numpy as np"
   ]
  },
  {
   "cell_type": "code",
   "execution_count": 7,
   "metadata": {},
   "outputs": [],
   "source": [
    "WORLD_SIZE = 4\n",
    "REWARD = -1\n",
    "ACTION_PROB = 0.25\n",
    "GAMMA = 1"
   ]
  },
  {
   "cell_type": "code",
   "execution_count": 8,
   "metadata": {},
   "outputs": [],
   "source": [
    "board= np.zeros((WORLD_SIZE, WORLD_SIZE))\n",
    "policy = np.zeros((WORLD_SIZE, WORLD_SIZE))\n",
    "actions = ['L', 'U', 'R', 'D']"
   ]
  },
  {
   "cell_type": "code",
   "execution_count": 9,
   "metadata": {},
   "outputs": [],
   "source": [
    "def getNextState(i, j, action):\n",
    "    if (action == 'R'):\n",
    "        return i, min(WORLD_SIZE - 1, j + 1)\n",
    "    if (action == 'L'):\n",
    "        return i, max(0, j - 1)\n",
    "    if (action == 'D'):\n",
    "        return min(WORLD_SIZE - 1, i + 1), j\n",
    "    return max(0, i - 1), j"
   ]
  },
  {
   "cell_type": "code",
   "execution_count": 10,
   "metadata": {},
   "outputs": [
    {
     "name": "stdout",
     "output_type": "stream",
     "text": [
      "133\n"
     ]
    },
    {
     "data": {
      "text/plain": [
       "array([[  0.        , -13.9905495 , -19.98599606, -21.98432876],\n",
       "       [-13.9905495 , -17.98766336, -19.98608974, -19.98599606],\n",
       "       [-19.98599606, -19.98608974, -17.98766336, -13.9905495 ],\n",
       "       [-21.98432876, -19.98599606, -13.9905495 ,   0.        ]])"
      ]
     },
     "execution_count": 10,
     "metadata": {},
     "output_type": "execute_result"
    }
   ],
   "source": [
    "iter = 0\n",
    "while True:\n",
    "    iter += 1\n",
    "    newboard= np.zeros((WORLD_SIZE, WORLD_SIZE))\n",
    "    for i in range(WORLD_SIZE):\n",
    "        for j in range(WORLD_SIZE):\n",
    "            if (i == 0 and j == 0) or (i == WORLD_SIZE -1 and i == j):\n",
    "                continue\n",
    "            expected_return = 0\n",
    "            for action in actions:\n",
    "                nexti,nextj = getNextState(i, j , action)\n",
    "                expected_return += ACTION_PROB*(REWARD + GAMMA * board[nexti][nextj])\n",
    "            newboard[i][j] = expected_return\n",
    "            \n",
    "    difference = np.abs(board - newboard)\n",
    "    differenceSum = difference.sum()\n",
    "    board = newboard\n",
    "    if (differenceSum < 0.01):\n",
    "        break\n",
    "print(iter)\n",
    "board"
   ]
  },
  {
   "cell_type": "code",
   "execution_count": 11,
   "metadata": {},
   "outputs": [
    {
     "data": {
      "text/plain": [
       "array([[0., 0., 0., 0.],\n",
       "       [0., 0., 0., 0.],\n",
       "       [0., 0., 0., 0.],\n",
       "       [0., 0., 0., 0.]])"
      ]
     },
     "execution_count": 11,
     "metadata": {},
     "output_type": "execute_result"
    }
   ],
   "source": [
    "policy"
   ]
  },
  {
   "cell_type": "code",
   "execution_count": null,
   "metadata": {},
   "outputs": [],
   "source": []
  }
 ],
 "metadata": {
  "kernelspec": {
   "display_name": "Python 3",
   "language": "python",
   "name": "python3"
  },
  "language_info": {
   "codemirror_mode": {
    "name": "ipython",
    "version": 3
   },
   "file_extension": ".py",
   "mimetype": "text/x-python",
   "name": "python",
   "nbconvert_exporter": "python",
   "pygments_lexer": "ipython3",
   "version": "3.6.4"
  }
 },
 "nbformat": 4,
 "nbformat_minor": 1
}
