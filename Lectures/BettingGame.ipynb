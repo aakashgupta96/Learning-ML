{
 "cells": [
  {
   "cell_type": "code",
   "execution_count": 1,
   "metadata": {},
   "outputs": [],
   "source": [
    "import numpy as np"
   ]
  },
  {
   "cell_type": "code",
   "execution_count": 2,
   "metadata": {},
   "outputs": [],
   "source": [
    "TARGET = 100\n",
    "WIN_PROB = 0.4"
   ]
  },
  {
   "cell_type": "code",
   "execution_count": 3,
   "metadata": {},
   "outputs": [],
   "source": [
    "board= np.zeros(TARGET+1)\n",
    "board[0] = -1\n",
    "board[TARGET] = 1"
   ]
  },
  {
   "cell_type": "code",
   "execution_count": 4,
   "metadata": {},
   "outputs": [
    {
     "name": "stdout",
     "output_type": "stream",
     "text": [
      "46\n"
     ]
    },
    {
     "data": {
      "text/plain": [
       "array([-1.        , -0.99813312, -0.99533916, -0.99182641, -0.98769658,\n",
       "       -0.98301707, -0.97783711, -0.97218356, -0.96608823, -0.95958433,\n",
       "       -0.95269466, -0.94543149, -0.93779398, -0.92976871, -0.92139637,\n",
       "       -0.9127148 , -0.90374249, -0.89448717, -0.88495002, -0.87512884,\n",
       "       -0.86502037, -0.85461503, -0.84389592, -0.83283686, -0.82139447,\n",
       "       -0.80947759, -0.79740397, -0.78526432, -0.77301755, -0.76063115,\n",
       "       -0.74807878, -0.7353385 , -0.72239288, -0.70922722, -0.69582687,\n",
       "       -0.68217846, -0.66827101, -0.6540986 , -0.63966671, -0.62496494,\n",
       "       -0.60996229, -0.59462934, -0.57893591, -0.56284894, -0.54632885,\n",
       "       -0.52931898, -0.51174316, -0.4934977 , -0.47442173, -0.45422662,\n",
       "       -0.43207373, -0.41830027, -0.40403685, -0.38931982, -0.37417272,\n",
       "       -0.35861353, -0.34265576, -0.32631173, -0.30959315, -0.29250629,\n",
       "       -0.27505567, -0.25724665, -0.2390878 , -0.22059663, -0.20178254,\n",
       "       -0.18263017, -0.16312919, -0.14327434, -0.1230643 , -0.10250152,\n",
       "       -0.08159034, -0.06033983, -0.03877019, -0.01691708,  0.00515685,\n",
       "        0.02733335,  0.04958458,  0.0724656 ,  0.0959712 ,  0.12010374,\n",
       "        0.14487186,  0.17028983,  0.19637868,  0.2231703 ,  0.25070166,\n",
       "        0.27901628,  0.30817165,  0.3382518 ,  0.3694018 ,  0.40184914,\n",
       "        0.43573548,  0.4712276 ,  0.5085587 ,  0.54805532,  0.59018756,\n",
       "        0.63561507,  0.68525065,  0.7405961 ,  0.8043828 ,  0.88269039,\n",
       "        1.        ])"
      ]
     },
     "execution_count": 4,
     "metadata": {},
     "output_type": "execute_result"
    }
   ],
   "source": [
    "iter = 0\n",
    "while 100:\n",
    "    iter += 1\n",
    "    newboard= np.zeros(TARGET+1)\n",
    "    newboard[0] = -1\n",
    "    newboard[TARGET] = 1\n",
    "    for i in range(1,TARGET):\n",
    "        expected_return = 0\n",
    "        actions = min(i,TARGET-i)\n",
    "        for action in range(1,actions+1):\n",
    "            expected_return += (1/actions)*(WIN_PROB * board[i + action] + (1 - WIN_PROB) * board[i - action])\n",
    "        newboard[i] = expected_return\n",
    "\n",
    "    difference = np.abs(board - newboard)\n",
    "    differenceSum = difference.sum()\n",
    "    board = newboard\n",
    "    if (differenceSum < 0.01):\n",
    "        break\n",
    "print(iter)\n",
    "board"
   ]
  },
  {
   "cell_type": "markdown",
   "metadata": {},
   "source": [
    "# Using Monte Carlo Method"
   ]
  },
  {
   "cell_type": "code",
   "execution_count": 14,
   "metadata": {},
   "outputs": [],
   "source": [
    "WIN = 0\n",
    "LOSS = 1\n",
    "WIN_PROB = 0.4\n",
    "def toss():\n",
    "    if np.random.random() < WIN_PROB:\n",
    "        return WIN\n",
    "    else :\n",
    "        return LOSS"
   ]
  },
  {
   "cell_type": "code",
   "execution_count": 36,
   "metadata": {},
   "outputs": [],
   "source": [
    "def randomBet(current):\n",
    "    actionRange = min(current,100-current)\n",
    "    return np.random.choice(range(1,actionRange+1))"
   ]
  },
  {
   "cell_type": "code",
   "execution_count": 41,
   "metadata": {},
   "outputs": [],
   "source": [
    "def play():\n",
    "    current = np.random.choice(range(1,100))\n",
    "    trajectory = []\n",
    "    while current != 0 and current != 100:\n",
    "        bet = randomBet(current)\n",
    "        trajectory.append((current,bet))\n",
    "        if toss() == WIN :\n",
    "            current += bet\n",
    "        else:\n",
    "            current -= bet\n",
    "    if current == 0:\n",
    "        return 1, trajectory\n",
    "    else:\n",
    "        return 10, trajectory"
   ]
  },
  {
   "cell_type": "code",
   "execution_count": 42,
   "metadata": {},
   "outputs": [],
   "source": [
    "# Returns np 2D array with expected return on each bet from each state\n",
    "def monteCarlo(nEpisodes):\n",
    "    stateActionRewards = np.zeros((TARGET+1,51)) # Max 50 actions can be taken from each state, 0th index is dummy\n",
    "    stateActionCount = np.ones((TARGET+1,51))\n",
    "    for episode in range(nEpisodes):\n",
    "        if episode % 1000 == 0 :\n",
    "            print(\"Episode: \", episode)\n",
    "        reward, trajectory = play()\n",
    "        for state,action in trajectory:\n",
    "            stateActionRewards[state,action] += reward\n",
    "            stateActionCount[state,action] += 1\n",
    "    return stateActionRewards/stateActionCount"
   ]
  },
  {
   "cell_type": "code",
   "execution_count": 43,
   "metadata": {},
   "outputs": [],
   "source": [
    "def runEpisodes(nEpisodes):\n",
    "    stateActionValues = monteCarlo(nEpisodes)\n",
    "    stateValues = np.zeros(TARGET+1)\n",
    "    stateActions = np.zeros(TARGET+1)\n",
    "    for i in range(TARGET+1):\n",
    "        stateActions[i] = np.max(stateActionValues[i,:])\n",
    "        stateValues[i] = np.argmax(stateActionValues[i,:])\n",
    "    print(stateActions)\n",
    "    print(stateValues)"
   ]
  },
  {
   "cell_type": "code",
   "execution_count": 47,
   "metadata": {},
   "outputs": [
    {
     "name": "stdout",
     "output_type": "stream",
     "text": [
      "Episode:  0\n",
      "Episode:  1000\n",
      "Episode:  2000\n",
      "Episode:  3000\n",
      "Episode:  4000\n",
      "Episode:  5000\n",
      "Episode:  6000\n",
      "Episode:  7000\n",
      "Episode:  8000\n",
      "Episode:  9000\n",
      "[0. 0. 0. 0. 0. 0. 0. 0. 0. 0. 0. 0. 0. 0. 0. 0. 0. 0. 0. 0. 0. 0. 0. 0.\n",
      " 0. 0. 0. 0. 0. 0. 0. 0. 0. 0. 0. 0. 0. 0. 0. 0. 0. 0. 0. 0. 0. 0. 0. 0.\n",
      " 0. 0. 0. 0. 0. 0. 0. 0. 0. 0. 0. 0. 0. 0. 0. 0. 0. 0. 0. 0. 0. 0. 0. 0.\n",
      " 0. 0. 0. 0. 0. 0. 0. 0. 0. 0. 0. 0. 0. 0. 0. 0. 0. 0. 0. 0. 0. 0. 0. 0.\n",
      " 0. 0. 0. 0. 0.]\n",
      "[ 0.  1.  1.  3.  2.  5.  1.  3.  6.  2.  7. 11.  4.  9. 10. 15.  6. 14.\n",
      "  3. 16. 20. 17.  2.  8. 11. 13. 16. 21. 16. 27.  3. 10.  5. 32.  5. 33.\n",
      "  5. 25. 33. 20. 15. 35. 18.  5. 44.  6.  2. 28. 41. 47. 47. 48.  1.  5.\n",
      " 46. 39. 13.  3. 36. 27. 33. 39. 25. 27. 22. 18. 29. 17. 10. 27. 15. 28.\n",
      "  1. 18. 24. 24.  3.  1.  1.  9. 19. 13. 10.  1.  9. 15.  8. 12. 12.  9.\n",
      " 10.  7.  8.  3.  6.  5.  4.  3.  2.  1.  0.]\n"
     ]
    }
   ],
   "source": [
    "runEpisodes(10000)"
   ]
  },
  {
   "cell_type": "code",
   "execution_count": null,
   "metadata": {},
   "outputs": [],
   "source": []
  }
 ],
 "metadata": {
  "kernelspec": {
   "display_name": "Python 3",
   "language": "python",
   "name": "python3"
  },
  "language_info": {
   "codemirror_mode": {
    "name": "ipython",
    "version": 3
   },
   "file_extension": ".py",
   "mimetype": "text/x-python",
   "name": "python",
   "nbconvert_exporter": "python",
   "pygments_lexer": "ipython3",
   "version": "3.6.4"
  }
 },
 "nbformat": 4,
 "nbformat_minor": 2
}
