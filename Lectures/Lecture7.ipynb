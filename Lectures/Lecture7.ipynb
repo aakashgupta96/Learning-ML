{
 "cells": [
  {
   "cell_type": "code",
   "execution_count": 1,
   "metadata": {},
   "outputs": [],
   "source": [
    "from sklearn import datasets\n",
    "import pydotplus\n",
    "from sklearn import tree"
   ]
  },
  {
   "cell_type": "code",
   "execution_count": 2,
   "metadata": {},
   "outputs": [],
   "source": [
    "iris = datasets.load_iris()\n",
    "clf = tree.DecisionTreeClassifier()"
   ]
  },
  {
   "cell_type": "code",
   "execution_count": 3,
   "metadata": {},
   "outputs": [
    {
     "data": {
      "text/plain": [
       "True"
      ]
     },
     "execution_count": 3,
     "metadata": {},
     "output_type": "execute_result"
    }
   ],
   "source": [
    "clf.fit(iris.data, iris.target)\n",
    "dot_data = tree.export_graphviz(clf, out_file = None, \n",
    "                               feature_names=iris.feature_names,\n",
    "                               class_names= iris.target_names)\n",
    "graph = pydotplus.graph_from_dot_data(dot_data)\n",
    "graph.write_pdf(\"iris.pdf\")"
   ]
  },
  {
   "cell_type": "code",
   "execution_count": 4,
   "metadata": {},
   "outputs": [
    {
     "data": {
      "text/plain": [
       "array([2, 3, 1, 1])"
      ]
     },
     "execution_count": 4,
     "metadata": {},
     "output_type": "execute_result"
    }
   ],
   "source": [
    "from sklearn.linear_model import LinearRegression\n",
    "from sklearn.feature_selection import RFE\n",
    "from sklearn import preprocessing\n",
    "data = preprocessing.scale(iris.data)\n",
    "clf = LinearRegression()\n",
    "selector = RFE(clf, 2, step=1)\n",
    "selector = selector.fit(data, iris.target)\n",
    "selector.ranking_"
   ]
  },
  {
   "cell_type": "code",
   "execution_count": 5,
   "metadata": {},
   "outputs": [
    {
     "name": "stdout",
     "output_type": "stream",
     "text": [
      "[[50  0  0]\n",
      " [ 0 47  3]\n",
      " [ 0  3 47]]\n"
     ]
    }
   ],
   "source": [
    "from sklearn import naive_bayes\n",
    "gnb = naive_bayes.GaussianNB()\n",
    "\n",
    "gnb.fit(iris.data, iris.target)\n",
    "y_pred = gnb.predict(iris.data)\n",
    "from sklearn.metrics import confusion_matrix\n",
    "print(confusion_matrix(iris.target, y_pred))"
   ]
  },
  {
   "cell_type": "code",
   "execution_count": 6,
   "metadata": {},
   "outputs": [],
   "source": [
    "mnb = naive_bayes.MultinomialNB()"
   ]
  },
  {
   "cell_type": "code",
   "execution_count": 7,
   "metadata": {},
   "outputs": [],
   "source": [
    "import quandl"
   ]
  },
  {
   "cell_type": "code",
   "execution_count": 8,
   "metadata": {},
   "outputs": [],
   "source": [
    "df = quandl.get('WIKI/GOOGL')"
   ]
  },
  {
   "cell_type": "code",
   "execution_count": 9,
   "metadata": {},
   "outputs": [
    {
     "data": {
      "text/plain": [
       "Index(['Open', 'High', 'Low', 'Close', 'Volume', 'Ex-Dividend', 'Split Ratio',\n",
       "       'Adj. Open', 'Adj. High', 'Adj. Low', 'Adj. Close', 'Adj. Volume'],\n",
       "      dtype='object')"
      ]
     },
     "execution_count": 9,
     "metadata": {},
     "output_type": "execute_result"
    }
   ],
   "source": [
    "df.columns"
   ]
  },
  {
   "cell_type": "code",
   "execution_count": 10,
   "metadata": {},
   "outputs": [
    {
     "data": {
      "text/html": [
       "<div>\n",
       "<style scoped>\n",
       "    .dataframe tbody tr th:only-of-type {\n",
       "        vertical-align: middle;\n",
       "    }\n",
       "\n",
       "    .dataframe tbody tr th {\n",
       "        vertical-align: top;\n",
       "    }\n",
       "\n",
       "    .dataframe thead th {\n",
       "        text-align: right;\n",
       "    }\n",
       "</style>\n",
       "<table border=\"1\" class=\"dataframe\">\n",
       "  <thead>\n",
       "    <tr style=\"text-align: right;\">\n",
       "      <th></th>\n",
       "      <th>Open</th>\n",
       "      <th>High</th>\n",
       "      <th>Low</th>\n",
       "      <th>Close</th>\n",
       "      <th>Volume</th>\n",
       "      <th>Ex-Dividend</th>\n",
       "      <th>Split Ratio</th>\n",
       "      <th>Adj. Open</th>\n",
       "      <th>Adj. High</th>\n",
       "      <th>Adj. Low</th>\n",
       "      <th>Adj. Close</th>\n",
       "      <th>Adj. Volume</th>\n",
       "    </tr>\n",
       "    <tr>\n",
       "      <th>Date</th>\n",
       "      <th></th>\n",
       "      <th></th>\n",
       "      <th></th>\n",
       "      <th></th>\n",
       "      <th></th>\n",
       "      <th></th>\n",
       "      <th></th>\n",
       "      <th></th>\n",
       "      <th></th>\n",
       "      <th></th>\n",
       "      <th></th>\n",
       "      <th></th>\n",
       "    </tr>\n",
       "  </thead>\n",
       "  <tbody>\n",
       "    <tr>\n",
       "      <th>2014-04-03</th>\n",
       "      <td>573.39</td>\n",
       "      <td>588.3</td>\n",
       "      <td>566.01</td>\n",
       "      <td>571.5</td>\n",
       "      <td>4018300.0</td>\n",
       "      <td>567.971668</td>\n",
       "      <td>1.0</td>\n",
       "      <td>573.39</td>\n",
       "      <td>588.3</td>\n",
       "      <td>566.01</td>\n",
       "      <td>571.5</td>\n",
       "      <td>4018300.0</td>\n",
       "    </tr>\n",
       "  </tbody>\n",
       "</table>\n",
       "</div>"
      ],
      "text/plain": [
       "              Open   High     Low  Close     Volume  Ex-Dividend  Split Ratio  \\\n",
       "Date                                                                            \n",
       "2014-04-03  573.39  588.3  566.01  571.5  4018300.0   567.971668          1.0   \n",
       "\n",
       "            Adj. Open  Adj. High  Adj. Low  Adj. Close  Adj. Volume  \n",
       "Date                                                                 \n",
       "2014-04-03     573.39      588.3    566.01       571.5    4018300.0  "
      ]
     },
     "execution_count": 10,
     "metadata": {},
     "output_type": "execute_result"
    }
   ],
   "source": [
    "df[(df['Ex-Dividend'] != 0.0)]"
   ]
  },
  {
   "cell_type": "code",
   "execution_count": 11,
   "metadata": {},
   "outputs": [
    {
     "data": {
      "text/html": [
       "<div>\n",
       "<style scoped>\n",
       "    .dataframe tbody tr th:only-of-type {\n",
       "        vertical-align: middle;\n",
       "    }\n",
       "\n",
       "    .dataframe tbody tr th {\n",
       "        vertical-align: top;\n",
       "    }\n",
       "\n",
       "    .dataframe thead th {\n",
       "        text-align: right;\n",
       "    }\n",
       "</style>\n",
       "<table border=\"1\" class=\"dataframe\">\n",
       "  <thead>\n",
       "    <tr style=\"text-align: right;\">\n",
       "      <th></th>\n",
       "      <th>Open</th>\n",
       "      <th>High</th>\n",
       "      <th>Low</th>\n",
       "      <th>Close</th>\n",
       "      <th>Volume</th>\n",
       "      <th>Ex-Dividend</th>\n",
       "      <th>Split Ratio</th>\n",
       "      <th>Adj. Open</th>\n",
       "      <th>Adj. High</th>\n",
       "      <th>Adj. Low</th>\n",
       "      <th>Adj. Close</th>\n",
       "      <th>Adj. Volume</th>\n",
       "    </tr>\n",
       "    <tr>\n",
       "      <th>Date</th>\n",
       "      <th></th>\n",
       "      <th></th>\n",
       "      <th></th>\n",
       "      <th></th>\n",
       "      <th></th>\n",
       "      <th></th>\n",
       "      <th></th>\n",
       "      <th></th>\n",
       "      <th></th>\n",
       "      <th></th>\n",
       "      <th></th>\n",
       "      <th></th>\n",
       "    </tr>\n",
       "  </thead>\n",
       "  <tbody>\n",
       "    <tr>\n",
       "      <th>2014-04-01</th>\n",
       "      <td>1120.27</td>\n",
       "      <td>1137.5000</td>\n",
       "      <td>1118.000</td>\n",
       "      <td>1134.89</td>\n",
       "      <td>2181000.0</td>\n",
       "      <td>0.000000</td>\n",
       "      <td>1.0</td>\n",
       "      <td>561.869437</td>\n",
       "      <td>570.511113</td>\n",
       "      <td>560.730923</td>\n",
       "      <td>569.202072</td>\n",
       "      <td>2181000.0</td>\n",
       "    </tr>\n",
       "    <tr>\n",
       "      <th>2014-04-02</th>\n",
       "      <td>1141.90</td>\n",
       "      <td>1144.8000</td>\n",
       "      <td>1124.000</td>\n",
       "      <td>1135.10</td>\n",
       "      <td>4168000.0</td>\n",
       "      <td>0.000000</td>\n",
       "      <td>1.0</td>\n",
       "      <td>572.717925</td>\n",
       "      <td>574.172415</td>\n",
       "      <td>563.740212</td>\n",
       "      <td>569.307397</td>\n",
       "      <td>4168000.0</td>\n",
       "    </tr>\n",
       "    <tr>\n",
       "      <th>2014-04-03</th>\n",
       "      <td>573.39</td>\n",
       "      <td>588.3000</td>\n",
       "      <td>566.010</td>\n",
       "      <td>571.50</td>\n",
       "      <td>4018300.0</td>\n",
       "      <td>567.971668</td>\n",
       "      <td>1.0</td>\n",
       "      <td>573.390000</td>\n",
       "      <td>588.300000</td>\n",
       "      <td>566.010000</td>\n",
       "      <td>571.500000</td>\n",
       "      <td>4018300.0</td>\n",
       "    </tr>\n",
       "    <tr>\n",
       "      <th>2014-04-04</th>\n",
       "      <td>578.55</td>\n",
       "      <td>579.7173</td>\n",
       "      <td>544.494</td>\n",
       "      <td>545.25</td>\n",
       "      <td>5363700.0</td>\n",
       "      <td>0.000000</td>\n",
       "      <td>1.0</td>\n",
       "      <td>578.550000</td>\n",
       "      <td>579.717300</td>\n",
       "      <td>544.494000</td>\n",
       "      <td>545.250000</td>\n",
       "      <td>5363700.0</td>\n",
       "    </tr>\n",
       "    <tr>\n",
       "      <th>2014-04-07</th>\n",
       "      <td>544.79</td>\n",
       "      <td>549.8500</td>\n",
       "      <td>530.530</td>\n",
       "      <td>540.63</td>\n",
       "      <td>3961600.0</td>\n",
       "      <td>0.000000</td>\n",
       "      <td>1.0</td>\n",
       "      <td>544.790000</td>\n",
       "      <td>549.850000</td>\n",
       "      <td>530.530000</td>\n",
       "      <td>540.630000</td>\n",
       "      <td>3961600.0</td>\n",
       "    </tr>\n",
       "    <tr>\n",
       "      <th>2014-04-08</th>\n",
       "      <td>545.05</td>\n",
       "      <td>559.8800</td>\n",
       "      <td>544.700</td>\n",
       "      <td>557.51</td>\n",
       "      <td>3482500.0</td>\n",
       "      <td>0.000000</td>\n",
       "      <td>1.0</td>\n",
       "      <td>545.050000</td>\n",
       "      <td>559.880000</td>\n",
       "      <td>544.700000</td>\n",
       "      <td>557.510000</td>\n",
       "      <td>3482500.0</td>\n",
       "    </tr>\n",
       "    <tr>\n",
       "      <th>2014-04-09</th>\n",
       "      <td>565.84</td>\n",
       "      <td>567.8000</td>\n",
       "      <td>555.380</td>\n",
       "      <td>567.04</td>\n",
       "      <td>3031600.0</td>\n",
       "      <td>0.000000</td>\n",
       "      <td>1.0</td>\n",
       "      <td>565.840000</td>\n",
       "      <td>567.800000</td>\n",
       "      <td>555.380000</td>\n",
       "      <td>567.040000</td>\n",
       "      <td>3031600.0</td>\n",
       "    </tr>\n",
       "    <tr>\n",
       "      <th>2014-04-10</th>\n",
       "      <td>568.00</td>\n",
       "      <td>568.2100</td>\n",
       "      <td>545.500</td>\n",
       "      <td>546.69</td>\n",
       "      <td>3294500.0</td>\n",
       "      <td>0.000000</td>\n",
       "      <td>1.0</td>\n",
       "      <td>568.000000</td>\n",
       "      <td>568.210000</td>\n",
       "      <td>545.500000</td>\n",
       "      <td>546.690000</td>\n",
       "      <td>3294500.0</td>\n",
       "    </tr>\n",
       "  </tbody>\n",
       "</table>\n",
       "</div>"
      ],
      "text/plain": [
       "               Open       High       Low    Close     Volume  Ex-Dividend  \\\n",
       "Date                                                                        \n",
       "2014-04-01  1120.27  1137.5000  1118.000  1134.89  2181000.0     0.000000   \n",
       "2014-04-02  1141.90  1144.8000  1124.000  1135.10  4168000.0     0.000000   \n",
       "2014-04-03   573.39   588.3000   566.010   571.50  4018300.0   567.971668   \n",
       "2014-04-04   578.55   579.7173   544.494   545.25  5363700.0     0.000000   \n",
       "2014-04-07   544.79   549.8500   530.530   540.63  3961600.0     0.000000   \n",
       "2014-04-08   545.05   559.8800   544.700   557.51  3482500.0     0.000000   \n",
       "2014-04-09   565.84   567.8000   555.380   567.04  3031600.0     0.000000   \n",
       "2014-04-10   568.00   568.2100   545.500   546.69  3294500.0     0.000000   \n",
       "\n",
       "            Split Ratio   Adj. Open   Adj. High    Adj. Low  Adj. Close  \\\n",
       "Date                                                                      \n",
       "2014-04-01          1.0  561.869437  570.511113  560.730923  569.202072   \n",
       "2014-04-02          1.0  572.717925  574.172415  563.740212  569.307397   \n",
       "2014-04-03          1.0  573.390000  588.300000  566.010000  571.500000   \n",
       "2014-04-04          1.0  578.550000  579.717300  544.494000  545.250000   \n",
       "2014-04-07          1.0  544.790000  549.850000  530.530000  540.630000   \n",
       "2014-04-08          1.0  545.050000  559.880000  544.700000  557.510000   \n",
       "2014-04-09          1.0  565.840000  567.800000  555.380000  567.040000   \n",
       "2014-04-10          1.0  568.000000  568.210000  545.500000  546.690000   \n",
       "\n",
       "            Adj. Volume  \n",
       "Date                     \n",
       "2014-04-01    2181000.0  \n",
       "2014-04-02    4168000.0  \n",
       "2014-04-03    4018300.0  \n",
       "2014-04-04    5363700.0  \n",
       "2014-04-07    3961600.0  \n",
       "2014-04-08    3482500.0  \n",
       "2014-04-09    3031600.0  \n",
       "2014-04-10    3294500.0  "
      ]
     },
     "execution_count": 11,
     "metadata": {},
     "output_type": "execute_result"
    }
   ],
   "source": [
    "df['2014-04-01':'2014-04-10']"
   ]
  }
 ],
 "metadata": {
  "kernelspec": {
   "display_name": "Python 3",
   "language": "python",
   "name": "python3"
  },
  "language_info": {
   "codemirror_mode": {
    "name": "ipython",
    "version": 3
   },
   "file_extension": ".py",
   "mimetype": "text/x-python",
   "name": "python",
   "nbconvert_exporter": "python",
   "pygments_lexer": "ipython3",
   "version": "3.6.5"
  }
 },
 "nbformat": 4,
 "nbformat_minor": 1
}
