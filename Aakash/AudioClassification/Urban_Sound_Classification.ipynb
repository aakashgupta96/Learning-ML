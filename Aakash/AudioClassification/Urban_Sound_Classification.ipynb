{
 "cells": [
  {
   "cell_type": "code",
   "execution_count": 2,
   "metadata": {
    "colab": {
     "autoexec": {
      "startup": false,
      "wait_interval": 0
     },
     "base_uri": "https://localhost:8080/",
     "height": 289
    },
    "colab_type": "code",
    "executionInfo": {
     "elapsed": 7450,
     "status": "ok",
     "timestamp": 1531120526966,
     "user": {
      "displayName": "Aakash Gupta",
      "photoUrl": "//lh4.googleusercontent.com/-De0R8HkWpuk/AAAAAAAAAAI/AAAAAAAAADU/GlEpw-gReUs/s50-c-k-no/photo.jpg",
      "userId": "103839159289670290298"
     },
     "user_tz": -330
    },
    "id": "89m5qGSPlmar",
    "outputId": "798ca853-f3c1-4d71-97ee-98d81d2fc8e6"
   },
   "outputs": [
    {
     "name": "stdout",
     "output_type": "stream",
     "text": [
      "Requirement already satisfied: librosa in /usr/local/lib/python3.6/dist-packages (0.6.1)\n",
      "Requirement already satisfied: scikit-learn!=0.19.0,>=0.14.0 in /usr/local/lib/python3.6/dist-packages (from librosa) (0.19.1)\n",
      "Requirement already satisfied: six>=1.3 in /usr/local/lib/python3.6/dist-packages (from librosa) (1.11.0)\n",
      "Requirement already satisfied: audioread>=2.0.0 in /usr/local/lib/python3.6/dist-packages (from librosa) (2.1.6)\n",
      "Requirement already satisfied: decorator>=3.0.0 in /usr/local/lib/python3.6/dist-packages (from librosa) (4.3.0)\n",
      "Requirement already satisfied: numpy>=1.8.0 in /usr/local/lib/python3.6/dist-packages (from librosa) (1.14.5)\n",
      "Requirement already satisfied: numba>=0.38.0 in /usr/local/lib/python3.6/dist-packages (from librosa) (0.38.1)\n",
      "Requirement already satisfied: resampy>=0.2.0 in /usr/local/lib/python3.6/dist-packages (from librosa) (0.2.1)\n",
      "Requirement already satisfied: scipy>=0.14.0 in /usr/local/lib/python3.6/dist-packages (from librosa) (0.19.1)\n",
      "Requirement already satisfied: joblib>=0.7.0 in /usr/local/lib/python3.6/dist-packages (from librosa) (0.12.0)\n",
      "Requirement already satisfied: llvmlite>=0.23.0dev0 in /usr/local/lib/python3.6/dist-packages (from numba>=0.38.0->librosa) (0.23.2)\n",
      "Reading package lists... Done\n",
      "Building dependency tree       \n",
      "Reading state information... Done\n",
      "ffmpeg is already the newest version (7:3.3.4-2).\n",
      "0 upgraded, 0 newly installed, 0 to remove and 6 not upgraded.\n"
     ]
    }
   ],
   "source": [
    "! pip install librosa\n",
    "! apt-get install ffmpeg"
   ]
  },
  {
   "cell_type": "code",
   "execution_count": 13,
   "metadata": {
    "colab": {
     "autoexec": {
      "startup": false,
      "wait_interval": 0
     },
     "base_uri": "https://localhost:8080/",
     "height": 17
    },
    "colab_type": "code",
    "executionInfo": {
     "elapsed": 996,
     "status": "ok",
     "timestamp": 1531123346495,
     "user": {
      "displayName": "Aakash Gupta",
      "photoUrl": "//lh4.googleusercontent.com/-De0R8HkWpuk/AAAAAAAAAAI/AAAAAAAAADU/GlEpw-gReUs/s50-c-k-no/photo.jpg",
      "userId": "103839159289670290298"
     },
     "user_tz": -330
    },
    "id": "Wurer8ykAWOx",
    "outputId": "1f140277-bce7-49fc-e9b1-7339738d9a2c"
   },
   "outputs": [],
   "source": [
    "import os\n",
    "import pandas as pd\n",
    "import librosa\n",
    "import glob \n",
    "import librosa.display\n",
    "import numpy as np\n",
    "from sklearn.cross_validation import train_test_split\n",
    "from keras.models import Sequential\n",
    "from keras.layers import Dense, Dropout\n",
    "from keras.utils import to_categorical"
   ]
  },
  {
   "cell_type": "code",
   "execution_count": 0,
   "metadata": {
    "colab": {
     "autoexec": {
      "startup": false,
      "wait_interval": 0
     }
    },
    "colab_type": "code",
    "id": "zah7VXREJ3AM"
   },
   "outputs": [],
   "source": [
    "! wget https://goo.gl/8hY5ER  \n",
    "! tar -xzf 8hY5ER"
   ]
  },
  {
   "cell_type": "code",
   "execution_count": 12,
   "metadata": {
    "colab": {
     "autoexec": {
      "startup": false,
      "wait_interval": 0
     },
     "base_uri": "https://localhost:8080/",
     "height": 37
    },
    "colab_type": "code",
    "executionInfo": {
     "elapsed": 971,
     "status": "ok",
     "timestamp": 1531120680171,
     "user": {
      "displayName": "Aakash Gupta",
      "photoUrl": "//lh4.googleusercontent.com/-De0R8HkWpuk/AAAAAAAAAAI/AAAAAAAAADU/GlEpw-gReUs/s50-c-k-no/photo.jpg",
      "userId": "103839159289670290298"
     },
     "user_tz": -330
    },
    "id": "kPLzpn2PiIQU",
    "outputId": "6b1045ee-6976-45be-aad6-f3ec05c6d9e3"
   },
   "outputs": [],
   "source": [
    "def load_audio_files(base_dir,folders,files_per_folder=200):\n",
    "  data = {}\n",
    "  sampling_rates = []\n",
    "  for folder in folders:\n",
    "    dir_path = base_dir + folder\n",
    "    files = os.listdir(dir_path)[0:files_per_folder]\n",
    "    for file in files:\n",
    "      file_path = dir_path + \"/\" + file\n",
    "      try:\n",
    "        audio_data, sampling_rate = librosa.load(file_path)\n",
    "        data[file] = audio_data\n",
    "        sampling_rates.append(sampling_rate)\n",
    "      except Exception as e: \n",
    "        print(\"Error encountered while parsing file: \", file)\n",
    "    print(folder, \" completed\")\n",
    "  return data,sampling_rates"
   ]
  },
  {
   "cell_type": "code",
   "execution_count": 13,
   "metadata": {
    "colab": {
     "autoexec": {
      "startup": false,
      "wait_interval": 0
     },
     "base_uri": "https://localhost:8080/",
     "height": 204
    },
    "colab_type": "code",
    "executionInfo": {
     "elapsed": 663165,
     "status": "ok",
     "timestamp": 1531121343901,
     "user": {
      "displayName": "Aakash Gupta",
      "photoUrl": "//lh4.googleusercontent.com/-De0R8HkWpuk/AAAAAAAAAAI/AAAAAAAAADU/GlEpw-gReUs/s50-c-k-no/photo.jpg",
      "userId": "103839159289670290298"
     },
     "user_tz": -330
    },
    "id": "9YEcn6Jvx_v9",
    "outputId": "012709cb-ec38-4cb1-cfa3-0a772bf8e250"
   },
   "outputs": [
    {
     "name": "stdout",
     "output_type": "stream",
     "text": [
      "fold3  completed\n",
      "fold7  completed\n",
      "fold1  completed\n",
      "fold8  completed\n",
      "fold10  completed\n",
      "fold2  completed\n",
      "fold4  completed\n",
      "fold6  completed\n",
      "fold9  completed\n",
      "fold5  completed\n",
      "2000\n"
     ]
    }
   ],
   "source": [
    "base_dir = \"UrbanSound8K/audio/\"\n",
    "folders = os.listdir(\"UrbanSound8K/audio/\")\n",
    "folders.remove(\".DS_Store\")\n",
    "data,s_rate = load_audio_files(base_dir,folders)\n",
    "print(len(data))"
   ]
  },
  {
   "cell_type": "code",
   "execution_count": 14,
   "metadata": {
    "colab": {
     "autoexec": {
      "startup": false,
      "wait_interval": 0
     },
     "base_uri": "https://localhost:8080/",
     "height": 37
    },
    "colab_type": "code",
    "executionInfo": {
     "elapsed": 1345,
     "status": "ok",
     "timestamp": 1531121345279,
     "user": {
      "displayName": "Aakash Gupta",
      "photoUrl": "//lh4.googleusercontent.com/-De0R8HkWpuk/AAAAAAAAAAI/AAAAAAAAADU/GlEpw-gReUs/s50-c-k-no/photo.jpg",
      "userId": "103839159289670290298"
     },
     "user_tz": -330
    },
    "id": "-rGYNbe3oFWz",
    "outputId": "ee7bbd1b-a6b1-4491-8e34-c3ff606cda5a"
   },
   "outputs": [],
   "source": [
    "salience = {}\n",
    "label = {}\n",
    "df = pd.read_csv(\"UrbanSound8K/metadata/UrbanSound8K.csv\")\n",
    "for i in range(df.shape[0]):\n",
    "  salience[df[\"slice_file_name\"][i]] = df[\"salience\"][i] - 1 # -1 to make it 0 or 1 labelled, currently it was 1 or 2\n",
    "  label[df[\"slice_file_name\"][i]] = df[\"classID\"][i]\n",
    "df = pd.DataFrame()\n",
    "sal = []\n",
    "lab = []\n",
    "for key in data.keys():\n",
    "  sal.append(salience[key])\n",
    "  lab.append(label[key])"
   ]
  },
  {
   "cell_type": "code",
   "execution_count": 15,
   "metadata": {
    "colab": {
     "autoexec": {
      "startup": false,
      "wait_interval": 0
     },
     "base_uri": "https://localhost:8080/",
     "height": 34
    },
    "colab_type": "code",
    "executionInfo": {
     "elapsed": 108499,
     "status": "ok",
     "timestamp": 1531121453879,
     "user": {
      "displayName": "Aakash Gupta",
      "photoUrl": "//lh4.googleusercontent.com/-De0R8HkWpuk/AAAAAAAAAAI/AAAAAAAAADU/GlEpw-gReUs/s50-c-k-no/photo.jpg",
      "userId": "103839159289670290298"
     },
     "user_tz": -330
    },
    "id": "JqFKi1yKQwTT",
    "outputId": "0fbdc0ad-c26d-47b3-9e80-2334d547e998"
   },
   "outputs": [
    {
     "data": {
      "text/plain": [
       "88200"
      ]
     },
     "execution_count": 15,
     "metadata": {
      "tags": []
     },
     "output_type": "execute_result"
    }
   ],
   "source": [
    "column_wise_values = []\n",
    "values = list(data.values())\n",
    "samples_len = len(values)\n",
    "for x in range(88200):\n",
    "  column = []\n",
    "  for y in range(samples_len):\n",
    "    if(x>values[y].shape[0]-1):\n",
    "      column.append(0)\n",
    "    else:\n",
    "      column.append(values[y][x])\n",
    "  column_wise_values.append(column)\n",
    "len(column_wise_values)"
   ]
  },
  {
   "cell_type": "code",
   "execution_count": 16,
   "metadata": {
    "colab": {
     "autoexec": {
      "startup": false,
      "wait_interval": 0
     },
     "base_uri": "https://localhost:8080/",
     "height": 37
    },
    "colab_type": "code",
    "executionInfo": {
     "elapsed": 18441,
     "status": "ok",
     "timestamp": 1531121472354,
     "user": {
      "displayName": "Aakash Gupta",
      "photoUrl": "//lh4.googleusercontent.com/-De0R8HkWpuk/AAAAAAAAAAI/AAAAAAAAADU/GlEpw-gReUs/s50-c-k-no/photo.jpg",
      "userId": "103839159289670290298"
     },
     "user_tz": -330
    },
    "id": "rZJFsZkpSsxq",
    "outputId": "3938d367-0cd8-4e1d-ab36-f137d741a5f3"
   },
   "outputs": [],
   "source": [
    "import numpy as np\n",
    "np_arr = np.array(column_wise_values) # will make array of 88200 * 2000\n",
    "np_arr = np.transpose(np_arr) # will make it in shape 2000 * 88200, each row represents one sample\n",
    "df = pd.DataFrame(np_arr)\n",
    "df[\"file_id\"] = data.keys()\n",
    "df[\"salience\"] = sal\n",
    "df[\"label\"] = lab"
   ]
  },
  {
   "cell_type": "code",
   "execution_count": 18,
   "metadata": {
    "colab": {
     "autoexec": {
      "startup": false,
      "wait_interval": 0
     },
     "base_uri": "https://localhost:8080/",
     "height": 37
    },
    "colab_type": "code",
    "executionInfo": {
     "elapsed": 10652,
     "status": "ok",
     "timestamp": 1531121497696,
     "user": {
      "displayName": "Aakash Gupta",
      "photoUrl": "//lh4.googleusercontent.com/-De0R8HkWpuk/AAAAAAAAAAI/AAAAAAAAADU/GlEpw-gReUs/s50-c-k-no/photo.jpg",
      "userId": "103839159289670290298"
     },
     "user_tz": -330
    },
    "id": "vF9agda5x7ru",
    "outputId": "1eff14dd-3350-42d5-b003-9b6bbc9e91c5"
   },
   "outputs": [],
   "source": [
    "file_to_store = \"200each.pkl\"\n",
    "df.to_pickle(file_to_store)"
   ]
  },
  {
   "cell_type": "code",
   "execution_count": 22,
   "metadata": {
    "colab": {
     "autoexec": {
      "startup": false,
      "wait_interval": 0
     },
     "base_uri": "https://localhost:8080/",
     "height": 343
    },
    "colab_type": "code",
    "executionInfo": {
     "elapsed": 35626,
     "status": "ok",
     "timestamp": 1531121883864,
     "user": {
      "displayName": "Aakash Gupta",
      "photoUrl": "//lh4.googleusercontent.com/-De0R8HkWpuk/AAAAAAAAAAI/AAAAAAAAADU/GlEpw-gReUs/s50-c-k-no/photo.jpg",
      "userId": "103839159289670290298"
     },
     "user_tz": -330
    },
    "id": "mUaGC3vn1gmr",
    "outputId": "e5891b68-1a6f-4776-d9a1-1c6aea9f6e00"
   },
   "outputs": [
    {
     "name": "stdout",
     "output_type": "stream",
     "text": [
      "Collecting boto3\n",
      "\u001b[?25l  Downloading https://files.pythonhosted.org/packages/a8/d1/6055755e183e53a31441d35191e3563b878c9f21b907a6360a664711568e/boto3-1.7.52-py2.py3-none-any.whl (128kB)\n",
      "\u001b[K    100% |████████████████████████████████| 133kB 3.9MB/s \n",
      "\u001b[?25hCollecting s3transfer<0.2.0,>=0.1.10 (from boto3)\n",
      "\u001b[?25l  Downloading https://files.pythonhosted.org/packages/d7/14/2a0004d487464d120c9fb85313a75cd3d71a7506955be458eebfe19a6b1d/s3transfer-0.1.13-py2.py3-none-any.whl (59kB)\n",
      "\u001b[K    100% |████████████████████████████████| 61kB 6.0MB/s \n",
      "\u001b[?25hCollecting jmespath<1.0.0,>=0.7.1 (from boto3)\n",
      "  Downloading https://files.pythonhosted.org/packages/b7/31/05c8d001f7f87f0f07289a5fc0fc3832e9a57f2dbd4d3b0fee70e0d51365/jmespath-0.9.3-py2.py3-none-any.whl\n",
      "Collecting botocore<1.11.0,>=1.10.52 (from boto3)\n",
      "\u001b[?25l  Downloading https://files.pythonhosted.org/packages/d6/6a/c860a1b7a2130654f9bf02d4503b6d2b0714dabf6f5aa5ffb584072b13b4/botocore-1.10.52-py2.py3-none-any.whl (4.4MB)\n",
      "\u001b[K    100% |████████████████████████████████| 4.4MB 5.8MB/s \n",
      "\u001b[?25hRequirement already satisfied: python-dateutil<3.0.0,>=2.1; python_version >= \"2.7\" in /usr/local/lib/python3.6/dist-packages (from botocore<1.11.0,>=1.10.52->boto3) (2.5.3)\n",
      "Collecting docutils>=0.10 (from botocore<1.11.0,>=1.10.52->boto3)\n",
      "\u001b[?25l  Downloading https://files.pythonhosted.org/packages/36/fa/08e9e6e0e3cbd1d362c3bbee8d01d0aedb2155c4ac112b19ef3cae8eed8d/docutils-0.14-py3-none-any.whl (543kB)\n",
      "\u001b[K    100% |████████████████████████████████| 552kB 14.9MB/s \n",
      "\u001b[?25hRequirement already satisfied: six>=1.5 in /usr/local/lib/python3.6/dist-packages (from python-dateutil<3.0.0,>=2.1; python_version >= \"2.7\"->botocore<1.11.0,>=1.10.52->boto3) (1.11.0)\n",
      "Installing collected packages: jmespath, docutils, botocore, s3transfer, boto3\n",
      "Successfully installed boto3-1.7.52 botocore-1.10.52 docutils-0.14 jmespath-0.9.3 s3transfer-0.1.13\n"
     ]
    }
   ],
   "source": [
    "! pip install boto3\n",
    "import boto3\n",
    "# Saving result with results of current model\n",
    "session = boto3.Session(aws_access_key_id=\"45W63QC247Y23GVZDFEN\",aws_secret_access_key=\"9rpr7dJCWRagc+gZyzKYmrXE2zuTzxzdCK8AxQQpJ7w\")\n",
    "s3 = session.resource('s3',endpoint_url=\"https://ams3.digitaloceanspaces.com\",region_name=\"ams3\")\n",
    "bucket = s3.Bucket(\"swarnimtouch\")\n",
    "with open(file_to_store, 'rb') as data:\n",
    "    bucket.upload_fileobj(data, file_to_store)\n",
    "object_acl = s3.ObjectAcl('swarnimtouch',file_to_store)\n",
    "response = object_acl.put(ACL='public-read')\n"
   ]
  },
  {
   "cell_type": "code",
   "execution_count": 20,
   "metadata": {
    "colab": {
     "autoexec": {
      "startup": false,
      "wait_interval": 0
     },
     "base_uri": "https://localhost:8080/",
     "height": 34
    },
    "colab_type": "code",
    "executionInfo": {
     "elapsed": 14565,
     "status": "ok",
     "timestamp": 1531121690235,
     "user": {
      "displayName": "Aakash Gupta",
      "photoUrl": "//lh4.googleusercontent.com/-De0R8HkWpuk/AAAAAAAAAAI/AAAAAAAAADU/GlEpw-gReUs/s50-c-k-no/photo.jpg",
      "userId": "103839159289670290298"
     },
     "user_tz": -330
    },
    "id": "uMQB6INI89aR",
    "outputId": "43bfc76a-e69e-4115-eeb7-f4de512c0c09"
   },
   "outputs": [
    {
     "data": {
      "text/plain": [
       "1.41124808"
      ]
     },
     "execution_count": 20,
     "metadata": {
      "tags": []
     },
     "output_type": "execute_result"
    }
   ],
   "source": [
    "df.info()"
   ]
  },
  {
   "cell_type": "markdown",
   "metadata": {
    "colab_type": "text",
    "id": "UEZeTdRe_IfQ"
   },
   "source": [
    "### Now we can simply download dataframe file without reading mp3/wav audio files"
   ]
  },
  {
   "cell_type": "code",
   "execution_count": 23,
   "metadata": {
    "colab": {
     "autoexec": {
      "startup": false,
      "wait_interval": 0
     },
     "base_uri": "https://localhost:8080/",
     "height": 224
    },
    "colab_type": "code",
    "executionInfo": {
     "elapsed": 56784,
     "status": "ok",
     "timestamp": 1531122157655,
     "user": {
      "displayName": "Aakash Gupta",
      "photoUrl": "//lh4.googleusercontent.com/-De0R8HkWpuk/AAAAAAAAAAI/AAAAAAAAADU/GlEpw-gReUs/s50-c-k-no/photo.jpg",
      "userId": "103839159289670290298"
     },
     "user_tz": -330
    },
    "id": "xl8ZkooE_PcG",
    "outputId": "d614ce7c-a6c8-4c78-921c-151f3acf7ddd"
   },
   "outputs": [
    {
     "name": "stdout",
     "output_type": "stream",
     "text": [
      "--2018-07-09 07:41:42--  https://swarnimtouch.ams3.digitaloceanspaces.com/200each.pkl\n",
      "Resolving swarnimtouch.ams3.digitaloceanspaces.com (swarnimtouch.ams3.digitaloceanspaces.com)... 5.101.110.225\n",
      "Connecting to swarnimtouch.ams3.digitaloceanspaces.com (swarnimtouch.ams3.digitaloceanspaces.com)|5.101.110.225|:443... connected.\n",
      "HTTP request sent, awaiting response... 200 OK\n",
      "Length: 1411890982 (1.3G) [binary/octet-stream]\n",
      "Saving to: ‘200each.pkl.1’\n",
      "\n",
      "200each.pkl.1        73%[=============>      ] 990.01M  26.2MB/s    eta 15s    200each.pkl.1       100%[===================>]   1.31G  26.6MB/s    in 54s     \n",
      "\n",
      "2018-07-09 07:42:37 (25.1 MB/s) - ‘200each.pkl.1’ saved [1411890982/1411890982]\n",
      "\n"
     ]
    }
   ],
   "source": [
    "! wget https://swarnimtouch.ams3.digitaloceanspaces.com/200each.pkl"
   ]
  },
  {
   "cell_type": "code",
   "execution_count": 2,
   "metadata": {
    "colab": {
     "autoexec": {
      "startup": false,
      "wait_interval": 0
     },
     "base_uri": "https://localhost:8080/",
     "height": 37
    },
    "colab_type": "code",
    "executionInfo": {
     "elapsed": 10829,
     "status": "ok",
     "timestamp": 1531123175004,
     "user": {
      "displayName": "Aakash Gupta",
      "photoUrl": "//lh4.googleusercontent.com/-De0R8HkWpuk/AAAAAAAAAAI/AAAAAAAAADU/GlEpw-gReUs/s50-c-k-no/photo.jpg",
      "userId": "103839159289670290298"
     },
     "user_tz": -330
    },
    "id": "jjPHXTBg_SoN",
    "outputId": "472ec234-7b58-4a45-ae3f-44fd59468d51"
   },
   "outputs": [],
   "source": [
    "df = pd.read_pickle(\"200each.pkl\")"
   ]
  },
  {
   "cell_type": "code",
   "execution_count": 3,
   "metadata": {
    "colab": {
     "autoexec": {
      "startup": false,
      "wait_interval": 0
     },
     "base_uri": "https://localhost:8080/",
     "height": 17
    },
    "colab_type": "code",
    "executionInfo": {
     "elapsed": 909,
     "status": "ok",
     "timestamp": 1531123175970,
     "user": {
      "displayName": "Aakash Gupta",
      "photoUrl": "//lh4.googleusercontent.com/-De0R8HkWpuk/AAAAAAAAAAI/AAAAAAAAADU/GlEpw-gReUs/s50-c-k-no/photo.jpg",
      "userId": "103839159289670290298"
     },
     "user_tz": -330
    },
    "id": "-EyWGEUVBdFX",
    "outputId": "20c57aba-db29-4c3a-9189-e0ff55414bd2"
   },
   "outputs": [],
   "source": [
    "cols = df.columns.tolist()\n",
    "cols.remove(\"file_id\")\n",
    "cols.remove(\"label\")"
   ]
  },
  {
   "cell_type": "code",
   "execution_count": 60,
   "metadata": {
    "colab": {
     "autoexec": {
      "startup": false,
      "wait_interval": 0
     },
     "base_uri": "https://localhost:8080/",
     "height": 17
    },
    "colab_type": "code",
    "executionInfo": {
     "elapsed": 315855,
     "status": "ok",
     "timestamp": 1531128679925,
     "user": {
      "displayName": "Aakash Gupta",
      "photoUrl": "//lh4.googleusercontent.com/-De0R8HkWpuk/AAAAAAAAAAI/AAAAAAAAADU/GlEpw-gReUs/s50-c-k-no/photo.jpg",
      "userId": "103839159289670290298"
     },
     "user_tz": -330
    },
    "id": "_kLcWWh8Dq8U",
    "outputId": "90c0000a-c10d-4af1-fe27-928089115d0c"
   },
   "outputs": [],
   "source": [
    "librosa_data_cols = list(cols)\n",
    "librosa_data_cols.remove(\"salience\")\n",
    "new_features = []\n",
    "for i in range(df.shape[0]):\n",
    "  d = df.iloc[i][librosa_data_cols].values.astype(\"float\")\n",
    "  new_features.append(np.mean(librosa.feature.mfcc(y=d, sr=22050, n_mfcc=40).T,axis=0))"
   ]
  },
  {
   "cell_type": "code",
   "execution_count": 67,
   "metadata": {
    "colab": {
     "autoexec": {
      "startup": false,
      "wait_interval": 0
     },
     "base_uri": "https://localhost:8080/",
     "height": 37
    },
    "colab_type": "code",
    "executionInfo": {
     "elapsed": 912,
     "status": "ok",
     "timestamp": 1531128810687,
     "user": {
      "displayName": "Aakash Gupta",
      "photoUrl": "//lh4.googleusercontent.com/-De0R8HkWpuk/AAAAAAAAAAI/AAAAAAAAADU/GlEpw-gReUs/s50-c-k-no/photo.jpg",
      "userId": "103839159289670290298"
     },
     "user_tz": -330
    },
    "id": "6mW-sGksXLuD",
    "outputId": "6e4ae2bb-247c-432e-a2f7-dd30f9783c86"
   },
   "outputs": [],
   "source": [
    "X = np.array(new_features)\n",
    "Y = df[\"label\"].iloc[:].values\n",
    "Y = to_categorical(Y,num_classes=10)"
   ]
  },
  {
   "cell_type": "code",
   "execution_count": 68,
   "metadata": {
    "colab": {
     "autoexec": {
      "startup": false,
      "wait_interval": 0
     },
     "base_uri": "https://localhost:8080/",
     "height": 37
    },
    "colab_type": "code",
    "executionInfo": {
     "elapsed": 923,
     "status": "ok",
     "timestamp": 1531128811806,
     "user": {
      "displayName": "Aakash Gupta",
      "photoUrl": "//lh4.googleusercontent.com/-De0R8HkWpuk/AAAAAAAAAAI/AAAAAAAAADU/GlEpw-gReUs/s50-c-k-no/photo.jpg",
      "userId": "103839159289670290298"
     },
     "user_tz": -330
    },
    "id": "qsoh5B7sVyuS",
    "outputId": "c0728cb6-d558-4ed3-8c66-6d8313085912"
   },
   "outputs": [],
   "source": [
    "X_train, X_test, Y_train, Y_test = train_test_split(X,Y,test_size=0.25,random_state=0)"
   ]
  },
  {
   "cell_type": "code",
   "execution_count": 69,
   "metadata": {
    "colab": {
     "autoexec": {
      "startup": false,
      "wait_interval": 0
     },
     "base_uri": "https://localhost:8080/",
     "height": 37
    },
    "colab_type": "code",
    "executionInfo": {
     "elapsed": 953,
     "status": "ok",
     "timestamp": 1531128813366,
     "user": {
      "displayName": "Aakash Gupta",
      "photoUrl": "//lh4.googleusercontent.com/-De0R8HkWpuk/AAAAAAAAAAI/AAAAAAAAADU/GlEpw-gReUs/s50-c-k-no/photo.jpg",
      "userId": "103839159289670290298"
     },
     "user_tz": -330
    },
    "id": "Iijzbyv7_fgI",
    "outputId": "418e82cb-fb4d-4092-8d5f-40dae32e82bc"
   },
   "outputs": [],
   "source": [
    "def create_model():\n",
    "  model = Sequential()\n",
    "  model.add(Dense(300,input_dim=40,activation=\"sigmoid\"))\n",
    "  model.add(Dropout(0.3))\n",
    "  model.add(Dense(400,activation=\"sigmoid\"))\n",
    "  model.add(Dropout(0.3))\n",
    "  model.add(Dense(300,activation=\"relu\"))\n",
    "  model.add(Dropout(0.3))\n",
    "  model.add(Dense(200,activation=\"sigmoid\"))\n",
    "  model.add(Dropout(0.3))\n",
    "  model.add(Dense(100,activation=\"sigmoid\"))\n",
    "  model.add(Dropout(0.3))\n",
    "  model.add(Dense(10,activation=\"softmax\"))\n",
    "  \n",
    "  model.compile(optimizer=\"adam\",loss='categorical_crossentropy',metrics=['accuracy'])\n",
    "  #model.summary()\n",
    "  return model"
   ]
  },
  {
   "cell_type": "code",
   "execution_count": 72,
   "metadata": {
    "colab": {
     "autoexec": {
      "startup": false,
      "wait_interval": 0
     },
     "base_uri": "https://localhost:8080/",
     "height": 3471
    },
    "colab_type": "code",
    "executionInfo": {
     "elapsed": 89398,
     "status": "ok",
     "timestamp": 1531128969742,
     "user": {
      "displayName": "Aakash Gupta",
      "photoUrl": "//lh4.googleusercontent.com/-De0R8HkWpuk/AAAAAAAAAAI/AAAAAAAAADU/GlEpw-gReUs/s50-c-k-no/photo.jpg",
      "userId": "103839159289670290298"
     },
     "user_tz": -330
    },
    "id": "_pDn6aQ9XYfd",
    "outputId": "9abae067-c9f3-4717-f119-92cce8e78f43"
   },
   "outputs": [
    {
     "name": "stdout",
     "output_type": "stream",
     "text": [
      "Train on 1500 samples, validate on 500 samples\n",
      "Epoch 1/100\n",
      "1500/1500 [==============================] - 3s 2ms/step - loss: 2.3814 - acc: 0.1053 - val_loss: 2.2813 - val_acc: 0.1060\n",
      "Epoch 2/100\n",
      "1500/1500 [==============================] - 1s 553us/step - loss: 2.2828 - acc: 0.1387 - val_loss: 2.2073 - val_acc: 0.1340\n",
      "Epoch 3/100\n",
      "1500/1500 [==============================] - 1s 454us/step - loss: 2.1312 - acc: 0.2013 - val_loss: 1.9389 - val_acc: 0.2560\n",
      "Epoch 4/100\n",
      "1500/1500 [==============================] - 1s 549us/step - loss: 1.9553 - acc: 0.2493 - val_loss: 1.7768 - val_acc: 0.3020\n",
      "Epoch 5/100\n",
      "1500/1500 [==============================] - 1s 534us/step - loss: 1.8199 - acc: 0.2887 - val_loss: 1.7222 - val_acc: 0.3220\n",
      "Epoch 6/100\n",
      "1500/1500 [==============================] - 1s 560us/step - loss: 1.7231 - acc: 0.3567 - val_loss: 1.7873 - val_acc: 0.3060\n",
      "Epoch 7/100\n",
      "1500/1500 [==============================] - 1s 536us/step - loss: 1.6982 - acc: 0.3373 - val_loss: 1.6214 - val_acc: 0.3620\n",
      "Epoch 8/100\n",
      "1500/1500 [==============================] - 1s 549us/step - loss: 1.5990 - acc: 0.3760 - val_loss: 1.6086 - val_acc: 0.3460\n",
      "Epoch 9/100\n",
      "1500/1500 [==============================] - 1s 468us/step - loss: 1.5425 - acc: 0.4113 - val_loss: 1.5260 - val_acc: 0.3800\n",
      "Epoch 10/100\n",
      " 960/1500 [==================>...........] - ETA: 0s - loss: 1.5380 - acc: 0.42711500/1500 [==============================] - 1s 538us/step - loss: 1.5437 - acc: 0.4147 - val_loss: 1.5051 - val_acc: 0.3920\n",
      "Epoch 11/100\n",
      "1500/1500 [==============================] - 1s 571us/step - loss: 1.4694 - acc: 0.4373 - val_loss: 1.4742 - val_acc: 0.4180\n",
      "Epoch 12/100\n",
      "1500/1500 [==============================] - 1s 543us/step - loss: 1.3917 - acc: 0.4860 - val_loss: 1.4260 - val_acc: 0.4460\n",
      "Epoch 13/100\n",
      "1500/1500 [==============================] - 1s 596us/step - loss: 1.3512 - acc: 0.4753 - val_loss: 1.3880 - val_acc: 0.4780\n",
      "Epoch 14/100\n",
      "1500/1500 [==============================] - 1s 544us/step - loss: 1.3287 - acc: 0.4947 - val_loss: 1.3626 - val_acc: 0.4780\n",
      "Epoch 15/100\n",
      "1500/1500 [==============================] - 1s 536us/step - loss: 1.2659 - acc: 0.5167 - val_loss: 1.3281 - val_acc: 0.4920\n",
      "Epoch 16/100\n",
      "1500/1500 [==============================] - 1s 531us/step - loss: 1.2998 - acc: 0.5233 - val_loss: 1.3281 - val_acc: 0.5080\n",
      "Epoch 17/100\n",
      "1500/1500 [==============================] - 1s 566us/step - loss: 1.2305 - acc: 0.5473 - val_loss: 1.2877 - val_acc: 0.5040\n",
      "Epoch 18/100\n",
      "1500/1500 [==============================] - 1s 565us/step - loss: 1.2256 - acc: 0.5520 - val_loss: 1.2126 - val_acc: 0.5080\n",
      "Epoch 19/100\n",
      "1312/1500 [=========================>....] - ETA: 0s - loss: 1.1528 - acc: 0.58161500/1500 [==============================] - 1s 548us/step - loss: 1.1547 - acc: 0.5827 - val_loss: 1.2339 - val_acc: 0.5280\n",
      "Epoch 20/100\n",
      "1500/1500 [==============================] - 1s 520us/step - loss: 1.1252 - acc: 0.6073 - val_loss: 1.2465 - val_acc: 0.5440\n",
      "Epoch 21/100\n",
      "1500/1500 [==============================] - 1s 576us/step - loss: 1.1162 - acc: 0.6033 - val_loss: 1.2272 - val_acc: 0.5280\n",
      "Epoch 22/100\n",
      "1500/1500 [==============================] - 1s 509us/step - loss: 1.0937 - acc: 0.6207 - val_loss: 1.1652 - val_acc: 0.5540\n",
      "Epoch 23/100\n",
      "1500/1500 [==============================] - 1s 559us/step - loss: 1.0628 - acc: 0.6040 - val_loss: 1.1633 - val_acc: 0.5620\n",
      "Epoch 24/100\n",
      "1500/1500 [==============================] - 1s 544us/step - loss: 1.0571 - acc: 0.6247 - val_loss: 1.1520 - val_acc: 0.5780\n",
      "Epoch 25/100\n",
      "1500/1500 [==============================] - 1s 584us/step - loss: 1.0093 - acc: 0.6380 - val_loss: 1.1474 - val_acc: 0.5800\n",
      "Epoch 26/100\n",
      "1500/1500 [==============================] - 1s 514us/step - loss: 1.0270 - acc: 0.6340 - val_loss: 1.1643 - val_acc: 0.5580\n",
      "Epoch 27/100\n",
      "1500/1500 [==============================] - 1s 524us/step - loss: 0.9785 - acc: 0.6613 - val_loss: 1.1570 - val_acc: 0.5600\n",
      "Epoch 28/100\n",
      "1344/1500 [=========================>....] - ETA: 0s - loss: 1.0261 - acc: 0.65031500/1500 [==============================] - 1s 562us/step - loss: 1.0226 - acc: 0.6540 - val_loss: 1.0944 - val_acc: 0.5940\n",
      "Epoch 29/100\n",
      "1500/1500 [==============================] - 1s 570us/step - loss: 0.9727 - acc: 0.6420 - val_loss: 1.1097 - val_acc: 0.6120\n",
      "Epoch 30/100\n",
      "1500/1500 [==============================] - 1s 515us/step - loss: 0.9365 - acc: 0.6620 - val_loss: 1.1255 - val_acc: 0.6120\n",
      "Epoch 31/100\n",
      "1500/1500 [==============================] - 1s 516us/step - loss: 0.9856 - acc: 0.6573 - val_loss: 1.0566 - val_acc: 0.6320\n",
      "Epoch 32/100\n",
      "1500/1500 [==============================] - 1s 509us/step - loss: 0.9195 - acc: 0.6780 - val_loss: 1.0869 - val_acc: 0.6160\n",
      "Epoch 33/100\n",
      "1500/1500 [==============================] - 1s 581us/step - loss: 0.9177 - acc: 0.6760 - val_loss: 1.0697 - val_acc: 0.6220\n",
      "Epoch 34/100\n",
      "1500/1500 [==============================] - 1s 539us/step - loss: 0.8652 - acc: 0.6980 - val_loss: 1.0357 - val_acc: 0.6340\n",
      "Epoch 35/100\n",
      "1500/1500 [==============================] - 1s 557us/step - loss: 0.8328 - acc: 0.7167 - val_loss: 1.0638 - val_acc: 0.6280\n",
      "Epoch 36/100\n",
      "1500/1500 [==============================] - 1s 532us/step - loss: 0.8827 - acc: 0.6987 - val_loss: 1.0698 - val_acc: 0.6520\n",
      "Epoch 37/100\n",
      "1500/1500 [==============================] - 1s 483us/step - loss: 0.8335 - acc: 0.7127 - val_loss: 1.0705 - val_acc: 0.6400\n",
      "Epoch 38/100\n",
      "1500/1500 [==============================] - 1s 595us/step - loss: 0.8156 - acc: 0.7340 - val_loss: 1.0110 - val_acc: 0.6620\n",
      "Epoch 39/100\n",
      "1500/1500 [==============================] - 1s 595us/step - loss: 0.8285 - acc: 0.7100 - val_loss: 1.0138 - val_acc: 0.6540\n",
      "Epoch 40/100\n",
      "1500/1500 [==============================] - 1s 572us/step - loss: 0.8140 - acc: 0.7287 - val_loss: 1.0613 - val_acc: 0.6540\n",
      "Epoch 41/100\n",
      "1500/1500 [==============================] - 1s 523us/step - loss: 0.7744 - acc: 0.7407 - val_loss: 1.0303 - val_acc: 0.6480\n",
      "Epoch 42/100\n",
      "1500/1500 [==============================] - 1s 580us/step - loss: 0.8062 - acc: 0.7160 - val_loss: 1.0088 - val_acc: 0.6640\n",
      "Epoch 43/100\n",
      "1500/1500 [==============================] - 1s 601us/step - loss: 0.7627 - acc: 0.7467 - val_loss: 1.0008 - val_acc: 0.6680\n",
      "Epoch 44/100\n",
      "1500/1500 [==============================] - 1s 533us/step - loss: 0.7180 - acc: 0.7613 - val_loss: 0.9650 - val_acc: 0.6980\n",
      "Epoch 45/100\n",
      "1500/1500 [==============================] - 1s 518us/step - loss: 0.7132 - acc: 0.7633 - val_loss: 1.0442 - val_acc: 0.6820\n",
      "Epoch 46/100\n",
      " 224/1500 [===>..........................] - ETA: 0s - loss: 0.7118 - acc: 0.77231500/1500 [==============================] - 1s 574us/step - loss: 0.7380 - acc: 0.7607 - val_loss: 1.0318 - val_acc: 0.6760\n",
      "Epoch 47/100\n",
      "1500/1500 [==============================] - 1s 482us/step - loss: 0.6991 - acc: 0.7633 - val_loss: 0.9905 - val_acc: 0.6720\n",
      "Epoch 48/100\n",
      "1500/1500 [==============================] - 1s 544us/step - loss: 0.7170 - acc: 0.7587 - val_loss: 0.9940 - val_acc: 0.6600\n",
      "Epoch 49/100\n",
      "1500/1500 [==============================] - 1s 588us/step - loss: 0.6881 - acc: 0.7653 - val_loss: 1.0628 - val_acc: 0.6580\n",
      "Epoch 50/100\n",
      "1500/1500 [==============================] - 1s 576us/step - loss: 0.7234 - acc: 0.7593 - val_loss: 1.0128 - val_acc: 0.6800\n",
      "Epoch 51/100\n",
      "1500/1500 [==============================] - 1s 582us/step - loss: 0.6714 - acc: 0.7693 - val_loss: 1.0196 - val_acc: 0.6820\n",
      "Epoch 52/100\n",
      "1500/1500 [==============================] - 1s 568us/step - loss: 0.6817 - acc: 0.7607 - val_loss: 0.9593 - val_acc: 0.6940\n",
      "Epoch 53/100\n",
      "1500/1500 [==============================] - 1s 508us/step - loss: 0.6318 - acc: 0.7867 - val_loss: 0.9497 - val_acc: 0.7020\n",
      "Epoch 54/100\n",
      "1500/1500 [==============================] - 1s 588us/step - loss: 0.6575 - acc: 0.7880 - val_loss: 0.9822 - val_acc: 0.6940\n",
      "Epoch 55/100\n",
      "1056/1500 [====================>.........] - ETA: 0s - loss: 0.6310 - acc: 0.79641500/1500 [==============================] - 1s 660us/step - loss: 0.6497 - acc: 0.7893 - val_loss: 1.0125 - val_acc: 0.7000\n",
      "Epoch 56/100\n",
      "1500/1500 [==============================] - 1s 602us/step - loss: 0.6297 - acc: 0.7920 - val_loss: 0.9619 - val_acc: 0.7120\n",
      "Epoch 57/100\n",
      "1500/1500 [==============================] - 1s 602us/step - loss: 0.6475 - acc: 0.7680 - val_loss: 0.9688 - val_acc: 0.7100\n",
      "Epoch 58/100\n",
      "1500/1500 [==============================] - 1s 580us/step - loss: 0.6619 - acc: 0.7920 - val_loss: 0.9654 - val_acc: 0.7020\n",
      "Epoch 59/100\n",
      "1500/1500 [==============================] - 1s 602us/step - loss: 0.6115 - acc: 0.7987 - val_loss: 0.9595 - val_acc: 0.6980\n",
      "Epoch 60/100\n",
      "1500/1500 [==============================] - 1s 606us/step - loss: 0.5989 - acc: 0.8020 - val_loss: 0.9557 - val_acc: 0.7120\n",
      "Epoch 61/100\n",
      "1500/1500 [==============================] - 1s 527us/step - loss: 0.6099 - acc: 0.7860 - val_loss: 0.9523 - val_acc: 0.6960\n",
      "Epoch 62/100\n",
      "1500/1500 [==============================] - 1s 599us/step - loss: 0.6202 - acc: 0.7880 - val_loss: 0.9183 - val_acc: 0.7080\n",
      "Epoch 63/100\n",
      "1500/1500 [==============================] - 1s 607us/step - loss: 0.5955 - acc: 0.8067 - val_loss: 0.9650 - val_acc: 0.7120\n",
      "Epoch 64/100\n"
     ]
    },
    {
     "name": "stdout",
     "output_type": "stream",
     "text": [
      " 768/1500 [==============>...............] - ETA: 0s - loss: 0.5770 - acc: 0.79951500/1500 [==============================] - 1s 578us/step - loss: 0.5832 - acc: 0.7987 - val_loss: 0.8816 - val_acc: 0.7340\n",
      "Epoch 65/100\n",
      "1500/1500 [==============================] - 1s 635us/step - loss: 0.5740 - acc: 0.8200 - val_loss: 0.9436 - val_acc: 0.7260\n",
      "Epoch 66/100\n",
      "1500/1500 [==============================] - 1s 576us/step - loss: 0.5644 - acc: 0.8133 - val_loss: 0.9532 - val_acc: 0.7260\n",
      "Epoch 67/100\n",
      "1500/1500 [==============================] - 1s 629us/step - loss: 0.5638 - acc: 0.8147 - val_loss: 0.9829 - val_acc: 0.7020\n",
      "Epoch 68/100\n",
      "1500/1500 [==============================] - 1s 544us/step - loss: 0.5366 - acc: 0.8333 - val_loss: 0.9437 - val_acc: 0.7180\n",
      "Epoch 69/100\n",
      "1500/1500 [==============================] - 1s 555us/step - loss: 0.5735 - acc: 0.8053 - val_loss: 0.8920 - val_acc: 0.7260\n",
      "Epoch 70/100\n",
      "1500/1500 [==============================] - 1s 665us/step - loss: 0.4911 - acc: 0.8407 - val_loss: 0.8938 - val_acc: 0.7380\n",
      "Epoch 71/100\n",
      "1500/1500 [==============================] - 1s 609us/step - loss: 0.5467 - acc: 0.8173 - val_loss: 0.9685 - val_acc: 0.7080\n",
      "Epoch 72/100\n",
      "1500/1500 [==============================] - 1s 626us/step - loss: 0.5489 - acc: 0.8227 - val_loss: 0.9450 - val_acc: 0.7260\n",
      "Epoch 73/100\n",
      " 480/1500 [========>.....................] - ETA: 0s - loss: 0.4922 - acc: 0.84171500/1500 [==============================] - 1s 651us/step - loss: 0.5313 - acc: 0.8147 - val_loss: 0.9665 - val_acc: 0.7180\n",
      "Epoch 74/100\n",
      "1500/1500 [==============================] - 1s 608us/step - loss: 0.5105 - acc: 0.8380 - val_loss: 0.9191 - val_acc: 0.7300\n",
      "Epoch 75/100\n",
      "1500/1500 [==============================] - 1s 571us/step - loss: 0.5326 - acc: 0.8227 - val_loss: 0.9505 - val_acc: 0.7220\n",
      "Epoch 76/100\n",
      "1500/1500 [==============================] - 1s 506us/step - loss: 0.5478 - acc: 0.8320 - val_loss: 0.9390 - val_acc: 0.7120\n",
      "Epoch 77/100\n",
      "1500/1500 [==============================] - 1s 579us/step - loss: 0.5288 - acc: 0.8133 - val_loss: 0.8894 - val_acc: 0.7460\n",
      "Epoch 78/100\n",
      "1500/1500 [==============================] - 1s 546us/step - loss: 0.5082 - acc: 0.8287 - val_loss: 0.8893 - val_acc: 0.7580\n",
      "Epoch 79/100\n",
      "1500/1500 [==============================] - 1s 582us/step - loss: 0.4879 - acc: 0.8387 - val_loss: 0.9173 - val_acc: 0.7380\n",
      "Epoch 80/100\n",
      "1500/1500 [==============================] - 1s 612us/step - loss: 0.4914 - acc: 0.8440 - val_loss: 0.9856 - val_acc: 0.7300\n",
      "Epoch 81/100\n",
      "1500/1500 [==============================] - 1s 570us/step - loss: 0.4830 - acc: 0.8353 - val_loss: 0.9635 - val_acc: 0.7220\n",
      "Epoch 82/100\n",
      " 832/1500 [===============>..............] - ETA: 0s - loss: 0.4907 - acc: 0.83291500/1500 [==============================] - 1s 621us/step - loss: 0.4824 - acc: 0.8387 - val_loss: 0.9712 - val_acc: 0.7200\n",
      "Epoch 83/100\n",
      "1500/1500 [==============================] - 1s 597us/step - loss: 0.5029 - acc: 0.8287 - val_loss: 0.9077 - val_acc: 0.7380\n",
      "Epoch 84/100\n",
      "1500/1500 [==============================] - 1s 542us/step - loss: 0.4930 - acc: 0.8420 - val_loss: 0.8895 - val_acc: 0.7480\n",
      "Epoch 85/100\n",
      "1500/1500 [==============================] - 1s 592us/step - loss: 0.4616 - acc: 0.8460 - val_loss: 0.9293 - val_acc: 0.7400\n",
      "Epoch 86/100\n",
      "1500/1500 [==============================] - 1s 607us/step - loss: 0.4969 - acc: 0.8287 - val_loss: 0.9399 - val_acc: 0.7380\n",
      "Epoch 87/100\n",
      "1500/1500 [==============================] - 1s 634us/step - loss: 0.4496 - acc: 0.8513 - val_loss: 0.9161 - val_acc: 0.7360\n",
      "Epoch 88/100\n",
      "1500/1500 [==============================] - 1s 610us/step - loss: 0.4659 - acc: 0.8433 - val_loss: 0.9371 - val_acc: 0.7380\n",
      "Epoch 89/100\n",
      "1500/1500 [==============================] - 1s 629us/step - loss: 0.4121 - acc: 0.8640 - val_loss: 0.8941 - val_acc: 0.7480\n",
      "Epoch 90/100\n",
      "1500/1500 [==============================] - 1s 585us/step - loss: 0.4578 - acc: 0.8580 - val_loss: 0.9050 - val_acc: 0.7580\n",
      "Epoch 91/100\n",
      " 544/1500 [=========>....................] - ETA: 0s - loss: 0.4884 - acc: 0.84011500/1500 [==============================] - 1s 613us/step - loss: 0.4659 - acc: 0.8480 - val_loss: 0.9452 - val_acc: 0.7420\n",
      "Epoch 92/100\n",
      "1500/1500 [==============================] - 1s 597us/step - loss: 0.4556 - acc: 0.8533 - val_loss: 0.9477 - val_acc: 0.7360\n",
      "Epoch 93/100\n",
      "1500/1500 [==============================] - 1s 569us/step - loss: 0.4243 - acc: 0.8453 - val_loss: 0.9289 - val_acc: 0.7440\n",
      "Epoch 94/100\n",
      "1500/1500 [==============================] - 1s 557us/step - loss: 0.4745 - acc: 0.8467 - val_loss: 0.9173 - val_acc: 0.7320\n",
      "Epoch 95/100\n",
      "1500/1500 [==============================] - 1s 553us/step - loss: 0.4366 - acc: 0.8560 - val_loss: 0.9841 - val_acc: 0.7440\n",
      "Epoch 96/100\n",
      "1500/1500 [==============================] - 1s 567us/step - loss: 0.4564 - acc: 0.8467 - val_loss: 0.9576 - val_acc: 0.7320\n",
      "Epoch 97/100\n",
      "1500/1500 [==============================] - 1s 615us/step - loss: 0.4119 - acc: 0.8620 - val_loss: 0.9098 - val_acc: 0.7540\n",
      "Epoch 98/100\n",
      "1500/1500 [==============================] - 1s 607us/step - loss: 0.4303 - acc: 0.8553 - val_loss: 0.9730 - val_acc: 0.7420\n",
      "Epoch 99/100\n",
      "1500/1500 [==============================] - 1s 511us/step - loss: 0.3864 - acc: 0.8747 - val_loss: 0.9449 - val_acc: 0.7400\n",
      "Epoch 100/100\n",
      " 896/1500 [================>.............] - ETA: 0s - loss: 0.3988 - acc: 0.86831500/1500 [==============================] - 1s 595us/step - loss: 0.4254 - acc: 0.8580 - val_loss: 0.9687 - val_acc: 0.7460\n"
     ]
    },
    {
     "data": {
      "text/plain": [
       "<keras.callbacks.History at 0x7f04c8313908>"
      ]
     },
     "execution_count": 72,
     "metadata": {
      "tags": []
     },
     "output_type": "execute_result"
    }
   ],
   "source": [
    "model = create_model()\n",
    "model.fit(X_train,Y_train,epochs=100,validation_data=(X_test,Y_test))"
   ]
  },
  {
   "cell_type": "code",
   "execution_count": 78,
   "metadata": {
    "colab": {
     "autoexec": {
      "startup": false,
      "wait_interval": 0
     },
     "base_uri": "https://localhost:8080/",
     "height": 476
    },
    "colab_type": "code",
    "executionInfo": {
     "elapsed": 2202,
     "status": "ok",
     "timestamp": 1531132840915,
     "user": {
      "displayName": "Aakash Gupta",
      "photoUrl": "//lh4.googleusercontent.com/-De0R8HkWpuk/AAAAAAAAAAI/AAAAAAAAADU/GlEpw-gReUs/s50-c-k-no/photo.jpg",
      "userId": "103839159289670290298"
     },
     "user_tz": -330
    },
    "id": "Yib8_VDcn9Q-",
    "outputId": "18c06816-91e9-4bbd-e303-110e94a2ffb7"
   },
   "outputs": [
    {
     "name": "stdout",
     "output_type": "stream",
     "text": [
      "adduser.conf\t\thost.conf      mime.types     rc6.d\r\n",
      "alternatives\t\thostname       mke2fs.conf    rcS.d\r\n",
      "apt\t\t\thosts\t       mtab\t      resolv.conf\r\n",
      "bash.bashrc\t\thosts.allow    networks       rmt\r\n",
      "bash_completion.d\thosts.deny     nsswitch.conf  securetty\r\n",
      "bindresvport.blacklist\tinit.d\t       openal\t      security\r\n",
      "ca-certificates\t\tinputrc        opt\t      selinux\r\n",
      "ca-certificates.conf\tipython        os-release     sensors3.conf\r\n",
      "cron.daily\t\tissue\t       pam.conf       sensors.d\r\n",
      "cron.weekly\t\tissue.net      pam.d\t      shadow\r\n",
      "dbus-1\t\t\tjupyter        passwd\t      shadow-\r\n",
      "debconf.conf\t\tkernel\t       passwd-\t      shells\r\n",
      "debian_version\t\tldap\t       perl\t      skel\r\n",
      "default\t\t\tld.so.cache    pip.conf       ssh\r\n",
      "deluser.conf\t\tld.so.conf     profile\t      ssl\r\n",
      "dpkg\t\t\tld.so.conf.d   profile.d      subgid\r\n",
      "drirc\t\t\tlegal\t       pulse\t      subuid\r\n",
      "environment\t\tlibaudit.conf  python\t      sysctl.conf\r\n",
      "ffserver.conf\t\tlocale.alias   python2.7      sysctl.d\r\n",
      "fonts\t\t\tlocale.gen     python3\t      systemd\r\n",
      "fstab\t\t\tlocaltime      python3.6      terminfo\r\n",
      "gai.conf\t\tlogin.defs     rc0.d\t      timezone\r\n",
      "group\t\t\tlogrotate.d    rc1.d\t      ucf.conf\r\n",
      "group-\t\t\tlsb-release    rc2.d\t      update-motd.d\r\n",
      "gshadow\t\t\tmachine-id     rc3.d\t      vdpau_wrapper.cfg\r\n",
      "gshadow-\t\tmailcap        rc4.d\t      wgetrc\r\n",
      "gss\t\t\tmailcap.order  rc5.d\t      X11\r\n"
     ]
    }
   ],
   "source": [
    "! cd /etc ; ls"
   ]
  },
  {
   "cell_type": "code",
   "execution_count": 0,
   "metadata": {
    "colab": {
     "autoexec": {
      "startup": false,
      "wait_interval": 0
     }
    },
    "colab_type": "code",
    "id": "EcBVm3YPn-JG"
   },
   "outputs": [],
   "source": []
  }
 ],
 "metadata": {
  "accelerator": "GPU",
  "colab": {
   "collapsed_sections": [],
   "default_view": {},
   "name": "Urban Sound Classification.ipynb",
   "provenance": [],
   "version": "0.3.2",
   "views": {}
  },
  "kernelspec": {
   "display_name": "Python 3",
   "language": "python",
   "name": "python3"
  },
  "language_info": {
   "codemirror_mode": {
    "name": "ipython",
    "version": 3
   },
   "file_extension": ".py",
   "mimetype": "text/x-python",
   "name": "python",
   "nbconvert_exporter": "python",
   "pygments_lexer": "ipython3",
   "version": "3.6.6"
  }
 },
 "nbformat": 4,
 "nbformat_minor": 1
}
