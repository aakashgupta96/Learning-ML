{
 "cells": [
  {
   "cell_type": "code",
   "execution_count": 1,
   "metadata": {},
   "outputs": [],
   "source": [
    "import os\n",
    "import collections\n",
    "import csv"
   ]
  },
  {
   "cell_type": "code",
   "execution_count": 20,
   "metadata": {},
   "outputs": [],
   "source": [
    "base_dir = \"/home/aakash/Drive/Dropbox/ML\"\n",
    "class_names = os.listdir(base_dir + '/data/20_newsgroups')\n",
    "features = set()"
   ]
  },
  {
   "cell_type": "code",
   "execution_count": 21,
   "metadata": {},
   "outputs": [],
   "source": [
    "full_text = \"\"\n",
    "for c in class_names:\n",
    "    class_dir = base_dir + \"/data/20_newsgroups/\" + c\n",
    "    for filename in os.listdir(class_dir):\n",
    "        current_file = class_dir + \"/\" + filename\n",
    "        f = open(current_file, encoding = \"ISO-8859-1\")\n",
    "        file_text = f.read()\n",
    "        full_text = full_text + \" \" + file_text\n",
    "print(len(full_text))"
   ]
  },
  {
   "cell_type": "code",
   "execution_count": 25,
   "metadata": {},
   "outputs": [],
   "source": [
    "word_map = collections.Counter(full_text.split())"
   ]
  },
  {
   "cell_type": "code",
   "execution_count": 42,
   "metadata": {},
   "outputs": [],
   "source": [
    "with open('dict.csv', 'w') as csv_file:\n",
    "    headers = [\"word\",\"frequency\"]\n",
    "    writer = csv.writer(csv_file)\n",
    "    writer.writerow(headers)\n",
    "    for key,value in word_map.items():\n",
    "        writer.writerow([key,value]) "
   ]
  },
  {
   "cell_type": "code",
   "execution_count": null,
   "metadata": {},
   "outputs": [],
   "source": [
    "with open('dict.csv','r') as csv_file:\n",
    "    reader = csv.reader(csv_file)\n",
    "    "
   ]
  }
 ],
 "metadata": {
  "kernelspec": {
   "display_name": "Python 3",
   "language": "python",
   "name": "python3"
  },
  "language_info": {
   "codemirror_mode": {
    "name": "ipython",
    "version": 3
   },
   "file_extension": ".py",
   "mimetype": "text/x-python",
   "name": "python",
   "nbconvert_exporter": "python",
   "pygments_lexer": "ipython3",
   "version": "3.6.4"
  }
 },
 "nbformat": 4,
 "nbformat_minor": 2
}
