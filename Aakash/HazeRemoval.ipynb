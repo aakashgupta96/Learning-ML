{
 "cells": [
  {
   "cell_type": "code",
   "execution_count": 1,
   "metadata": {},
   "outputs": [],
   "source": [
    "import cv2\n",
    "import numpy as np"
   ]
  },
  {
   "cell_type": "code",
   "execution_count": 2,
   "metadata": {},
   "outputs": [],
   "source": [
    "bgr = cv2.imread('../data/HazeRemoval/tree.png',1)\n",
    "gsc = cv2.imread('../data/HazeRemoval/tree.png',0)\n",
    "hsv = cv2.cvtColor(bgr, cv2.COLOR_BGR2HSV)"
   ]
  },
  {
   "cell_type": "code",
   "execution_count": null,
   "metadata": {},
   "outputs": [],
   "source": [
    "cv2.imshow('image',bgr)\n",
    "cv2.waitKey(0)\n",
    "cv2.destroyAllWindows()"
   ]
  },
  {
   "cell_type": "code",
   "execution_count": 19,
   "metadata": {},
   "outputs": [],
   "source": [
    "# r = 100\n",
    "# diff = np.zeros((hsv.shape[0],hsv.shape[1]))\n",
    "# for i in range(0,diff.shape[0]):\n",
    "#     for j in range(0,diff.shape[1]):\n",
    "#         min_x = max(0,i-(r//2))\n",
    "#         max_x = min(diff.shape[0]-1,i+(r//2))\n",
    "#         min_y = max(0,j-(r//2))\n",
    "#         max_y = min(diff.shape[1]-1,j+(r//2))\n",
    "#         diff[i][j] = (hsv[min_x:max_x+1,min_y:max_y+1,2] - hsv[min_x:max_x+1,min_y:max_y+1,1]).mean()\n",
    "# max_diff = diff.max()\n",
    "# min_diff = diff.min()\n",
    "# scale = max_diff - min_diff\n",
    "# diff = diff.astype(float)\n",
    "# diff[:,:] = 1-((diff[:,:] - min_diff)/scale)\n",
    "# diff[:,:] = diff[:,:] * 255\n",
    "# diff = np.uint8(diff)"
   ]
  },
  {
   "cell_type": "code",
   "execution_count": 54,
   "metadata": {},
   "outputs": [],
   "source": [
    "s = hsv[:,:,1]\n",
    "v = hsv[:,:,2]\n",
    "sigma = 0.041337\n",
    "mean = 0\n",
    "sigmaMat = np.random.normal(mean,sigma,(hsv.shape[0],hsv.shape[1]))\n",
    "output = 0.121779 + 0.959710*v  - 0.780245*s + sigmaMat;\n",
    "#output = 0.1893 + 1.0267*v  - 1.2966*s + sigmaMat "
   ]
  },
  {
   "cell_type": "code",
   "execution_count": 55,
   "metadata": {},
   "outputs": [],
   "source": [
    "# Scaling output in 0 to 255\n",
    "scale = output.max() - output.min()\n",
    "output = output - output.min()\n",
    "output = output/output.max()\n",
    "output = output * 255\n",
    "output = np.uint8(output)"
   ]
  },
  {
   "cell_type": "code",
   "execution_count": 56,
   "metadata": {},
   "outputs": [],
   "source": [
    "kernel = np.ones((15,15),np.uint8)\n",
    "erosion = cv2.erode((output),kernel,iterations = 1)"
   ]
  },
  {
   "cell_type": "code",
   "execution_count": null,
   "metadata": {},
   "outputs": [],
   "source": [
    "cv2.imshow(\"Erosion Map\",erosion)\n",
    "#cv2.imshow(\"Original\",output)\n",
    "cv2.waitKey(100000)\n",
    "cv2.destroyAllWindows()"
   ]
  },
  {
   "cell_type": "code",
   "execution_count": null,
   "metadata": {},
   "outputs": [],
   "source": []
  },
  {
   "cell_type": "code",
   "execution_count": null,
   "metadata": {},
   "outputs": [],
   "source": []
  }
 ],
 "metadata": {
  "kernelspec": {
   "display_name": "Python 3",
   "language": "python",
   "name": "python3"
  },
  "language_info": {
   "codemirror_mode": {
    "name": "ipython",
    "version": 3
   },
   "file_extension": ".py",
   "mimetype": "text/x-python",
   "name": "python",
   "nbconvert_exporter": "python",
   "pygments_lexer": "ipython3",
   "version": "3.6.4"
  }
 },
 "nbformat": 4,
 "nbformat_minor": 2
}
