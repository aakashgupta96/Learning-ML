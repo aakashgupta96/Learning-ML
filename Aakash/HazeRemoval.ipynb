{
 "cells": [
  {
   "cell_type": "code",
   "execution_count": 73,
   "metadata": {},
   "outputs": [],
   "source": [
    "import cv2\n",
    "import numpy as np\n",
    "import colorsys"
   ]
  },
  {
   "cell_type": "code",
   "execution_count": 74,
   "metadata": {},
   "outputs": [],
   "source": [
    "bgr = cv2.imread('../data/HazeRemoval/3.jpg',1)\n",
    "gsc = cv2.imread('../data/HazeRemoval/3.jpg',0)\n",
    "hsv = cv2.cvtColor(bgr, cv2.COLOR_BGR2HSV)"
   ]
  },
  {
   "cell_type": "code",
   "execution_count": 75,
   "metadata": {},
   "outputs": [],
   "source": [
    "cv2.imshow('image',bgr)\n",
    "cv2.waitKey(10000)\n",
    "cv2.destroyAllWindows()"
   ]
  },
  {
   "cell_type": "code",
   "execution_count": 76,
   "metadata": {},
   "outputs": [],
   "source": [
    "s = hsv[:,:,1]\n",
    "v = hsv[:,:,2]\n",
    "sigma = 0.05\n",
    "mean = 0\n",
    "r = 15\n",
    "beta = 1\n",
    "sigmaMat = np.random.normal(mean,sigma,(hsv.shape[0],hsv.shape[1]))\n",
    "#output = 0.121779 + 0.959710*v  - 0.780245*s + sigmaMat;\n",
    "output = 0.1893 + 1.0267*v  - 1.2966*s + sigmaMat \n",
    "\n",
    "# Scaling output in 0 to 255\n",
    "original_output = output.copy()\n",
    "scale = output.max() - output.min()\n",
    "output = output - output.min()\n",
    "output = output/output.max()\n",
    "output = output * 255\n",
    "output = np.uint8(output)\n",
    "\n",
    "# temp = np.zeros(output.shape)\n",
    "# for i in range(0,temp.shape[0]):\n",
    "#     for j in range(0,temp.shape[1]):\n",
    "#         min_x = max(0,i-(r//2))\n",
    "#         max_x = min(temp.shape[0]-1,i+(r//2))\n",
    "#         min_y = max(0,j-(r//2))\n",
    "#         max_y = min(temp.shape[1]-1,j+(r//2))\n",
    "#         temp[i][j] = (output[min_x:max_x+1,min_y:max_y+1]).min()\n",
    "# temp = np.uint8(temp)\n",
    "\n",
    "kernel = np.ones((r,r),np.uint8)\n",
    "depthMap = cv2.erode(output,kernel,iterations = 1)"
   ]
  },
  {
   "cell_type": "code",
   "execution_count": 77,
   "metadata": {},
   "outputs": [],
   "source": [
    "cv2.imshow(\"Original Output\",depthMap)\n",
    "cv2.waitKey(100000)\n",
    "cv2.destroyAllWindows()"
   ]
  },
  {
   "cell_type": "code",
   "execution_count": 78,
   "metadata": {},
   "outputs": [],
   "source": [
    "r_for_guiding = r*r\n",
    "redefinedDepthMap = np.uint8(cv2.ximgproc.guidedFilter(bgr,depthMap,r_for_guiding,0.001))"
   ]
  },
  {
   "cell_type": "code",
   "execution_count": 79,
   "metadata": {},
   "outputs": [],
   "source": [
    "cv2.imshow(\"Refined Depth Map\",redefinedDepthMap)\n",
    "cv2.waitKey(100000)\n",
    "cv2.destroyAllWindows()"
   ]
  },
  {
   "cell_type": "code",
   "execution_count": 80,
   "metadata": {},
   "outputs": [],
   "source": [
    "tR = np.exp(-beta*redefinedDepthMap/255)"
   ]
  },
  {
   "cell_type": "code",
   "execution_count": 81,
   "metadata": {},
   "outputs": [],
   "source": [
    "#Changing tr to stay in range 0.1 to 0.9\n",
    "tr = np.zeros(tR.shape)\n",
    "for i in range(0,tR.shape[0]):\n",
    "    for j in range(0,tR.shape[1]):\n",
    "        tr[i][j] = min(max(0.1,tR[i][j]),0.9)"
   ]
  },
  {
   "cell_type": "code",
   "execution_count": 82,
   "metadata": {},
   "outputs": [],
   "source": [
    "#Estimating A using refined depth map\n",
    "#Intensity of pixel with high depth value and high intensity can be estimated as atmospheric light\n",
    "# depth_and_intensity = np.zeros((redefinedDepthMap.shape[0],redefinedDepthMap.shape[1],2))\n",
    "# for i in range(0,depth_and_intensity.shape[0]):\n",
    "#     for j in range(0,depth_and_intensity.shape[1]):\n",
    "#         depth_and_intensity[i][j] = [redefinedDepthMap[i][j],hsv[i][j][2]]\n",
    "\n",
    "#Candidates are top 0.1% pixels with max depth\n",
    "#a = hsv[hsv[:,:,2] == hsv[:,:,2].max()][0]\n",
    "A = [255,255,255]"
   ]
  },
  {
   "cell_type": "code",
   "execution_count": 83,
   "metadata": {},
   "outputs": [],
   "source": [
    "I = np.zeros((tr.shape[0],tr.shape[1],3))\n",
    "for i in range(0,tr.shape[0]):\n",
    "    for j in range(0,tr.shape[1]):\n",
    "        temp = bgr[i][j] - A\n",
    "        temp = ((temp)/tr[i][j])\n",
    "        #print(np.uint8(temp))\n",
    "        I[i][j] = temp + A\n",
    "I = np.uint8(abs(I))"
   ]
  },
  {
   "cell_type": "code",
   "execution_count": 84,
   "metadata": {},
   "outputs": [],
   "source": [
    "cv2.imshow(\"Refined Depth Map\",I)\n",
    "cv2.waitKey(100000)\n",
    "cv2.destroyAllWindows()"
   ]
  }
 ],
 "metadata": {
  "kernelspec": {
   "display_name": "Python 3",
   "language": "python",
   "name": "python3"
  },
  "language_info": {
   "codemirror_mode": {
    "name": "ipython",
    "version": 3
   },
   "file_extension": ".py",
   "mimetype": "text/x-python",
   "name": "python",
   "nbconvert_exporter": "python",
   "pygments_lexer": "ipython3",
   "version": "3.6.4"
  }
 },
 "nbformat": 4,
 "nbformat_minor": 2
}
