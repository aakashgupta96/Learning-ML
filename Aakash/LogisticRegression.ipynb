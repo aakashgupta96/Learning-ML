{
 "cells": [
  {
   "cell_type": "code",
   "execution_count": 1,
   "metadata": {},
   "outputs": [],
   "source": [
    "import pandas as pd\n",
    "import numpy as np\n",
    "import sklearn.datasets as Datasets\n",
    "from sklearn.linear_model import LinearRegression\n",
    "import sklearn.model_selection as cv\n",
    "import matplotlib.pyplot as plt\n",
    "from matplotlib import style"
   ]
  },
  {
   "cell_type": "code",
   "execution_count": 2,
   "metadata": {},
   "outputs": [],
   "source": [
    "def sigmoid(theta,X):\n",
    "    mx = np.matmul(X,theta) #(n,1) \n",
    "    return (1/(1 + np.exp(-mx)))"
   ]
  },
  {
   "cell_type": "code",
   "execution_count": 3,
   "metadata": {},
   "outputs": [],
   "source": [
    "def costLogistic(theta,X,Y):\n",
    "    hypothesis = sigmoid(theta,X)\n",
    "    a = Y*np.log(hypothesis)\n",
    "    b = (1-Y)*np.log(1-hypothesis)\n",
    "    return -(a+b).sum()/(X.shape[0])"
   ]
  },
  {
   "cell_type": "code",
   "execution_count": 4,
   "metadata": {},
   "outputs": [],
   "source": [
    "#Expects 2D X_train of shape (n,fc) and 1D Y_train of shape (n,)\n",
    "\n",
    "def fitGradientDescent(X_train,Y_train,learning_rate=0.001,tolerance=0.000001,max_iterations=1000): #X_train can be np 2D array\n",
    "    n,fc = X_train.shape #fc is feature_count, n is no.of training samples\n",
    "    #Setting x[0] as 1s\n",
    "    X_train = np.c_[np.ones(n),X_train]\n",
    "    #Now X_train's shape is (n,fc+1)\n",
    "    Y_train = Y_train.reshape((len(Y_train),1))\n",
    "    #Initializing theta with shape (fc+1,1)\n",
    "    theta = np.zeros((fc+1,1))\n",
    "    #print(\"X shape is \",X_train.shape)\n",
    "    #print(\"theta shape is \",theta.shape)\n",
    "    \n",
    "    cost_values = []\n",
    "    iterations = []\n",
    "    count = 0\n",
    "    cost = costLogistic(theta,X_train,Y_train)\n",
    "    \n",
    "    delta_error = cost\n",
    "    while(delta_error > tolerance and count <= max_iterations):\n",
    "        #Updating parameters based on formula and maths\n",
    "        hypothesis = sigmoid(theta,X_train)\n",
    "        error = Y_train - hypothesis\n",
    "        theta_derivative = (np.matmul(X_train.T,error))/n # (fc+1,n)*(n,1) = (fc+1,1)\n",
    "        theta = theta + theta_derivative*learning_rate\n",
    "        \n",
    "        #For plotting curve of cost value vs no. of iterations\n",
    "        cost_values.insert(len(cost_values),cost) \n",
    "        iterations.insert(len(iterations),count)\n",
    "        \n",
    "        #Updated error value with new values of parameters and iteration count\n",
    "        new_cost = costLogistic(theta,X_train,Y_train)\n",
    "        delta_error = abs(new_cost - cost)\n",
    "        cost = new_cost\n",
    "        count = count + 1\n",
    "    print(\"Stopped after\",count,\"iterations\")\n",
    "    style.use('ggplot')\n",
    "    plt.plot(iterations,cost_values)\n",
    "    plt.xlabel(\"No. Of Iterations\")\n",
    "    plt.ylabel(\"Value Of Logistic Error Function\")\n",
    "    plt.title(\"Error Value Vs Iterations\")\n",
    "    plt.show() #Should be decreasing for checking correct movement of gradient descent\n",
    "    return theta"
   ]
  },
  {
   "cell_type": "code",
   "execution_count": 5,
   "metadata": {},
   "outputs": [],
   "source": [
    "def predict(X,theta):\n",
    "    X = np.c_[np.ones(X.shape[0]),X]\n",
    "    probabilities = sigmoid(theta,X)\n",
    "    return np.round(probabilities).astype(int)"
   ]
  },
  {
   "cell_type": "code",
   "execution_count": 6,
   "metadata": {},
   "outputs": [],
   "source": [
    "def meanScaledCopy(ndarray):\n",
    "    df_scaled = ndarray.copy()\n",
    "    for i in range(df_scaled.shape[-1]):\n",
    "        df_scaled[:,i] = (df_scaled[:,i]-df_scaled[:,i].mean())/df_scaled[:,i].std()\n",
    "    return df_scaled"
   ]
  },
  {
   "cell_type": "code",
   "execution_count": 7,
   "metadata": {},
   "outputs": [],
   "source": [
    "cancer = Datasets.load_breast_cancer()\n",
    "df = pd.DataFrame(cancer.data)"
   ]
  },
  {
   "cell_type": "code",
   "execution_count": 8,
   "metadata": {},
   "outputs": [],
   "source": [
    "X = df.values\n",
    "Y = cancer.target"
   ]
  },
  {
   "cell_type": "code",
   "execution_count": 9,
   "metadata": {},
   "outputs": [],
   "source": [
    "#X = meanScaledCopy(X)"
   ]
  },
  {
   "cell_type": "code",
   "execution_count": 10,
   "metadata": {},
   "outputs": [],
   "source": [
    "X_train, X_test, Y_train, Y_test = cv.train_test_split(X,Y,test_size=0.2,random_state=0)"
   ]
  },
  {
   "cell_type": "code",
   "execution_count": 11,
   "metadata": {},
   "outputs": [
    {
     "name": "stdout",
     "output_type": "stream",
     "text": [
      "Stopped after 10001 iterations\n"
     ]
    },
    {
     "data": {
      "image/png": "[encoded data removed]",
      "text/plain": [
       "<matplotlib.figure.Figure at 0x7f932fafdc50>"
      ]
     },
     "metadata": {},
     "output_type": "display_data"
    }
   ],
   "source": [
    "#theta = theta = fitGradientDescent(X_train,Y_train,learning_rate=1,max_iterations=10000) #For mean scaled\n",
    "theta = fitGradientDescent(X_train,Y_train,learning_rate=0.000005,max_iterations=10000) #For unscaled"
   ]
  },
  {
   "cell_type": "code",
   "execution_count": 12,
   "metadata": {},
   "outputs": [],
   "source": [
    "Y_pred = predict(X_test,theta)"
   ]
  },
  {
   "cell_type": "code",
   "execution_count": 13,
   "metadata": {},
   "outputs": [
    {
     "name": "stdout",
     "output_type": "stream",
     "text": [
      "             precision    recall  f1-score   support\n",
      "\n",
      "          0       0.98      0.87      0.92        47\n",
      "          1       0.92      0.99      0.95        67\n",
      "\n",
      "avg / total       0.94      0.94      0.94       114\n",
      "\n"
     ]
    }
   ],
   "source": [
    "from sklearn.metrics import classification_report\n",
    "print(classification_report(Y_test,Y_pred))"
   ]
  },
  {
   "cell_type": "code",
   "execution_count": 14,
   "metadata": {},
   "outputs": [
    {
     "data": {
      "text/plain": [
       "array([[41,  6],\n",
       "       [ 1, 66]])"
      ]
     },
     "execution_count": 14,
     "metadata": {},
     "output_type": "execute_result"
    }
   ],
   "source": [
    "from sklearn.metrics import confusion_matrix\n",
    "confusion_matrix(Y_test,Y_pred)"
   ]
  },
  {
   "cell_type": "code",
   "execution_count": 15,
   "metadata": {},
   "outputs": [
    {
     "name": "stdout",
     "output_type": "stream",
     "text": [
      "             precision    recall  f1-score   support\n",
      "\n",
      "          0       0.92      0.98      0.95        47\n",
      "          1       0.98      0.94      0.96        67\n",
      "\n",
      "avg / total       0.96      0.96      0.96       114\n",
      "\n"
     ]
    }
   ],
   "source": [
    "from sklearn.linear_model import LogisticRegression\n",
    "clf = LogisticRegression()\n",
    "clf.fit(X_train,Y_train)\n",
    "Y_pred = clf.predict(X_test)\n",
    "print(classification_report(Y_test,Y_pred))"
   ]
  }
 ],
 "metadata": {
  "kernelspec": {
   "display_name": "Python 3",
   "language": "python",
   "name": "python3"
  },
  "language_info": {
   "codemirror_mode": {
    "name": "ipython",
    "version": 3
   },
   "file_extension": ".py",
   "mimetype": "text/x-python",
   "name": "python",
   "nbconvert_exporter": "python",
   "pygments_lexer": "ipython3",
   "version": "3.6.4"
  }
 },
 "nbformat": 4,
 "nbformat_minor": 2
}
