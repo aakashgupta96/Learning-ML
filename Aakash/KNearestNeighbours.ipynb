{
 "cells": [
  {
   "cell_type": "code",
   "execution_count": 1,
   "metadata": {},
   "outputs": [],
   "source": [
    "import pandas as pd\n",
    "import numpy as np\n",
    "import matplotlib.pyplot as plt\n",
    "import sklearn.datasets as Datasets\n",
    "import sklearn.model_selection as cv\n",
    "from sklearn.neighbors import KNeighborsClassifier"
   ]
  },
  {
   "cell_type": "code",
   "execution_count": 2,
   "metadata": {},
   "outputs": [],
   "source": [
    "def meanScaledCopy(ndarray):\n",
    "    df_scaled = ndarray.copy()\n",
    "    for i in range(df_scaled.shape[-1]):\n",
    "        df_scaled[:,i] = (df_scaled[:,i]-df_scaled[:,i].mean())/df_scaled[:,i].std()\n",
    "    return df_scaled"
   ]
  },
  {
   "cell_type": "code",
   "execution_count": 3,
   "metadata": {},
   "outputs": [],
   "source": [
    "cancer = Datasets.load_breast_cancer()\n",
    "df = pd.DataFrame(cancer.data)"
   ]
  },
  {
   "cell_type": "code",
   "execution_count": 4,
   "metadata": {},
   "outputs": [],
   "source": [
    "X = df.values\n",
    "Y = cancer.target"
   ]
  },
  {
   "cell_type": "code",
   "execution_count": 5,
   "metadata": {},
   "outputs": [],
   "source": [
    "X = meanScaledCopy(X)"
   ]
  },
  {
   "cell_type": "code",
   "execution_count": 6,
   "metadata": {},
   "outputs": [],
   "source": [
    "X_test, X_train, Y_test, Y_train = cv.train_test_split(X,Y,test_size=0.25,random_state=0)"
   ]
  },
  {
   "cell_type": "code",
   "execution_count": 7,
   "metadata": {},
   "outputs": [
    {
     "name": "stdout",
     "output_type": "stream",
     "text": [
      "K for max score =  5\n",
      "Max score is =  0.9577464788732394\n"
     ]
    },
    {
     "data": {
      "image/png": "[encoded data removed]",
      "text/plain": [
       "<Figure size 432x288 with 1 Axes>"
      ]
     },
     "metadata": {},
     "output_type": "display_data"
    }
   ],
   "source": [
    "scores = []\n",
    "neighbour_count = []\n",
    "for i in range(1,50,2):\n",
    "    clf = KNeighborsClassifier(n_neighbors=i)\n",
    "    clf.fit(X_train,Y_train)\n",
    "    scores.append(clf.score(X_test,Y_test))\n",
    "    neighbour_count.append(i)\n",
    "plt.plot(neighbour_count,scores)\n",
    "print(\"K for max score = \",neighbour_count[scores.index(max(scores))])\n",
    "print(\"Max score is = \",max(scores))"
   ]
  },
  {
   "cell_type": "markdown",
   "metadata": {},
   "source": [
    "# Own Implementation"
   ]
  },
  {
   "cell_type": "code",
   "execution_count": 8,
   "metadata": {},
   "outputs": [],
   "source": [
    "def predictKNearest(X_train,Y_train,X_test,n_neighbour=5):\n",
    "    Y_pred = np.zeros(len(X_test))\n",
    "    for i in range(0,len(X_test)): #For each test sample\n",
    "        distances = []\n",
    "        for j in range(0,X_train.shape[0]): #Distance From each training sample\n",
    "            d = ((X_test[i] - X_train[j])**2).sum()\n",
    "            distances.append((d,j))\n",
    "        distances.sort()\n",
    "        votes = {}\n",
    "        all_classes = set(Y_train)\n",
    "        for j in all_classes:\n",
    "            votes[j] = 0\n",
    "        for j in range(0,n_neighbour):\n",
    "            current_class = Y_train[distances[j][1]]\n",
    "            votes[current_class] = votes[current_class] + 1\n",
    "        Y_pred[i] = max(votes,key=votes.get)\n",
    "    return Y_pred"
   ]
  },
  {
   "cell_type": "code",
   "execution_count": 9,
   "metadata": {},
   "outputs": [
    {
     "name": "stdout",
     "output_type": "stream",
     "text": [
      "K for max score =  5\n",
      "Max score is =  0.9577464788732394\n"
     ]
    },
    {
     "data": {
      "image/png": "[encoded data removed]",
      "text/plain": [
       "<Figure size 432x288 with 1 Axes>"
      ]
     },
     "metadata": {},
     "output_type": "display_data"
    }
   ],
   "source": [
    "scores = []\n",
    "neighbour_count = []\n",
    "for i in range(1,50,2):\n",
    "    Y_pred = predictKNearest(X_train,Y_train,X_test,i)\n",
    "    score = ((Y_pred == Y_test).sum()/len(Y_test))\n",
    "    scores.append(score)\n",
    "    neighbour_count.append(i)\n",
    "plt.plot(neighbour_count,scores)\n",
    "print(\"K for max score = \",neighbour_count[scores.index(max(scores))])\n",
    "print(\"Max score is = \",max(scores))"
   ]
  }
 ],
 "metadata": {
  "kernelspec": {
   "display_name": "Python 3",
   "language": "python",
   "name": "python3"
  },
  "language_info": {
   "codemirror_mode": {
    "name": "ipython",
    "version": 3
   },
   "file_extension": ".py",
   "mimetype": "text/x-python",
   "name": "python",
   "nbconvert_exporter": "python",
   "pygments_lexer": "ipython3",
   "version": "3.6.5"
  }
 },
 "nbformat": 4,
 "nbformat_minor": 2
}
