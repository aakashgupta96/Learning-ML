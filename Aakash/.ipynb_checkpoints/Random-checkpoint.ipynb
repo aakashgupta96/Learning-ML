{
 "cells": [
  {
   "cell_type": "markdown",
   "metadata": {},
   "source": [
    "## For random testing "
   ]
  },
  {
   "cell_type": "code",
   "execution_count": 7,
   "metadata": {},
   "outputs": [],
   "source": [
    "import numpy as np\n",
    "import pandas as pd\n",
    "import matplotlib.pyplot as plt\n",
    "import sklearn.datasets as Datasets\n",
    "import sklearn.model_selection as cv\n",
    "from sklearn.linear_model import LinearRegression\n",
    "from sklearn import naive_bayes\n",
    "from sklearn.metrics import classification_report, confusion_matrix\n",
    "from sklearn.svm import SVR\n",
    "import quandl"
   ]
  },
  {
   "cell_type": "markdown",
   "metadata": {},
   "source": [
    "# For Boston Dataset Submission"
   ]
  },
  {
   "cell_type": "code",
   "execution_count": 19,
   "metadata": {},
   "outputs": [],
   "source": [
    "df = pd.read_csv(\"../data/boston/train.csv\")\n",
    "test = pd.read_csv(\"../data/boston/test.csv\",header=None)"
   ]
  },
  {
   "cell_type": "code",
   "execution_count": 155,
   "metadata": {},
   "outputs": [],
   "source": [
    "Y = df.iloc[:,-1]\n",
    "X = df.iloc[:,:-1]\n",
    "X_test = test.iloc[:,:]\n",
    "included_columns = [0,2,4,5,6,7,8,9,10,11,12] #1,3\n",
    "X = X.values[:,included_columns]\n",
    "X_test = X_test.values[:,included_columns]\n",
    "from sklearn.preprocessing import StandardScaler\n",
    "scaler = StandardScaler(with_mean=True, with_std=True)\n",
    "X = scaler.fit_transform(X)\n",
    "X_test = scaler.transform(X_test)"
   ]
  },
  {
   "cell_type": "code",
   "execution_count": 102,
   "metadata": {},
   "outputs": [],
   "source": [
    "#Using Linear regression\n",
    "regressor = LinearRegression()\n",
    "regressor.fit(X,Y)\n",
    "Y_pred = regressor.predict(X_test)\n",
    "np.savetxt(\"result.csv\",Y_pred)"
   ]
  },
  {
   "cell_type": "code",
   "execution_count": 112,
   "metadata": {},
   "outputs": [],
   "source": [
    "#Using SVR Regressor\n",
    "clf = SVR(kernel=\"rbf\")\n",
    "clf.fit(X,Y)\n",
    "Y_pred = clf.predict(X_test)\n",
    "np.savetxt(\"result.csv\",Y_pred)"
   ]
  },
  {
   "cell_type": "code",
   "execution_count": 156,
   "metadata": {},
   "outputs": [],
   "source": [
    "#Using Random Forest Regressor\n",
    "from sklearn.ensemble import RandomForestRegressor\n",
    "clf = RandomForestRegressor(random_state=0,n_estimators=600)\n",
    "clf.fit(X,Y)\n",
    "Y_pred = clf.predict(X_test)\n",
    "np.savetxt(\"result.csv\",Y_pred)"
   ]
  },
  {
   "cell_type": "markdown",
   "metadata": {},
   "source": [
    "# For Combined Cycle Power Plant Dataset Submission"
   ]
  },
  {
   "cell_type": "code",
   "execution_count": 157,
   "metadata": {},
   "outputs": [],
   "source": [
    "df = pd.read_csv(\"../data/powerplant/train.csv\")\n",
    "test = pd.read_csv(\"../data/powerplant/test.csv\",header=None)"
   ]
  },
  {
   "cell_type": "code",
   "execution_count": 180,
   "metadata": {},
   "outputs": [],
   "source": [
    "Y = df.iloc[:,-1]\n",
    "X = df.iloc[:,:-1]\n",
    "X_test = test.iloc[:,:]\n",
    "included_columns = [0,1,2,3]\n",
    "X = X.values[:,included_columns]\n",
    "X_test = X_test.values[:,included_columns]\n",
    "from sklearn.preprocessing import StandardScaler\n",
    "scaler = StandardScaler(with_mean=True, with_std=True)\n",
    "X = scaler.fit_transform(X)\n",
    "X_test = scaler.transform(X_test)"
   ]
  },
  {
   "cell_type": "code",
   "execution_count": 176,
   "metadata": {},
   "outputs": [],
   "source": [
    "#Using Linear regression\n",
    "regressor = LinearRegression()\n",
    "regressor.fit(X,Y)\n",
    "Y_pred = regressor.predict(X_test)\n",
    "np.savetxt(\"result.csv\",Y_pred)"
   ]
  },
  {
   "cell_type": "code",
   "execution_count": 178,
   "metadata": {},
   "outputs": [],
   "source": [
    "#Using SVR Regressor\n",
    "clf = SVR(kernel=\"rbf\")\n",
    "clf.fit(X,Y)\n",
    "Y_pred = clf.predict(X_test)\n",
    "np.savetxt(\"result.csv\",Y_pred)"
   ]
  },
  {
   "cell_type": "code",
   "execution_count": 183,
   "metadata": {},
   "outputs": [],
   "source": [
    "#Using Random Forest Regressor\n",
    "from sklearn.ensemble import RandomForestRegressor\n",
    "clf = RandomForestRegressor(random_state=0,n_estimators=500)\n",
    "clf.fit(X,Y)\n",
    "Y_pred = clf.predict(X_test)\n",
    "np.savetxt(\"result.csv\",Y_pred)"
   ]
  },
  {
   "cell_type": "code",
   "execution_count": 184,
   "metadata": {},
   "outputs": [
    {
     "data": {
      "text/plain": [
       "array([0.90601619, 0.05713209, 0.01875806, 0.01809365])"
      ]
     },
     "execution_count": 184,
     "metadata": {},
     "output_type": "execute_result"
    }
   ],
   "source": [
    "clf.feature_importances_"
   ]
  }
 ],
 "metadata": {
  "kernelspec": {
   "display_name": "Python 3",
   "language": "python",
   "name": "python3"
  },
  "language_info": {
   "codemirror_mode": {
    "name": "ipython",
    "version": 3
   },
   "file_extension": ".py",
   "mimetype": "text/x-python",
   "name": "python",
   "nbconvert_exporter": "python",
   "pygments_lexer": "ipython3",
   "version": "3.6.4"
  }
 },
 "nbformat": 4,
 "nbformat_minor": 2
}
