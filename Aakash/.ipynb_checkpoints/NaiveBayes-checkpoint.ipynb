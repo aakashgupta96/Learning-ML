{
 "cells": [
  {
   "cell_type": "code",
   "execution_count": 1,
   "metadata": {},
   "outputs": [],
   "source": [
    "import numpy as np\n",
    "import pydotplus\n",
    "import pandas as pd\n",
    "import sklearn.datasets as Datasets\n",
    "from sklearn import tree\n",
    "from sklearn import model_selection as cv\n",
    "from sklearn import naive_bayes\n",
    "from sklearn.metrics import classification_report, confusion_matrix"
   ]
  },
  {
   "cell_type": "code",
   "execution_count": 2,
   "metadata": {},
   "outputs": [],
   "source": [
    "def calculatePriorProbabilities(Y):\n",
    "    classes = set(Y)\n",
    "    result = {}\n",
    "    for i in classes:\n",
    "        result[i] = (len(Y[Y==i])/len(Y))\n",
    "    return result"
   ]
  },
  {
   "cell_type": "code",
   "execution_count": 3,
   "metadata": {},
   "outputs": [],
   "source": [
    "def naiveProbability(priorProbability,current_class,X_train,Y_train,X_test_sample):\n",
    "    result = priorProbability\n",
    "    #Modifying X_train for current class only\n",
    "    class_samples = (Y_train == current_class)\n",
    "    Y_train = Y_train[class_samples]\n",
    "    X_train = X_train[class_samples]\n",
    "    dr = len(Y_train)\n",
    "    for i in range(0,X_train.shape[-1]):\n",
    "        nr = len(X_train[X_train[:,i]==X_test_sample[i]])\n",
    "        result = result * (nr/dr)\n",
    "    return result"
   ]
  },
  {
   "cell_type": "code",
   "execution_count": 4,
   "metadata": {},
   "outputs": [],
   "source": [
    "#For Labelled(non-continous) Features only\n",
    "def naiveBayesPredict(X_train,Y_train,X_test,priorProbabilities={}):\n",
    "    classes = set(Y_train)\n",
    "    test_samples = X_test.shape[0]\n",
    "    y_pred = np.zeros(test_samples)\n",
    "    if (len(priorProbabilities) == 0) :\n",
    "        priorProbabilities = calculatePriorProbabilities(Y_train)\n",
    "    #print(priorProbabilities)\n",
    "    for i in range(0,test_samples):\n",
    "        probabilities = {}\n",
    "        for current_class in classes:\n",
    "            probabilities[current_class] = naiveProbability(priorProbabilities[current_class],current_class,X_train,Y_train,X_test[i,:])\n",
    "        #print(\"For sample\",X_test[i,:],\" probabilities are = \",probabilities)\n",
    "        y_pred[i] = max(probabilities,key=probabilities.get)\n",
    "    return y_pred"
   ]
  },
  {
   "cell_type": "markdown",
   "metadata": {},
   "source": [
    "# Changing Iris Dataset to labelled dataset"
   ]
  },
  {
   "cell_type": "code",
   "execution_count": 5,
   "metadata": {},
   "outputs": [],
   "source": [
    "def makeLabelled(column):\n",
    "    mean = column.mean()\n",
    "    for i in range (0,len(column)):\n",
    "        column[i] = int(column[i]>=mean) \n",
    "    return column"
   ]
  },
  {
   "cell_type": "code",
   "execution_count": 6,
   "metadata": {},
   "outputs": [],
   "source": [
    "iris = Datasets.load_iris()\n",
    "df = pd.DataFrame(iris.data)"
   ]
  },
  {
   "cell_type": "code",
   "execution_count": 7,
   "metadata": {},
   "outputs": [],
   "source": [
    "X = df.values\n",
    "Y = iris.target"
   ]
  },
  {
   "cell_type": "code",
   "execution_count": 8,
   "metadata": {},
   "outputs": [],
   "source": [
    "for i in range(0,X.shape[-1]):\n",
    "    X[:,i] = makeLabelled(X[:,i])"
   ]
  },
  {
   "cell_type": "code",
   "execution_count": 9,
   "metadata": {},
   "outputs": [],
   "source": [
    "X_train,X_test,Y_train,Y_test = cv.train_test_split(X,Y,test_size=0.2,random_state=0)"
   ]
  },
  {
   "cell_type": "markdown",
   "metadata": {},
   "source": [
    "# Checking Results From My Implementation"
   ]
  },
  {
   "cell_type": "code",
   "execution_count": 10,
   "metadata": {},
   "outputs": [],
   "source": [
    "Y_pred = naiveBayesPredict(X,Y,X_test)"
   ]
  },
  {
   "cell_type": "code",
   "execution_count": 11,
   "metadata": {},
   "outputs": [
    {
     "name": "stdout",
     "output_type": "stream",
     "text": [
      "             precision    recall  f1-score   support\n",
      "\n",
      "          0       0.92      1.00      0.96        11\n",
      "          1       0.60      0.23      0.33        13\n",
      "          2       0.31      0.67      0.42         6\n",
      "\n",
      "avg / total       0.66      0.60      0.58        30\n",
      "\n",
      "[[11  0  0]\n",
      " [ 1  3  9]\n",
      " [ 0  2  4]]\n"
     ]
    }
   ],
   "source": [
    "print(classification_report(Y_test,Y_pred))\n",
    "print(confusion_matrix(Y_test,Y_pred))"
   ]
  },
  {
   "cell_type": "markdown",
   "metadata": {},
   "source": [
    "# Checking Results Using sklearn Gaussian Model"
   ]
  },
  {
   "cell_type": "code",
   "execution_count": 12,
   "metadata": {},
   "outputs": [],
   "source": [
    "from sklearn import naive_bayes\n",
    "gnb = naive_bayes.GaussianNB()\n",
    "gnb.fit(X_train,Y_train)\n",
    "Y_pred = gnb.predict(X_test)"
   ]
  },
  {
   "cell_type": "code",
   "execution_count": 13,
   "metadata": {},
   "outputs": [
    {
     "name": "stdout",
     "output_type": "stream",
     "text": [
      "             precision    recall  f1-score   support\n",
      "\n",
      "          0       0.92      1.00      0.96        11\n",
      "          1       1.00      0.08      0.14        13\n",
      "          2       0.35      1.00      0.52         6\n",
      "\n",
      "avg / total       0.84      0.60      0.52        30\n",
      "\n",
      "[[11  0  0]\n",
      " [ 1  1 11]\n",
      " [ 0  0  6]]\n"
     ]
    }
   ],
   "source": [
    "print(classification_report(Y_test,Y_pred))\n",
    "print(confusion_matrix(Y_test,Y_pred))"
   ]
  }
 ],
 "metadata": {
  "kernelspec": {
   "display_name": "Python 3",
   "language": "python",
   "name": "python3"
  },
  "language_info": {
   "codemirror_mode": {
    "name": "ipython",
    "version": 3
   },
   "file_extension": ".py",
   "mimetype": "text/x-python",
   "name": "python",
   "nbconvert_exporter": "python",
   "pygments_lexer": "ipython3",
   "version": "3.6.4"
  }
 },
 "nbformat": 4,
 "nbformat_minor": 2
}
