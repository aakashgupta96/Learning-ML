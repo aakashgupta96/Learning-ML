{
 "cells": [
  {
   "cell_type": "code",
   "execution_count": 1,
   "metadata": {},
   "outputs": [],
   "source": [
    "import numpy as np\n",
    "import pydotplus\n",
    "import pandas as pd\n",
    "import sklearn.datasets as Datasets\n",
    "from sklearn import model_selection as cv\n",
    "from sklearn import naive_bayes\n",
    "from sklearn.metrics import classification_report, confusion_matrix"
   ]
  },
  {
   "cell_type": "code",
   "execution_count": 2,
   "metadata": {},
   "outputs": [],
   "source": [
    "def calculatePriorProbabilities(Y):\n",
    "    classes = set(Y)\n",
    "    result = {}\n",
    "    for i in classes:\n",
    "        result[i] = (len(Y[Y==i])/len(Y))\n",
    "    return result"
   ]
  },
  {
   "cell_type": "markdown",
   "metadata": {},
   "source": [
    "# Brute implementaion where all the numbers are calculated in testing phase but not in training"
   ]
  },
  {
   "cell_type": "code",
   "execution_count": 3,
   "metadata": {},
   "outputs": [],
   "source": [
    "def naiveProbabilityBrute(priorProbability,current_class,X_train,Y_train,X_test_sample):\n",
    "    result = priorProbability\n",
    "    #Modifying X_train for current class only\n",
    "    class_samples = (Y_train == current_class)\n",
    "    Y_train = Y_train[class_samples]\n",
    "    X_train = X_train[class_samples]\n",
    "    dr = len(Y_train)\n",
    "    for i in range(0,X_train.shape[-1]):\n",
    "        nr = len(X_train[X_train[:,i]==X_test_sample[i]])\n",
    "        result = result * (nr/dr)\n",
    "    return result"
   ]
  },
  {
   "cell_type": "code",
   "execution_count": 4,
   "metadata": {},
   "outputs": [],
   "source": [
    "#For Labelled(non-continous) Features only\n",
    "def naiveBayesBrutePredict(X_train,Y_train,X_test,priorProbabilities={}):\n",
    "    classes = set(Y_train)\n",
    "    test_samples = X_test.shape[0]\n",
    "    y_pred = np.zeros(test_samples)\n",
    "    if (len(priorProbabilities) != len(classes)) :\n",
    "        priorProbabilities = calculatePriorProbabilities(Y_train)\n",
    "    #print(priorProbabilities)\n",
    "    \n",
    "    for i in range(0,test_samples):\n",
    "        probabilities = {}\n",
    "        for current_class in classes:\n",
    "            probabilities[current_class] = naiveProbabilityBrute(priorProbabilities[current_class],current_class,X_train,Y_train,X_test[i,:])\n",
    "        #print(\"For sample\",X_test[i,:],\" probabilities are = \",probabilities)\n",
    "        y_pred[i] = max(probabilities,key=probabilities.get)\n",
    "    return y_pred"
   ]
  },
  {
   "cell_type": "markdown",
   "metadata": {},
   "source": [
    "# Optimized Implementation which used fit function to create dictionary for faster computations while testing"
   ]
  },
  {
   "cell_type": "code",
   "execution_count": 5,
   "metadata": {},
   "outputs": [],
   "source": [
    "#Returns a dictionary\n",
    "def fitNaiveBayes(X_train,Y_train,priorProbabilities={},correctionFactor=1):\n",
    "    result = {}\n",
    "    output_classes = set(Y_train)\n",
    "    if (len(priorProbabilities) != len(output_classes)) :\n",
    "        priorProbabilities = calculatePriorProbabilities(Y_train)\n",
    "        \n",
    "    for current_class in output_classes:\n",
    "        value = {}\n",
    "        result[current_class] = value\n",
    "        class_samples = (Y_train == current_class)\n",
    "        Y_train_current = Y_train[class_samples]\n",
    "        X_train_current = X_train[class_samples]\n",
    "        value[\"priorProbability\"] = priorProbabilities[current_class]\n",
    "        for feature in range(0,X_train.shape[-1]):\n",
    "            value[feature] = {}\n",
    "            current_hash = value[feature]\n",
    "            unique_feature_values = set(X_train[:,feature])\n",
    "            for unique_value in unique_feature_values:\n",
    "                current_hash[unique_value] = len(X_train_current[X_train_current[:,feature] == unique_value]) + correctionFactor\n",
    "            current_hash[\"cf\"] = correctionFactor #Storing it to be used in logProbability Function (See else case of logProbabilty Function)\n",
    "            current_hash[\"dr\"] = len(X_train_current) + (correctionFactor*len(unique_feature_values)) #Corrected denominator after adding correction factor to all samples to avoid zero probabilities\n",
    "    return result"
   ]
  },
  {
   "cell_type": "code",
   "execution_count": 6,
   "metadata": {},
   "outputs": [],
   "source": [
    "def logProbability(dictionary,X):\n",
    "    if(X in dictionary.keys()):\n",
    "        return np.log(dictionary[X]) - np.log(dictionary[\"dr\"])\n",
    "    else: #Implies that this value is not present in training dataset\n",
    "        #Return log of (correctionFactor)/(dr+correctionFactor)\n",
    "        return np.log(dictionary[\"cf\"]) - np.log(dictionary[\"dr\"] + dictionary[\"cf\"])"
   ]
  },
  {
   "cell_type": "code",
   "execution_count": 7,
   "metadata": {},
   "outputs": [],
   "source": [
    "def predictClassProbabiltyUsingDictionary(dictionary,X_test_sample):\n",
    "    result = np.log(dictionary[\"priorProbability\"])\n",
    "    for i in range(0,len(dictionary.keys())-1): #-1 because 1 key is for priorProbabilty and rest of the keys are features\n",
    "        logP = logProbability(dictionary[i],X_test_sample[i])\n",
    "        result = result + (logP)\n",
    "    return result"
   ]
  },
  {
   "cell_type": "code",
   "execution_count": 8,
   "metadata": {},
   "outputs": [],
   "source": [
    "def predictNaiveBayes(dictionary,X_test):\n",
    "    classes = set(dictionary.keys())\n",
    "    test_samples = X_test.shape[0]\n",
    "    y_pred = [0] * test_samples\n",
    "    \n",
    "    for i in range(0,test_samples):\n",
    "        probabilities = {}\n",
    "        for current_class in classes:\n",
    "            probabilities[current_class] = predictClassProbabiltyUsingDictionary(dictionary[current_class],X_test[i,:])\n",
    "        #print(\"For sample i = \",i,\" probabilities are = \",probabilities)\n",
    "        y_pred[i] = max(probabilities,key=probabilities.get)\n",
    "    return y_pred"
   ]
  },
  {
   "cell_type": "markdown",
   "metadata": {},
   "source": [
    "# Changing Iris Dataset to labelled dataset"
   ]
  },
  {
   "cell_type": "code",
   "execution_count": 9,
   "metadata": {},
   "outputs": [],
   "source": [
    "def makeLabelled(column):\n",
    "    second_limit = column.mean()\n",
    "    first_limit = 0.5 * second_limit\n",
    "    third_limit = 1.5*second_limit\n",
    "    for i in range (0,len(column)):\n",
    "        if (column[i] < first_limit):\n",
    "            column[i] = 0\n",
    "        elif (column[i] < second_limit):\n",
    "            column[i] = 1\n",
    "        elif(column[i] < third_limit):\n",
    "            column[i] = 2\n",
    "        else:\n",
    "            column[i] = 3\n",
    "    return column"
   ]
  },
  {
   "cell_type": "code",
   "execution_count": 10,
   "metadata": {},
   "outputs": [],
   "source": [
    "iris = Datasets.load_iris()\n",
    "df = pd.DataFrame(iris.data)"
   ]
  },
  {
   "cell_type": "code",
   "execution_count": 11,
   "metadata": {},
   "outputs": [],
   "source": [
    "X = df.values\n",
    "Y = iris.target"
   ]
  },
  {
   "cell_type": "code",
   "execution_count": 12,
   "metadata": {},
   "outputs": [],
   "source": [
    "for i in range(0,X.shape[-1]):\n",
    "    X[:,i] = makeLabelled(X[:,i])"
   ]
  },
  {
   "cell_type": "code",
   "execution_count": 13,
   "metadata": {},
   "outputs": [],
   "source": [
    "X_train,X_test,Y_train,Y_test = cv.train_test_split(X,Y,test_size=0.25,random_state=0)"
   ]
  },
  {
   "cell_type": "markdown",
   "metadata": {},
   "source": [
    "# Checking Results From My Implementation"
   ]
  },
  {
   "cell_type": "markdown",
   "metadata": {},
   "source": [
    "### Using Brute Implementation"
   ]
  },
  {
   "cell_type": "code",
   "execution_count": 14,
   "metadata": {},
   "outputs": [
    {
     "name": "stdout",
     "output_type": "stream",
     "text": [
      "             precision    recall  f1-score   support\n",
      "\n",
      "          0       1.00      1.00      1.00        13\n",
      "          1       0.94      1.00      0.97        16\n",
      "          2       1.00      0.89      0.94         9\n",
      "\n",
      "avg / total       0.98      0.97      0.97        38\n",
      "\n",
      "[[13  0  0]\n",
      " [ 0 16  0]\n",
      " [ 0  1  8]]\n"
     ]
    }
   ],
   "source": [
    "Y_pred = naiveBayesBrutePredict(X_train,Y_train,X_test)\n",
    "print(classification_report(Y_test,Y_pred))\n",
    "print(confusion_matrix(Y_test,Y_pred))"
   ]
  },
  {
   "cell_type": "markdown",
   "metadata": {},
   "source": [
    "### Using Optimized Implementation"
   ]
  },
  {
   "cell_type": "code",
   "execution_count": 15,
   "metadata": {},
   "outputs": [],
   "source": [
    "dictionary = fitNaiveBayes(X_train,Y_train,correctionFactor=1)\n",
    "#dictionary"
   ]
  },
  {
   "cell_type": "code",
   "execution_count": 16,
   "metadata": {},
   "outputs": [],
   "source": [
    "Y_pred = predictNaiveBayes(dictionary,X_test)"
   ]
  },
  {
   "cell_type": "code",
   "execution_count": 17,
   "metadata": {
    "scrolled": true
   },
   "outputs": [
    {
     "name": "stdout",
     "output_type": "stream",
     "text": [
      "             precision    recall  f1-score   support\n",
      "\n",
      "          0       1.00      1.00      1.00        13\n",
      "          1       0.94      1.00      0.97        16\n",
      "          2       1.00      0.89      0.94         9\n",
      "\n",
      "avg / total       0.98      0.97      0.97        38\n",
      "\n",
      "[[13  0  0]\n",
      " [ 0 16  0]\n",
      " [ 0  1  8]]\n"
     ]
    }
   ],
   "source": [
    "print(classification_report(Y_test,Y_pred))\n",
    "print(confusion_matrix(Y_test,Y_pred))"
   ]
  },
  {
   "cell_type": "markdown",
   "metadata": {},
   "source": [
    "# Checking Results Using sklearn Multinomial Model"
   ]
  },
  {
   "cell_type": "code",
   "execution_count": 18,
   "metadata": {},
   "outputs": [],
   "source": [
    "from sklearn import naive_bayes\n",
    "mnb = naive_bayes.MultinomialNB(alpha=1)\n",
    "mnb.fit(X_train,Y_train)\n",
    "Y_pred = mnb.predict(X_test)"
   ]
  },
  {
   "cell_type": "code",
   "execution_count": 19,
   "metadata": {},
   "outputs": [
    {
     "name": "stdout",
     "output_type": "stream",
     "text": [
      "             precision    recall  f1-score   support\n",
      "\n",
      "          0       1.00      0.85      0.92        13\n",
      "          1       0.00      0.00      0.00        16\n",
      "          2       0.36      1.00      0.53         9\n",
      "\n",
      "avg / total       0.43      0.53      0.44        38\n",
      "\n",
      "[[11  2  0]\n",
      " [ 0  0 16]\n",
      " [ 0  0  9]]\n"
     ]
    }
   ],
   "source": [
    "print(classification_report(Y_test,Y_pred))\n",
    "print(confusion_matrix(Y_test,Y_pred))\n",
    "\n",
    "# Results are bad because multinomial model considers label of feature as its frequency and weights it accordingly.\n",
    "# For ex, if feature 1 has 4 labels [0,1,2,3], then it consider the training sample with value of feature 1 as label 3 having 3 frequency of 1 feature which makes it dominant.\n",
    "# This model is specifically used for text classification."
   ]
  }
 ],
 "metadata": {
  "kernelspec": {
   "display_name": "Python 3",
   "language": "python",
   "name": "python3"
  },
  "language_info": {
   "codemirror_mode": {
    "name": "ipython",
    "version": 3
   },
   "file_extension": ".py",
   "mimetype": "text/x-python",
   "name": "python",
   "nbconvert_exporter": "python",
   "pygments_lexer": "ipython3",
   "version": "3.6.4"
  }
 },
 "nbformat": 4,
 "nbformat_minor": 2
}
