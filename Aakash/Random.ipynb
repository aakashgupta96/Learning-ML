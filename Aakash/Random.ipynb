{
 "cells": [
  {
   "cell_type": "markdown",
   "metadata": {},
   "source": [
    "## For random testing "
   ]
  },
  {
   "cell_type": "code",
   "execution_count": 29,
   "metadata": {},
   "outputs": [],
   "source": [
    "import pandas as pd\n",
    "import numpy as np\n",
    "import os\n",
    "\n",
    "import sklearn.model_selection as cv\n",
    "from sklearn.preprocessing import OneHotEncoder, StandardScaler\n",
    "from sklearn.utils import shuffle\n",
    "from sklearn.metrics import confusion_matrix, classification_report\n",
    "from sklearn.pipeline import Pipeline\n",
    "from sklearn.externals import joblib\n",
    "\n",
    "from keras.models import Sequential, save_model, load_model\n",
    "from keras.layers import Dense, Input\n",
    "from keras.wrappers.scikit_learn import KerasClassifier, KerasRegressor\n",
    "import keras.backend as K"
   ]
  },
  {
   "cell_type": "code",
   "execution_count": 30,
   "metadata": {},
   "outputs": [],
   "source": [
    "df = pd.read_csv(\"data.csv\", index_col=0)\n",
    "df = df.reset_index(drop=True)\n",
    "#df"
   ]
  },
  {
   "cell_type": "code",
   "execution_count": 31,
   "metadata": {},
   "outputs": [],
   "source": [
    "df_online = df[df[\"online_batch\"] == 1]\n",
    "df_offline = df[df[\"online_batch\"] == 0]\n",
    "#del df_online[\"online_batch\"],df_offline[\"online_batch\"]"
   ]
  },
  {
   "cell_type": "code",
   "execution_count": 72,
   "metadata": {
    "scrolled": true
   },
   "outputs": [],
   "source": [
    "# To take equal samples of both\n",
    "df_online_joining = df_online[(df_online[\"joining_result\"] == 1)]\n",
    "df_online_not_joining = df_online[(df_online[\"joining_result\"] == 0)].head(df_online_joining.shape[0])\n",
    "df_online = pd.concat([df_online_joining,df_online_not_joining])\n",
    "\n",
    "df_offline_joining = df_offline[(df_offline[\"joining_result\"] == 1)]\n",
    "df_offline_not_joining = df_offline[(df_offline[\"joining_result\"] == 0)].head(df_offline_joining.shape[0])\n",
    "df_offline = pd.concat([df_offline_joining,df_offline_not_joining])\n",
    "\n",
    "df = pd.concat([df_online,df_offline])\n",
    "df = shuffle(df)\n",
    "df.reset_index(drop=True,inplace=True)\n",
    "#df"
   ]
  },
  {
   "cell_type": "code",
   "execution_count": 73,
   "metadata": {},
   "outputs": [],
   "source": [
    "# (df[\"joining_result\"] == 1).sum(), (df[\"joining_result\"] == 0).sum()"
   ]
  },
  {
   "cell_type": "code",
   "execution_count": 74,
   "metadata": {},
   "outputs": [
    {
     "data": {
      "text/plain": [
       "((1892, 13), (1892,))"
      ]
     },
     "execution_count": 74,
     "metadata": {},
     "output_type": "execute_result"
    }
   ],
   "source": [
    "X = df.iloc[:,:-1].values\n",
    "Y = df.iloc[:,-1].values\n",
    "X.shape,Y.shape"
   ]
  },
  {
   "cell_type": "code",
   "execution_count": 75,
   "metadata": {},
   "outputs": [],
   "source": [
    "# set(X[:,2])"
   ]
  },
  {
   "cell_type": "code",
   "execution_count": 76,
   "metadata": {},
   "outputs": [
    {
     "data": {
      "text/plain": [
       "((1892, 26), (1892,))"
      ]
     },
     "execution_count": 76,
     "metadata": {},
     "output_type": "execute_result"
    }
   ],
   "source": [
    "oneHotEncoder1= OneHotEncoder(n_values=[5,10],categorical_features = [2,X.shape[1]-1])\n",
    "X = oneHotEncoder1.fit_transform(X).toarray()\n",
    "X.shape,Y.shape"
   ]
  },
  {
   "cell_type": "code",
   "execution_count": 77,
   "metadata": {},
   "outputs": [],
   "source": [
    "# cols = [i for i in range(X.shape[1])]\n",
    "# cols.remove(0)\n",
    "# cols.remove(5)\n",
    "# X = X[:,cols]\n",
    "# X.shape"
   ]
  },
  {
   "cell_type": "code",
   "execution_count": 78,
   "metadata": {},
   "outputs": [],
   "source": [
    "# set(X[:,X.shape[1]-1])"
   ]
  },
  {
   "cell_type": "code",
   "execution_count": 141,
   "metadata": {},
   "outputs": [],
   "source": [
    "X_train, X_test, Y_train, Y_test = cv.train_test_split(X,Y,test_size=0.2,random_state=0)"
   ]
  },
  {
   "cell_type": "code",
   "execution_count": 142,
   "metadata": {},
   "outputs": [],
   "source": [
    "# print(Y_train.sum(), (Y_train == 0).sum(), Y_test.sum(), (Y_test == 0).sum())"
   ]
  },
  {
   "cell_type": "code",
   "execution_count": 143,
   "metadata": {},
   "outputs": [],
   "source": [
    "scaler = StandardScaler().fit(X_train)\n",
    "X_scaled_train = scaler.transform(X_train)\n",
    "X_scaled_test = scaler.transform(X_test)"
   ]
  },
  {
   "cell_type": "code",
   "execution_count": 144,
   "metadata": {},
   "outputs": [
    {
     "name": "stdout",
     "output_type": "stream",
     "text": [
      "_________________________________________________________________\n",
      "Layer (type)                 Output Shape              Param #   \n",
      "=================================================================\n",
      "dense_101 (Dense)            (None, 20)                540       \n",
      "_________________________________________________________________\n",
      "dense_102 (Dense)            (None, 30)                630       \n",
      "_________________________________________________________________\n",
      "dense_103 (Dense)            (None, 40)                1240      \n",
      "_________________________________________________________________\n",
      "dense_104 (Dense)            (None, 40)                1640      \n",
      "_________________________________________________________________\n",
      "dense_105 (Dense)            (None, 30)                1230      \n",
      "_________________________________________________________________\n",
      "dense_106 (Dense)            (None, 20)                620       \n",
      "_________________________________________________________________\n",
      "dense_107 (Dense)            (None, 1)                 21        \n",
      "=================================================================\n",
      "Total params: 5,921\n",
      "Trainable params: 5,921\n",
      "Non-trainable params: 0\n",
      "_________________________________________________________________\n",
      "Train on 1513 samples, validate on 379 samples\n",
      "Epoch 1/50\n",
      "1513/1513 [==============================] - 3s 2ms/step - loss: 0.3456 - acc: 0.5360 - val_loss: 0.6820 - val_acc: 0.6121\n",
      "Epoch 2/50\n",
      "1513/1513 [==============================] - 1s 461us/step - loss: 0.3282 - acc: 0.6325 - val_loss: 0.6435 - val_acc: 0.6069\n",
      "Epoch 3/50\n",
      "1513/1513 [==============================] - 1s 471us/step - loss: 0.3135 - acc: 0.6590 - val_loss: 0.6390 - val_acc: 0.6280\n",
      "Epoch 4/50\n",
      "1513/1513 [==============================] - 1s 533us/step - loss: 0.3017 - acc: 0.6794 - val_loss: 0.6308 - val_acc: 0.6438\n",
      "Epoch 5/50\n",
      "1513/1513 [==============================] - 1s 665us/step - loss: 0.3008 - acc: 0.6827 - val_loss: 0.6296 - val_acc: 0.6438\n",
      "Epoch 6/50\n",
      "1513/1513 [==============================] - 1s 555us/step - loss: 0.2936 - acc: 0.6973 - val_loss: 0.6428 - val_acc: 0.6438\n",
      "Epoch 7/50\n",
      "1513/1513 [==============================] - 1s 678us/step - loss: 0.2890 - acc: 0.7145 - val_loss: 0.6384 - val_acc: 0.6623\n",
      "Epoch 8/50\n",
      "1513/1513 [==============================] - 1s 522us/step - loss: 0.2866 - acc: 0.7019 - val_loss: 0.6363 - val_acc: 0.6649\n",
      "Epoch 9/50\n",
      "1513/1513 [==============================] - 1s 623us/step - loss: 0.2850 - acc: 0.7198 - val_loss: 0.6244 - val_acc: 0.6675\n",
      "Epoch 10/50\n",
      "1513/1513 [==============================] - 1s 792us/step - loss: 0.2866 - acc: 0.7151 - val_loss: 0.6248 - val_acc: 0.6807\n",
      "Epoch 11/50\n",
      "1513/1513 [==============================] - 1s 662us/step - loss: 0.2817 - acc: 0.7330 - val_loss: 0.6196 - val_acc: 0.6728\n",
      "Epoch 12/50\n",
      "1513/1513 [==============================] - 1s 542us/step - loss: 0.2811 - acc: 0.7317 - val_loss: 0.6176 - val_acc: 0.6649\n",
      "Epoch 13/50\n",
      "1513/1513 [==============================] - 1s 629us/step - loss: 0.2768 - acc: 0.7330 - val_loss: 0.6163 - val_acc: 0.6728\n",
      "Epoch 14/50\n",
      "1513/1513 [==============================] - 1s 552us/step - loss: 0.2779 - acc: 0.7350 - val_loss: 0.6123 - val_acc: 0.6781\n",
      "Epoch 15/50\n",
      "1513/1513 [==============================] - 1s 615us/step - loss: 0.2745 - acc: 0.7403 - val_loss: 0.6117 - val_acc: 0.6807\n",
      "Epoch 16/50\n",
      "1513/1513 [==============================] - 1s 785us/step - loss: 0.2752 - acc: 0.7350 - val_loss: 0.6081 - val_acc: 0.6834\n",
      "Epoch 17/50\n",
      "1513/1513 [==============================] - 1s 542us/step - loss: 0.2698 - acc: 0.7409 - val_loss: 0.6191 - val_acc: 0.6834\n",
      "Epoch 18/50\n",
      "1513/1513 [==============================] - 1s 625us/step - loss: 0.2709 - acc: 0.7363 - val_loss: 0.6081 - val_acc: 0.7018\n",
      "Epoch 19/50\n",
      "1513/1513 [==============================] - 1s 625us/step - loss: 0.2694 - acc: 0.7416 - val_loss: 0.6115 - val_acc: 0.6834\n",
      "Epoch 20/50\n",
      "1513/1513 [==============================] - 1s 573us/step - loss: 0.2700 - acc: 0.7422 - val_loss: 0.6090 - val_acc: 0.6939\n",
      "Epoch 21/50\n",
      "1513/1513 [==============================] - 1s 543us/step - loss: 0.2663 - acc: 0.7488 - val_loss: 0.5980 - val_acc: 0.6860\n",
      "Epoch 22/50\n",
      "1513/1513 [==============================] - 1s 626us/step - loss: 0.2666 - acc: 0.7475 - val_loss: 0.6031 - val_acc: 0.6887\n",
      "Epoch 23/50\n",
      "1513/1513 [==============================] - 1s 623us/step - loss: 0.2639 - acc: 0.7561 - val_loss: 0.5974 - val_acc: 0.6807\n",
      "Epoch 24/50\n",
      "1513/1513 [==============================] - 1s 505us/step - loss: 0.2621 - acc: 0.7475 - val_loss: 0.6008 - val_acc: 0.6860\n",
      "Epoch 25/50\n",
      "1513/1513 [==============================] - 1s 535us/step - loss: 0.2600 - acc: 0.7621 - val_loss: 0.6095 - val_acc: 0.6913\n",
      "Epoch 26/50\n",
      "1513/1513 [==============================] - 1s 670us/step - loss: 0.2585 - acc: 0.7548 - val_loss: 0.6035 - val_acc: 0.6834\n",
      "Epoch 27/50\n",
      "1513/1513 [==============================] - 1s 524us/step - loss: 0.2573 - acc: 0.7561 - val_loss: 0.6028 - val_acc: 0.6913\n",
      "Epoch 28/50\n",
      "1513/1513 [==============================] - 1s 625us/step - loss: 0.2567 - acc: 0.7488 - val_loss: 0.5954 - val_acc: 0.6781\n",
      "Epoch 29/50\n",
      "1513/1513 [==============================] - 1s 492us/step - loss: 0.2532 - acc: 0.7607 - val_loss: 0.5999 - val_acc: 0.6623\n",
      "Epoch 30/50\n",
      "1513/1513 [==============================] - 1s 730us/step - loss: 0.2533 - acc: 0.7621 - val_loss: 0.5929 - val_acc: 0.6860\n",
      "Epoch 31/50\n",
      "1513/1513 [==============================] - 1s 636us/step - loss: 0.2524 - acc: 0.7528 - val_loss: 0.6116 - val_acc: 0.6966\n",
      "Epoch 32/50\n",
      "1513/1513 [==============================] - 1s 623us/step - loss: 0.2510 - acc: 0.7594 - val_loss: 0.6099 - val_acc: 0.6675\n",
      "Epoch 33/50\n",
      "1513/1513 [==============================] - 1s 755us/step - loss: 0.2517 - acc: 0.7654 - val_loss: 0.6213 - val_acc: 0.6570\n",
      "Epoch 34/50\n",
      "1513/1513 [==============================] - 1s 526us/step - loss: 0.2531 - acc: 0.7508 - val_loss: 0.6073 - val_acc: 0.6755\n",
      "Epoch 35/50\n",
      "1513/1513 [==============================] - 1s 593us/step - loss: 0.2442 - acc: 0.7746 - val_loss: 0.6086 - val_acc: 0.6887\n",
      "Epoch 36/50\n",
      "1513/1513 [==============================] - 1s 662us/step - loss: 0.2473 - acc: 0.7588 - val_loss: 0.5927 - val_acc: 0.6966\n",
      "Epoch 37/50\n",
      "1513/1513 [==============================] - 1s 655us/step - loss: 0.2453 - acc: 0.7654 - val_loss: 0.6132 - val_acc: 0.6728\n",
      "Epoch 38/50\n",
      "1513/1513 [==============================] - 1s 642us/step - loss: 0.2467 - acc: 0.7588 - val_loss: 0.6124 - val_acc: 0.6755\n",
      "Epoch 39/50\n",
      "1513/1513 [==============================] - 1s 653us/step - loss: 0.2420 - acc: 0.7634 - val_loss: 0.6109 - val_acc: 0.6860\n",
      "Epoch 40/50\n",
      "1513/1513 [==============================] - 1s 613us/step - loss: 0.2431 - acc: 0.7667 - val_loss: 0.6176 - val_acc: 0.6755\n",
      "Epoch 41/50\n",
      "1513/1513 [==============================] - 1s 621us/step - loss: 0.2427 - acc: 0.7687 - val_loss: 0.6334 - val_acc: 0.6702\n",
      "Epoch 42/50\n",
      "1513/1513 [==============================] - 1s 644us/step - loss: 0.2429 - acc: 0.7673 - val_loss: 0.6379 - val_acc: 0.6570\n",
      "Epoch 43/50\n",
      "1513/1513 [==============================] - 1s 636us/step - loss: 0.2392 - acc: 0.7733 - val_loss: 0.6421 - val_acc: 0.6623\n",
      "Epoch 44/50\n",
      "1513/1513 [==============================] - 1s 612us/step - loss: 0.2391 - acc: 0.7693 - val_loss: 0.6102 - val_acc: 0.6755\n",
      "Epoch 45/50\n",
      "1513/1513 [==============================] - 1s 602us/step - loss: 0.2399 - acc: 0.7687 - val_loss: 0.6445 - val_acc: 0.6807\n",
      "Epoch 46/50\n",
      "1513/1513 [==============================] - 1s 594us/step - loss: 0.2373 - acc: 0.7726 - val_loss: 0.6163 - val_acc: 0.6544\n",
      "Epoch 47/50\n",
      "1513/1513 [==============================] - 1s 650us/step - loss: 0.2387 - acc: 0.7640 - val_loss: 0.6327 - val_acc: 0.6702\n",
      "Epoch 48/50\n",
      "1513/1513 [==============================] - 1s 621us/step - loss: 0.2362 - acc: 0.7680 - val_loss: 0.6350 - val_acc: 0.6464\n",
      "Epoch 49/50\n",
      "1513/1513 [==============================] - 1s 631us/step - loss: 0.2358 - acc: 0.7733 - val_loss: 0.6640 - val_acc: 0.6834\n",
      "Epoch 50/50\n",
      "1513/1513 [==============================] - 1s 782us/step - loss: 0.2361 - acc: 0.7826 - val_loss: 0.6460 - val_acc: 0.6464\n"
     ]
    },
    {
     "data": {
      "text/plain": [
       "<keras.callbacks.History at 0x7f7f914c94e0>"
      ]
     },
     "execution_count": 144,
     "metadata": {},
     "output_type": "execute_result"
    }
   ],
   "source": [
    "model = Sequential()\n",
    "model.add(Dense(20, input_shape=(X.shape[1],) ,activation='relu'))\n",
    "model.add(Dense(30, activation='sigmoid'))\n",
    "model.add(Dense(40, activation='sigmoid'))\n",
    "model.add(Dense(40, activation='relu'))\n",
    "model.add(Dense(30, activation='relu'))\n",
    "model.add(Dense(20, activation='sigmoid'))\n",
    "model.add(Dense(1, activation='sigmoid'))\n",
    "\n",
    "model.compile(loss='binary_crossentropy', optimizer='adam', metrics=['accuracy'])\n",
    "model.summary()\n",
    "class_weight = {0: 0.5, 1: 0.5}\n",
    "model.fit(X_scaled_train,Y_train,epochs=50,batch_size=10,class_weight=class_weight,validation_data=(X_scaled_test,Y_test))"
   ]
  },
  {
   "cell_type": "code",
   "execution_count": 145,
   "metadata": {},
   "outputs": [],
   "source": [
    "directory = \"/home/aakash/Drive/Dropbox/ML/Aakash\""
   ]
  },
  {
   "cell_type": "code",
   "execution_count": 146,
   "metadata": {},
   "outputs": [],
   "source": [
    "oneHotEncoder1 = joblib.load(os.path.join(directory, 'oneHotEncoder.pkl'))\n",
    "scaler = joblib.load(os.path.join(directory, 'scaler.pkl'))\n",
    "model = load_model(os.path.join(directory, 'model.h5'))"
   ]
  },
  {
   "cell_type": "code",
   "execution_count": 147,
   "metadata": {},
   "outputs": [],
   "source": [
    "# def model():\n",
    "#     model = Sequential()\n",
    "#     model.add(Dense(20, input_dim=26))\n",
    "#     model.add(Dense(30, activation='sigmoid'))\n",
    "#     model.add(Dense(40, activation='sigmoid'))\n",
    "#     model.add(Dense(40, activation='relu'))\n",
    "#     model.add(Dense(30, activation='relu'))\n",
    "#     model.add(Dense(20, activation='sigmoid'))\n",
    "#     model.add(Dense(1, activation='sigmoid'))\n",
    "\n",
    "#     model.compile(loss='binary_crossentropy', optimizer='adam', metrics=['accuracy'])\n",
    "#     return model\n",
    "\n",
    "# pipe = Pipeline([('oneHotEncoder', OneHotEncoder(n_values=[5,10],categorical_features = [2,12])),\n",
    "#                      ('scaler',StandardScaler(with_mean=False)), \n",
    "#                      ('nn', KerasClassifier(build_fn=model, epochs=40, batch_size=5))\n",
    "#                     ])"
   ]
  },
  {
   "cell_type": "code",
   "execution_count": 148,
   "metadata": {},
   "outputs": [],
   "source": [
    "# features = df.columns.tolist()\n",
    "# result = features.pop()\n",
    "# X = df[features]\n",
    "# Y = df[result]\n",
    "# X_train, X_test, Y_train, Y_test = cv.train_test_split(X.values,Y.values,test_size=0.2,random_state=0)"
   ]
  },
  {
   "cell_type": "code",
   "execution_count": 149,
   "metadata": {},
   "outputs": [],
   "source": [
    "# pipe.fit(X_train,Y_train)"
   ]
  },
  {
   "cell_type": "code",
   "execution_count": 150,
   "metadata": {
    "scrolled": false
   },
   "outputs": [],
   "source": [
    "# directory = \"/home/aakash/Drive/Dropbox/ML/Aakash\"\n",
    "# model_step = pipe.steps.pop(-1)[1]"
   ]
  },
  {
   "cell_type": "code",
   "execution_count": 151,
   "metadata": {},
   "outputs": [],
   "source": [
    "# joblib.dump(pipe, os.path.join(directory, 'pipeline.pkl'))\n",
    "# save_model(model_step.model, os.path.join(directory, 'model.h5'))"
   ]
  },
  {
   "cell_type": "code",
   "execution_count": 152,
   "metadata": {},
   "outputs": [],
   "source": [
    "# K.clear_session()\n",
    "# pipe = joblib.load(os.path.join(directory, 'pipeline.pkl'))\n",
    "# model = load_model(directory + '/model.h5')\n",
    "# pipe.steps.append(('nn', model))"
   ]
  },
  {
   "cell_type": "code",
   "execution_count": 153,
   "metadata": {},
   "outputs": [],
   "source": [
    "y_pred = model.predict(X_scaled_test)\n",
    "y_pred_train = model.predict(X_scaled_train)"
   ]
  },
  {
   "cell_type": "code",
   "execution_count": 154,
   "metadata": {},
   "outputs": [],
   "source": [
    "y_pred_rounded = np.round(y_pred)\n",
    "y_pred_rounded_train = np.round(y_pred_train)"
   ]
  },
  {
   "cell_type": "code",
   "execution_count": 155,
   "metadata": {},
   "outputs": [
    {
     "name": "stdout",
     "output_type": "stream",
     "text": [
      "             precision    recall  f1-score   support\n",
      "\n",
      "          0       0.60      0.74      0.67       180\n",
      "          1       0.71      0.56      0.62       199\n",
      "\n",
      "avg / total       0.66      0.65      0.64       379\n",
      "\n",
      "[[134  46]\n",
      " [ 88 111]]\n",
      "             precision    recall  f1-score   support\n",
      "\n",
      "          0       0.74      0.86      0.80       766\n",
      "          1       0.83      0.69      0.75       747\n",
      "\n",
      "avg / total       0.78      0.78      0.77      1513\n",
      "\n",
      "[[660 106]\n",
      " [232 515]]\n"
     ]
    }
   ],
   "source": [
    "print(classification_report(Y_test,y_pred_rounded))\n",
    "print(confusion_matrix(Y_test,y_pred_rounded))\n",
    "\n",
    "print(classification_report(Y_train,y_pred_rounded_train))\n",
    "print(confusion_matrix(Y_train,y_pred_rounded_train))"
   ]
  },
  {
   "cell_type": "code",
   "execution_count": 156,
   "metadata": {},
   "outputs": [
    {
     "name": "stdout",
     "output_type": "stream",
     "text": [
      "             precision    recall  f1-score   support\n",
      "\n",
      "          0       0.62      0.71      0.66       180\n",
      "          1       0.70      0.61      0.65       199\n",
      "\n",
      "avg / total       0.66      0.66      0.66       379\n",
      "\n",
      "[[128  52]\n",
      " [ 78 121]]\n"
     ]
    }
   ],
   "source": [
    "#Trying to variate the threshold value\n",
    "threshold = 0.47\n",
    "rounded = np.zeros(y_pred.shape)\n",
    "for i in range(y_pred.shape[0]):\n",
    "    rounded[i][0] = (y_pred[i][0] >= threshold)\n",
    "print(classification_report(Y_test,rounded))\n",
    "print(confusion_matrix(Y_test,rounded))"
   ]
  },
  {
   "cell_type": "code",
   "execution_count": 157,
   "metadata": {},
   "outputs": [
    {
     "name": "stdout",
     "output_type": "stream",
     "text": [
      "Percentage of samples lying in this range =  27.70448548812665\n"
     ]
    }
   ],
   "source": [
    "count = 0\n",
    "lower_limit = 0.3\n",
    "upper_limit = 0.7\n",
    "for i in range(y_pred.shape[0]):\n",
    "    if ((y_pred[i][0] >= lower_limit) & (y_pred[i][0] <= upper_limit)):\n",
    "        count += 1 \n",
    "print(\"Percentage of samples lying in this range = \", count*100/y_pred.shape[0])"
   ]
  },
  {
   "cell_type": "code",
   "execution_count": 158,
   "metadata": {},
   "outputs": [],
   "source": [
    "ranges = [round(0.1*i,1) for i in range(0,11)]\n",
    "joining_results = []\n",
    "not_joining_results = []\n",
    "for i in range(1,11):\n",
    "    lower_limit = ranges[i-1]\n",
    "    upper_limit = ranges[i]\n",
    "    joining = 0\n",
    "    not_joining = 0\n",
    "    for j in range(y_pred.shape[0]):\n",
    "        if((y_pred[j][0] >= lower_limit) & (y_pred[j][0] < upper_limit)):\n",
    "            if(Y_test[j] == 1):\n",
    "                joining += 1\n",
    "            else:\n",
    "                not_joining += 1\n",
    "    joining_results.append(joining)\n",
    "    not_joining_results.append(not_joining)"
   ]
  },
  {
   "cell_type": "code",
   "execution_count": 159,
   "metadata": {},
   "outputs": [
    {
     "name": "stdout",
     "output_type": "stream",
     "text": [
      "[12, 9, 31, 14, 22, 11, 13, 12, 12, 63]\n",
      "[36, 43, 31, 11, 13, 9, 12, 14, 3, 8]\n"
     ]
    }
   ],
   "source": [
    "print(joining_results)\n",
    "print(not_joining_results)"
   ]
  },
  {
   "cell_type": "code",
   "execution_count": 160,
   "metadata": {},
   "outputs": [
    {
     "data": {
      "image/png": "[encoded data removed]",
      "text/plain": [
       "<Figure size 432x288 with 1 Axes>"
      ]
     },
     "metadata": {},
     "output_type": "display_data"
    }
   ],
   "source": [
    "import matplotlib.pyplot as plt\n",
    "joining_pos = [ i*10 + 2.5 for i in range(0,10)]\n",
    "not_joining_pos = [ i*10 + 7.5 for i in range(0,10)]\n",
    "plt.bar(joining_pos,joining_results,width=4, label=\"Joining Result\")\n",
    "plt.bar(not_joining_pos,not_joining_results,width=4, label=\"Not Joining Result\")\n",
    "plt.xticks([10*i for i in range(0,11)])\n",
    "plt.legend()\n",
    "plt.show()"
   ]
  },
  {
   "cell_type": "code",
   "execution_count": null,
   "metadata": {},
   "outputs": [],
   "source": []
  }
 ],
 "metadata": {
  "anaconda-cloud": {},
  "kernelspec": {
   "display_name": "Python 3",
   "language": "python",
   "name": "python3"
  },
  "language_info": {
   "codemirror_mode": {
    "name": "ipython",
    "version": 3
   },
   "file_extension": ".py",
   "mimetype": "text/x-python",
   "name": "python",
   "nbconvert_exporter": "python",
   "pygments_lexer": "ipython3",
   "version": "3.6.6"
  }
 },
 "nbformat": 4,
 "nbformat_minor": 2
}
