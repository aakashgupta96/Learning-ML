{
 "cells": [
  {
   "cell_type": "code",
   "execution_count": 3,
   "metadata": {},
   "outputs": [],
   "source": [
    "import numpy as np\n",
    "import pydotplus\n",
    "import pandas as pd\n",
    "import sklearn.datasets as Datasets\n",
    "from sklearn import tree\n",
    "from sklearn import model_selection as cv\n",
    "from sklearn import naive_bayes\n",
    "from sklearn.metrics import classification_report, confusion_matrix"
   ]
  },
  {
   "cell_type": "code",
   "execution_count": 18,
   "metadata": {},
   "outputs": [],
   "source": [
    "def calculatePriorProbabilities(Y):\n",
    "    classes = set(Y)\n",
    "    result = {}\n",
    "    for i in classes:\n",
    "        result[i] = (len(Y[Y==i])/len(Y))\n",
    "    return result"
   ]
  },
  {
   "cell_type": "code",
   "execution_count": 5,
   "metadata": {},
   "outputs": [],
   "source": [
    "def naiveProbability(priorProbability,current_class,X_train,Y_train,X_test_sample):\n",
    "    result = priorProbability\n",
    "    #Modifying X_train for current class only\n",
    "    class_samples = (Y_train == current_class)\n",
    "    Y_train = Y_train[class_samples]\n",
    "    X_train = X_train[class_samples]\n",
    "    dr = len(Y_train)\n",
    "    for i in range(0,X_train.shape[-1]):\n",
    "        nr = len(X_train[X_train[:,i]==X_test_sample[i]])\n",
    "        result = result * (nr/dr)\n",
    "    return result"
   ]
  },
  {
   "cell_type": "code",
   "execution_count": 70,
   "metadata": {},
   "outputs": [],
   "source": [
    "#For Labelled(non-continous) Features only\n",
    "def naiveBayesPredict(X_train,Y_train,X_test,priorProbabilities={}):\n",
    "    classes = set(Y_train)\n",
    "    test_samples = X_test.shape[0]\n",
    "    y_pred = np.zeros(test_samples)\n",
    "    \n",
    "    #Assuming this condition is sufficient\n",
    "    if (len(priorProbabilities) == 0) :\n",
    "        priorProbabilities = calculatePriorProbabilities(Y_train)\n",
    "    #print(priorProbabilities)\n",
    "    for i in range(0,test_samples):\n",
    "        probabilities = {}\n",
    "        for current_class in classes:\n",
    "            probabilities[current_class] = naiveProbability(priorProbabilities[current_class],current_class,X_train,Y_train,X_test[i,:])\n",
    "        #print(\"For sample\",X_test[i,:],\" probabilities are = \",probabilities)\n",
    "        y_pred[i] = max(probabilities,key=probabilities.get)\n",
    "    return y_pred"
   ]
  },
  {
   "cell_type": "markdown",
   "metadata": {},
   "source": [
    "# Using fit To Create Dictionary For Faster Computations while testing"
   ]
  },
  {
   "cell_type": "code",
   "execution_count": 64,
   "metadata": {},
   "outputs": [],
   "source": [
    "#Returns a dictionary\n",
    "def fit(X_train,Y_train):\n",
    "    result = {}\n",
    "    output_classes = set(Y_train)\n",
    "    for current_class in output_classes:\n",
    "        value = {}\n",
    "        result[current_class] = value\n",
    "        class_samples = (Y_train == current_class)\n",
    "        Y_train_current = Y_train[class_samples]\n",
    "        X_train_current = X_train[class_samples]\n",
    "        for feature in range(0,X_train.shape[-1]):\n",
    "            value[feature] = {}\n",
    "            current_hash = value[feature]\n",
    "            unique_feature_values = set(X_train[:,feature])\n",
    "            for unique_value in unique_feature_values:\n",
    "                current_hash[unique_value] = len(X_train_current[X_train_current[:,feature] == unique_value])\n",
    "    return result"
   ]
  },
  {
   "cell_type": "code",
   "execution_count": null,
   "metadata": {},
   "outputs": [],
   "source": [
    "def calculatePriorProbabilitiesUsingDictionary(dictionary):\n",
    "    "
   ]
  },
  {
   "cell_type": "code",
   "execution_count": null,
   "metadata": {},
   "outputs": [],
   "source": [
    "def naivePredictUsingDictionary(dictioanry,X_test,priorProbabilities={}):\n",
    "    classes = dictionary.keys()\n",
    "    test_samples = X_test.shape[0]\n",
    "    y_pred = np.zeros(test_samples)\n",
    "    \n",
    "    #Assuming this condition is sifficient\n",
    "    if (len(priorProbabilities) == 0) :\n",
    "        priorProbabilities = calculatePriorProbabilitiesUsingDictionary(dictionary)\n",
    "    #print(priorProbabilities)\n",
    "    for i in range(0,test_samples):\n",
    "        probabilities = {}\n",
    "        for current_class in classes:\n",
    "            probabilities[current_class] = naiveProbability(priorProbabilities[current_class],current_class,X_train,Y_train,X_test[i,:])\n",
    "        #print(\"For sample\",X_test[i,:],\" probabilities are = \",probabilities)\n",
    "        y_pred[i] = max(probabilities,key=probabilities.get)\n",
    "    return y_pred"
   ]
  },
  {
   "cell_type": "markdown",
   "metadata": {},
   "source": [
    "# Changing Iris Dataset to labelled dataset"
   ]
  },
  {
   "cell_type": "markdown",
   "metadata": {},
   "source": [
    "### Laplace Correction for probability of one feature\n",
    "#### In numerator, add 1 and in Dr, add count of different unique values that feature can take (Only for labelled data set)"
   ]
  },
  {
   "cell_type": "code",
   "execution_count": 11,
   "metadata": {},
   "outputs": [],
   "source": [
    "def makeLabelled(column):\n",
    "    second_limit = column.mean()\n",
    "    first_limit = 0.5 * second_limit\n",
    "    third_limit = 1.5*second_limit\n",
    "    for i in range (0,len(column)):\n",
    "        if (column[i] < first_limit):\n",
    "            column[i] = 0\n",
    "        elif (column[i] < second_limit):\n",
    "            column[i] = 1\n",
    "        elif(column[i] < third_limit):\n",
    "            column[i] = 2\n",
    "        else:\n",
    "            column[i] = 3\n",
    "    return column"
   ]
  },
  {
   "cell_type": "code",
   "execution_count": 71,
   "metadata": {},
   "outputs": [],
   "source": [
    "iris = Datasets.load_iris()\n",
    "df = pd.DataFrame(iris.data)"
   ]
  },
  {
   "cell_type": "code",
   "execution_count": 72,
   "metadata": {},
   "outputs": [],
   "source": [
    "X = df.values\n",
    "Y = iris.target"
   ]
  },
  {
   "cell_type": "code",
   "execution_count": 73,
   "metadata": {},
   "outputs": [],
   "source": [
    "for i in range(0,X.shape[-1]):\n",
    "    X[:,i] = makeLabelled(X[:,i])"
   ]
  },
  {
   "cell_type": "code",
   "execution_count": 75,
   "metadata": {},
   "outputs": [],
   "source": [
    "X_train,X_test,Y_train,Y_test = cv.train_test_split(X,Y,test_size=0.25,random_state=0)"
   ]
  },
  {
   "cell_type": "markdown",
   "metadata": {},
   "source": [
    "# Checking Results From My Implementation"
   ]
  },
  {
   "cell_type": "code",
   "execution_count": 37,
   "metadata": {},
   "outputs": [
    {
     "name": "stdout",
     "output_type": "stream",
     "text": [
      "current class =  0\n",
      "current class =  1\n",
      "current class =  2\n"
     ]
    }
   ],
   "source": [
    "dictionary = fit(X_train,Y_train)"
   ]
  },
  {
   "cell_type": "code",
   "execution_count": 91,
   "metadata": {},
   "outputs": [
    {
     "data": {
      "text/plain": [
       "{0: {1.0: 39, 2.0: 0},\n",
       " 1: {1.0: 6, 2.0: 33},\n",
       " 2: {0.0: 39, 1.0: 0, 2.0: 0, 3.0: 0},\n",
       " 3: {0.0: 38, 1.0: 1, 2.0: 0, 3.0: 0}}"
      ]
     },
     "execution_count": 91,
     "metadata": {},
     "output_type": "execute_result"
    }
   ],
   "source": [
    "dictionary[0]"
   ]
  },
  {
   "cell_type": "code",
   "execution_count": 76,
   "metadata": {},
   "outputs": [],
   "source": [
    "Y_pred = naiveBayesPredict(X_train,Y_train,X_test)"
   ]
  },
  {
   "cell_type": "code",
   "execution_count": 77,
   "metadata": {
    "scrolled": true
   },
   "outputs": [
    {
     "name": "stdout",
     "output_type": "stream",
     "text": [
      "             precision    recall  f1-score   support\n",
      "\n",
      "          0       1.00      1.00      1.00        13\n",
      "          1       0.94      1.00      0.97        16\n",
      "          2       1.00      0.89      0.94         9\n",
      "\n",
      "avg / total       0.98      0.97      0.97        38\n",
      "\n",
      "[[13  0  0]\n",
      " [ 0 16  0]\n",
      " [ 0  1  8]]\n"
     ]
    }
   ],
   "source": [
    "print(classification_report(Y_test,Y_pred))\n",
    "print(confusion_matrix(Y_test,Y_pred))"
   ]
  },
  {
   "cell_type": "markdown",
   "metadata": {},
   "source": [
    "# Checking Results Using sklearn Gaussian Model"
   ]
  },
  {
   "cell_type": "code",
   "execution_count": 99,
   "metadata": {},
   "outputs": [
    {
     "data": {
      "text/plain": [
       "array([[  2.44154394e-04,   4.95365454e-01,   5.04390392e-01],\n",
       "       [  5.13622003e-05,   4.97827770e-01,   5.02120867e-01],\n",
       "       [  1.42184546e-05,   4.55422199e-01,   5.44563583e-01],\n",
       "       [  1.42184546e-05,   4.55422199e-01,   5.44563583e-01],\n",
       "       [  5.13622003e-05,   4.97827770e-01,   5.02120867e-01],\n",
       "       [  1.42184546e-05,   4.55422199e-01,   5.44563583e-01],\n",
       "       [  1.42184546e-05,   4.55422199e-01,   5.44563583e-01],\n",
       "       [  1.42184546e-05,   4.55422199e-01,   5.44563583e-01],\n",
       "       [  1.42184546e-05,   4.55422199e-01,   5.44563583e-01],\n",
       "       [  9.30887042e-06,   4.44972777e-01,   5.55017914e-01],\n",
       "       [  9.30887042e-06,   4.44972777e-01,   5.55017914e-01],\n",
       "       [  2.35739663e-01,   4.26444066e-01,   3.37816271e-01],\n",
       "       [  2.35739663e-01,   4.26444066e-01,   3.37816271e-01],\n",
       "       [  1.42184546e-05,   4.55422199e-01,   5.44563583e-01],\n",
       "       [  5.01362881e-03,   4.73160545e-01,   5.21825826e-01],\n",
       "       [  9.30887042e-06,   4.44972777e-01,   5.55017914e-01],\n",
       "       [  9.30887042e-06,   4.44972777e-01,   5.55017914e-01],\n",
       "       [  1.42184546e-05,   4.55422199e-01,   5.44563583e-01]])"
      ]
     },
     "execution_count": 99,
     "metadata": {},
     "output_type": "execute_result"
    }
   ],
   "source": [
    "from sklearn import naive_bayes\n",
    "mnb = naive_bayes.MultinomialNB(alpha=1)\n",
    "mnb.fit(X_train,Y_train)\n",
    "Y_pred = mnb.predict(X_test)\n",
    "mnb.predict_proba(X_test[Y_pred != Y_test])"
   ]
  },
  {
   "cell_type": "code",
   "execution_count": 100,
   "metadata": {},
   "outputs": [
    {
     "name": "stdout",
     "output_type": "stream",
     "text": [
      "             precision    recall  f1-score   support\n",
      "\n",
      "          0       1.00      0.85      0.92        13\n",
      "          1       0.00      0.00      0.00        16\n",
      "          2       0.36      1.00      0.53         9\n",
      "\n",
      "avg / total       0.43      0.53      0.44        38\n",
      "\n",
      "[[11  2  0]\n",
      " [ 0  0 16]\n",
      " [ 0  0  9]]\n"
     ]
    }
   ],
   "source": [
    "print(classification_report(Y_test,Y_pred))\n",
    "print(confusion_matrix(Y_test,Y_pred))"
   ]
  },
  {
   "cell_type": "code",
   "execution_count": 101,
   "metadata": {},
   "outputs": [
    {
     "data": {
      "text/plain": [
       "0.52631578947368418"
      ]
     },
     "execution_count": 101,
     "metadata": {},
     "output_type": "execute_result"
    }
   ],
   "source": [
    "gnb.score(X_test,Y_test)"
   ]
  }
 ],
 "metadata": {
  "kernelspec": {
   "display_name": "Python 3",
   "language": "python",
   "name": "python3"
  },
  "language_info": {
   "codemirror_mode": {
    "name": "ipython",
    "version": 3
   },
   "file_extension": ".py",
   "mimetype": "text/x-python",
   "name": "python",
   "nbconvert_exporter": "python",
   "pygments_lexer": "ipython3",
   "version": "3.6.4"
  }
 },
 "nbformat": 4,
 "nbformat_minor": 2
}
