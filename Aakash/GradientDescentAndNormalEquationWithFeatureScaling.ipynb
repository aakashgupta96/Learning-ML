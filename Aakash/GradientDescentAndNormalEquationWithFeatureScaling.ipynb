{
 "cells": [
  {
   "cell_type": "markdown",
   "metadata": {},
   "source": [
    "## Gradient Descent And Normal Equation With Feature Scaling"
   ]
  },
  {
   "cell_type": "code",
   "execution_count": 1,
   "metadata": {},
   "outputs": [],
   "source": [
    "import pandas as pd\n",
    "import numpy as np\n",
    "import sklearn.datasets as Datasets\n",
    "from sklearn.linear_model import LinearRegression\n",
    "import sklearn.model_selection as cv\n",
    "import matplotlib.pyplot as plt\n",
    "from matplotlib import style"
   ]
  },
  {
   "cell_type": "code",
   "execution_count": 2,
   "metadata": {},
   "outputs": [],
   "source": [
    "def fitNormalEquation(X_train,Y_train):\n",
    "    #theta = (X.T * X).inv * X.T * Y_train\n",
    "    #Adding dummy variable column in X_train for constant term\n",
    "    X_train = np.c_[np.ones(len(X_train)),X_train]\n",
    "    a = np.matmul(X_train.T,X_train)\n",
    "    inverse = np.linalg.pinv(a)\n",
    "    b = np.matmul(inverse,X_train.T)\n",
    "    theta = np.matmul(b,Y_train)\n",
    "    return theta"
   ]
  },
  {
   "cell_type": "code",
   "execution_count": 3,
   "metadata": {},
   "outputs": [],
   "source": [
    "def linearHypothesis(theta,X):\n",
    "    return np.matmul(X,theta)"
   ]
  },
  {
   "cell_type": "code",
   "execution_count": 4,
   "metadata": {},
   "outputs": [],
   "source": [
    "def squaredErrorCost(theta,X,Y):\n",
    "    return ((np.matmul(X,theta) - Y)**2).sum()/(X.shape[0])"
   ]
  },
  {
   "cell_type": "code",
   "execution_count": 5,
   "metadata": {},
   "outputs": [],
   "source": [
    "#Expects 2D X_train of shape (n,fc) and 1D Y_train of shape (n,)\n",
    "\n",
    "def fitGradientDescent(X_train,Y_train,learning_rate=0.001,tolerance=0.0001,max_iterations=1000000): #X_train can be np 2D array\n",
    "    n,fc = X_train.shape #fc is feature_count, n is no.of training samples\n",
    "    #Setting x[0] as 1s\n",
    "    X_train = np.c_[np.ones(n),X_train]\n",
    "    #Now X_train's shape is (n,fc+1)\n",
    "    Y_train = Y_train.reshape((len(Y_train),1))\n",
    "    #Initializing theta with shape (fc+1,1)\n",
    "    theta = np.zeros((fc+1,1))\n",
    "#     print(\"X shape is \",X_train.shape)\n",
    "#     print(\"theta shape is \",theta.shape)\n",
    "    \n",
    "    cost_values = []\n",
    "    iterations = []\n",
    "    count = 0\n",
    "    cost = squaredErrorCost(theta,X_train,Y_train)\n",
    "    \n",
    "    delta_cost = cost\n",
    "    while(delta_cost >= tolerance and count <= max_iterations):\n",
    "        #Updating parameters based on formula and maths\n",
    "        hypothesis = linearHypothesis(theta,X_train)\n",
    "        error = hypothesis - Y_train\n",
    "        theta_derivative =  (np.matmul(X_train.T,error))/n # (fc+1,n)*(n,1) = (fc+1,1)\n",
    "        theta = theta - theta_derivative*learning_rate\n",
    "        \n",
    "        #For plotting curve of error value vs no. of iterations\n",
    "        if (count%10 == 0):\n",
    "            cost_values.insert(len(cost_values),cost) \n",
    "            iterations.insert(len(iterations),count)\n",
    "        \n",
    "        #Updated error value with new values of parameters and iteration count\n",
    "        new_cost = squaredErrorCost(theta,X_train,Y_train)\n",
    "        delta_cost = abs(new_cost - cost)\n",
    "        cost = new_cost\n",
    "        count = count + 1\n",
    "        \n",
    "    print(\"Stopped after\",count,\"iterations\")\n",
    "    style.use('ggplot')\n",
    "    plt.plot(iterations,cost_values)\n",
    "    plt.xlabel(\"No. Of Iterations\")\n",
    "    plt.ylabel(\"Value Of Squared Error Function\")\n",
    "    plt.title(\"Cost Vs Iterations\")\n",
    "    plt.show() #Should be decreasing for checking correct movement of gradient descent\n",
    "    return theta"
   ]
  },
  {
   "cell_type": "code",
   "execution_count": 6,
   "metadata": {},
   "outputs": [],
   "source": [
    "def predict(X_test,theta):\n",
    "    X_test = np.c_[np.ones(X_test.shape[0]),X_test]\n",
    "    return np.matmul(X_test,theta)"
   ]
  },
  {
   "cell_type": "code",
   "execution_count": 7,
   "metadata": {},
   "outputs": [],
   "source": [
    "def score(Y_true,Y_predicted):\n",
    "    nr = ((Y_true - Y_predicted)*(Y_true-Y_predicted)).sum()\n",
    "    dr = ((Y_true - Y_true.mean())*(Y_true-Y_true.mean())).sum()\n",
    "    result = 1 - (nr/dr)\n",
    "    return result"
   ]
  },
  {
   "cell_type": "code",
   "execution_count": 8,
   "metadata": {},
   "outputs": [],
   "source": [
    "def scaledCopy(ndarray):\n",
    "    df_scaled = ndarray.copy()\n",
    "    for i in range(df_scaled.shape[-1]):\n",
    "        df_scaled[:,i] = df_scaled[:,i]/df_scaled[:,i].max()\n",
    "    return df_scaled"
   ]
  },
  {
   "cell_type": "code",
   "execution_count": 9,
   "metadata": {},
   "outputs": [],
   "source": [
    "def meanScaledCopy(ndarray):\n",
    "    df_scaled = ndarray.copy()\n",
    "    for i in range(df_scaled.shape[-1]):\n",
    "        df_scaled[:,i] = (df_scaled[:,i]-df_scaled[:,i].mean())/df_scaled[:,i].std()\n",
    "    return df_scaled"
   ]
  },
  {
   "cell_type": "markdown",
   "metadata": {},
   "source": [
    "## Testing Boston Dataset"
   ]
  },
  {
   "cell_type": "code",
   "execution_count": 10,
   "metadata": {},
   "outputs": [],
   "source": [
    "boston = Datasets.load_boston()\n",
    "df = pd.DataFrame(boston.data)"
   ]
  },
  {
   "cell_type": "code",
   "execution_count": 11,
   "metadata": {},
   "outputs": [],
   "source": [
    "X = df.values\n",
    "Y = boston.target"
   ]
  },
  {
   "cell_type": "code",
   "execution_count": 12,
   "metadata": {},
   "outputs": [],
   "source": [
    "X_train, X_test, Y_train, Y_test = cv.train_test_split(X,Y,test_size=0.2,random_state=0)"
   ]
  },
  {
   "cell_type": "code",
   "execution_count": 13,
   "metadata": {},
   "outputs": [],
   "source": [
    "X_test_scaled = scaledCopy(X_test)\n",
    "X_train_scaled = scaledCopy(X_train)"
   ]
  },
  {
   "cell_type": "code",
   "execution_count": 14,
   "metadata": {},
   "outputs": [],
   "source": [
    "X_test_mean_scaled = meanScaledCopy(X_test)\n",
    "X_train_mean_scaled = meanScaledCopy(X_train)"
   ]
  },
  {
   "cell_type": "code",
   "execution_count": 15,
   "metadata": {},
   "outputs": [
    {
     "name": "stdout",
     "output_type": "stream",
     "text": [
      "Score for SciKit LR Model =  0.5892011519186435\n"
     ]
    }
   ],
   "source": [
    "regressor = LinearRegression()\n",
    "regressor.fit(X_train,Y_train)\n",
    "print(\"Score for SciKit LR Model = \",score(Y_test,regressor.predict(X_test)))"
   ]
  },
  {
   "cell_type": "code",
   "execution_count": 16,
   "metadata": {},
   "outputs": [
    {
     "name": "stdout",
     "output_type": "stream",
     "text": [
      "Score for Unscaled DF Normal Equation =  0.589201151919189\n",
      "Stopped after 1000001 iterations\n"
     ]
    },
    {
     "data": {
      "image/png": "[encoded data removed]",
      "text/plain": [
       "<Figure size 432x288 with 1 Axes>"
      ]
     },
     "metadata": {},
     "output_type": "display_data"
    },
    {
     "name": "stdout",
     "output_type": "stream",
     "text": [
      "Score for Unscaled Gradient Descent =  0.4679345760969613\n"
     ]
    }
   ],
   "source": [
    "theta = fitNormalEquation(X_train,Y_train.reshape(len(Y_train),1))\n",
    "Y_predicted = predict(X_test,theta)\n",
    "print(\"Score for Unscaled DF Normal Equation = \",score(Y_test,Y_predicted.reshape(len(Y_predicted))))\n",
    "theta = fitGradientDescent(X_train,Y_train.reshape(len(Y_train),1),learning_rate=0.0000006,max_iterations=1000000,tolerance=0.000001)\n",
    "Y_predicted = predict(X_test,theta)\n",
    "print(\"Score for Unscaled Gradient Descent = \",score(Y_test,Y_predicted.reshape(len(Y_predicted))))"
   ]
  },
  {
   "cell_type": "code",
   "execution_count": 17,
   "metadata": {
    "scrolled": true
   },
   "outputs": [
    {
     "name": "stdout",
     "output_type": "stream",
     "text": [
      "Score for Scaled DF Normal Equation =  0.5463258244231264\n",
      "Stopped after 6597 iterations\n"
     ]
    },
    {
     "data": {
      "image/png": "[encoded data removed]",
      "text/plain": [
       "<Figure size 432x288 with 1 Axes>"
      ]
     },
     "metadata": {},
     "output_type": "display_data"
    },
    {
     "name": "stdout",
     "output_type": "stream",
     "text": [
      "Score for Scaled Gradient Descent =  0.5469572541773675\n"
     ]
    }
   ],
   "source": [
    "theta = fitNormalEquation(X_train_scaled,Y_train.reshape(len(Y_train),1))\n",
    "Y_predicted = predict(X_test_scaled,theta)\n",
    "print(\"Score for Scaled DF Normal Equation = \",score(Y_test,Y_predicted.reshape(len(Y_predicted))))\n",
    "#Reduce tolerance and increase iterations to reach near to normal equation results\n",
    "#Now we can increase learning rate as it won't cause integer overflow while multiplications because of feature scaling\n",
    "theta = fitGradientDescent(X_train_scaled,Y_train.reshape(len(Y_train),1),learning_rate=0.3,max_iterations=1000000,tolerance=0.00001)\n",
    "Y_predicted = predict(X_test_scaled,theta)\n",
    "print(\"Score for Scaled Gradient Descent = \",score(Y_test,Y_predicted.reshape(len(Y_predicted))))"
   ]
  },
  {
   "cell_type": "code",
   "execution_count": 18,
   "metadata": {},
   "outputs": [
    {
     "name": "stdout",
     "output_type": "stream",
     "text": [
      "Score for Mean Scaled DF Normal Equation =  0.5686555949625393\n",
      "Stopped after 200 iterations\n"
     ]
    },
    {
     "data": {
      "image/png": "[encoded data removed]",
      "text/plain": [
       "<Figure size 432x288 with 1 Axes>"
      ]
     },
     "metadata": {},
     "output_type": "display_data"
    },
    {
     "name": "stdout",
     "output_type": "stream",
     "text": [
      "Score for Mean Scaled Gradient Descent =  0.5684213248313781\n"
     ]
    }
   ],
   "source": [
    "theta = fitNormalEquation(X_train_mean_scaled,Y_train.reshape(len(Y_train),1))\n",
    "Y_predicted = predict(X_test_mean_scaled,theta)\n",
    "print(\"Score for Mean Scaled DF Normal Equation = \",score(Y_test,Y_predicted.reshape(len(Y_predicted))))\n",
    "#Reduce tolerance and increase iterations to reach near to normal equation results\n",
    "#Now we can increase learning rate as it won't cause integer overflow while multiplications because of feature scaling\n",
    "theta = fitGradientDescent(X_train_mean_scaled,Y_train.reshape(len(Y_train),1),learning_rate=0.3,max_iterations=1000000,tolerance=0.00001)\n",
    "Y_predicted = predict(X_test_mean_scaled,theta)\n",
    "print(\"Score for Mean Scaled Gradient Descent = \",score(Y_test,Y_predicted.reshape(len(Y_predicted))))"
   ]
  },
  {
   "cell_type": "markdown",
   "metadata": {},
   "source": [
    "## Testing L3 HW Dataset "
   ]
  },
  {
   "cell_type": "code",
   "execution_count": 19,
   "metadata": {},
   "outputs": [],
   "source": [
    "test_data = pd.read_excel(r\"../data/L3_homework/test.xlsx\")\n",
    "train_data = pd.read_excel(r\"../data/L3_homework/train.xlsx\")\n",
    "X_train = train_data.iloc[:,:-1].values\n",
    "Y_train = train_data.iloc[:,-1].values\n",
    "X_test = test_data.iloc[:,:-1].values\n",
    "Y_test = test_data.iloc[:,-1].values"
   ]
  },
  {
   "cell_type": "code",
   "execution_count": 20,
   "metadata": {},
   "outputs": [],
   "source": [
    "X_test_scaled = scaledCopy(X_test)\n",
    "X_train_scaled = scaledCopy(X_train)"
   ]
  },
  {
   "cell_type": "code",
   "execution_count": 21,
   "metadata": {},
   "outputs": [],
   "source": [
    "X_test_mean_scaled = meanScaledCopy(X_test)\n",
    "X_train_mean_scaled = meanScaledCopy(X_train)"
   ]
  },
  {
   "cell_type": "code",
   "execution_count": null,
   "metadata": {},
   "outputs": [
    {
     "name": "stdout",
     "output_type": "stream",
     "text": [
      "Score for Unscaled DF Normal Equation =  0.9284059855449504\n"
     ]
    }
   ],
   "source": [
    "theta = fitNormalEquation(X_train,Y_train.reshape(len(Y_train),1))\n",
    "Y_predicted = predict(X_test,theta)\n",
    "print(\"Score for Unscaled DF Normal Equation = \",score(Y_test,Y_predicted.reshape(len(Y_predicted))))\n",
    "theta = fitGradientDescent(X_train,Y_train.reshape(len(Y_train),1),learning_rate=0.0000006,max_iterations=1000000,tolerance=0.000001)\n",
    "Y_predicted = predict(X_test,theta)\n",
    "print(\"Score for Unscaled Gradient Descent = \",score(Y_test,Y_predicted.reshape(len(Y_predicted))))"
   ]
  },
  {
   "cell_type": "code",
   "execution_count": null,
   "metadata": {},
   "outputs": [],
   "source": [
    "theta = fitNormalEquation(X_train_scaled,Y_train.reshape(len(Y_train),1))\n",
    "Y_predicted = predict(X_test_scaled,theta)\n",
    "print(\"Score for Scaled DF Normal Equation = \",score(Y_test,Y_predicted.reshape(len(Y_predicted))))\n",
    "#Reduce tolerance and increase iterations to reach near to normal equation results\n",
    "#Now we can increase learning rate as it won't cause integer overflow while multiplications because of feature scaling\n",
    "theta = fitGradientDescent(X_train_scaled,Y_train.reshape(len(Y_train),1),learning_rate=0.3,max_iterations=1000000,tolerance=0.00001)\n",
    "Y_predicted = predict(X_test_scaled,theta)\n",
    "print(\"Score for Scaled Gradient Descent = \",score(Y_test,Y_predicted.reshape(len(Y_predicted))))"
   ]
  },
  {
   "cell_type": "code",
   "execution_count": null,
   "metadata": {},
   "outputs": [],
   "source": [
    "theta = fitNormalEquation(X_train_mean_scaled,Y_train.reshape(len(Y_train),1))\n",
    "Y_predicted = predict(X_test_mean_scaled,theta)\n",
    "print(\"Score for Mean Scaled DF Normal Equation = \",score(Y_test,Y_predicted.reshape(len(Y_predicted))))\n",
    "#Reduce tolerance and increase iterations to reach near to normal equation results\n",
    "#Now we can increase learning rate as it won't cause integer overflow while multiplications because of feature scaling\n",
    "theta = fitGradientDescent(X_train_mean_scaled,Y_train.reshape(len(Y_train),1),learning_rate=0.3,max_iterations=1000000,tolerance=0.00001)\n",
    "Y_predicted = predict(X_test_mean_scaled,theta)\n",
    "print(\"Score for Mean Scaled Gradient Descent = \",score(Y_test,Y_predicted.reshape(len(Y_predicted))))"
   ]
  }
 ],
 "metadata": {
  "kernelspec": {
   "display_name": "Python 3",
   "language": "python",
   "name": "python3"
  },
  "language_info": {
   "codemirror_mode": {
    "name": "ipython",
    "version": 3
   },
   "file_extension": ".py",
   "mimetype": "text/x-python",
   "name": "python",
   "nbconvert_exporter": "python",
   "pygments_lexer": "ipython3",
   "version": "3.6.5"
  }
 },
 "nbformat": 4,
 "nbformat_minor": 2
}
