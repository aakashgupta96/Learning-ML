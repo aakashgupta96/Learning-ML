{
 "cells": [
  {
   "cell_type": "code",
   "execution_count": 9,
   "metadata": {
    "collapsed": true
   },
   "outputs": [],
   "source": [
    "import numpy as np\n",
    "import pandas as pd\n",
    "import sklearn.model_selection as cv\n",
    "import matplotlib.pyplot as plt\n",
    "import sklearn.datasets as Datasets\n",
    "    "
   ]
  },
  {
   "cell_type": "code",
   "execution_count": 7,
   "metadata": {
    "collapsed": true
   },
   "outputs": [],
   "source": [
    "def univariateFit(x,y):\n",
    "    num = (x*y).mean() - x.mean()*y.mean()\n",
    "    den = (x*x).mean() - x.mean()*x.mean()\n",
    "    m = num/den\n",
    "    c = y.mean() - m*x.mean()\n",
    "    return (m,c)\n",
    "\n",
    "# x = np.array([[0],[1],[2]])\n",
    "# y = np.array([[1],[2],[3]])\n",
    "# univariateFit(x,y)\n",
    "\n",
    "def univariateTest(m,b,xT):\n",
    "    yT = m*xT + b;\n",
    "    return yT\n",
    "\n",
    "def acc(yT,yP):\n",
    "    num = ((yT-yP)*(yT-yP)).sum()\n",
    "    den = ((yT-yT.mean())*(yT-yT.mean())).sum()\n",
    "    score = 1 - num/den\n",
    "    return score"
   ]
  },
  {
   "cell_type": "code",
   "execution_count": 3,
   "metadata": {},
   "outputs": [],
   "source": [
    "dataset = pd.read_csv('../data/Salary_Data.csv')\n",
    "X = dataset.iloc[:,0].values # Keep track of Vector Shape\n",
    "y = dataset.iloc[:,1].values\n",
    "# y = np.reshape(y,(1,n))\n"
   ]
  },
  {
   "cell_type": "code",
   "execution_count": 4,
   "metadata": {},
   "outputs": [
    {
     "name": "stdout",
     "output_type": "stream",
     "text": [
      "m =  9921.71102082  c =  21632.6635348\n",
      "Score is =  0.930223205942\n"
     ]
    }
   ],
   "source": [
    "    X_test, X_train, Y_test, Y_train = cv.train_test_split(X,y,test_size=0.2,random_state=0)\n",
    "    m,c = univariateFit(X_train,Y_train)\n",
    "    print (\"m = \",m,\" c = \",c)\n",
    "    Y_predicted = univariateTest(m,c,X_test)\n",
    "    print(\"Score is = \",acc(Y_test,Y_predicted))\n"
   ]
  },
  {
   "cell_type": "code",
   "execution_count": 5,
   "metadata": {},
   "outputs": [
    {
     "data": {
      "image/png": "[encoded data removed]",
      "text/plain": [
       "<matplotlib.figure.Figure at 0x7f585489b1d0>"
      ]
     },
     "metadata": {},
     "output_type": "display_data"
    },
    {
     "data": {
      "image/png": "[encoded data removed]",
      "text/plain": [
       "<matplotlib.figure.Figure at 0x7f5855446b70>"
      ]
     },
     "metadata": {},
     "output_type": "display_data"
    }
   ],
   "source": [
    "# Plotting\n",
    "# Visualising the Test set results\n",
    "plt.scatter(X_train, Y_train, color = 'red')\n",
    "plt.plot(X_train, univariateTest(m,c,X_train), color = 'blue')\n",
    "plt.title('Salary vs Experience (Training set)')\n",
    "plt.xlabel('Years of Experience')\n",
    "plt.ylabel('Salary')\n",
    "plt.show()\n",
    "\n",
    "# Visualising the Test set results\n",
    "plt.scatter(X_test, Y_test, color = 'red')\n",
    "plt.plot(X_train, univariateTest(m,c,X_train), color = 'blue')\n",
    "plt.title('Salary vs Experience (Test set)')\n",
    "plt.xlabel('Years of Experience')\n",
    "plt.ylabel('Salary')\n",
    "plt.show()\n",
    "\n",
    "\n",
    "\n"
   ]
  },
  {
   "cell_type": "code",
   "execution_count": 10,
   "metadata": {},
   "outputs": [
    {
     "name": "stdout",
     "output_type": "stream",
     "text": [
      "Score for i =  0  is =  0.141856856265\n",
      "Score for i =  1  is =  0.100343458973\n",
      "Score for i =  2  is =  0.23389658228\n",
      "Score for i =  3  is =  0.0295589460117\n",
      "Score for i =  4  is =  0.178574723461\n",
      "Score for i =  5  is =  0.487736153052\n",
      "Score for i =  6  is =  0.132826574418\n",
      "Score for i =  7  is =  0.0517866310924\n",
      "Score for i =  8  is =  0.128925213848\n",
      "Score for i =  9  is =  0.216331015493\n",
      "Score for i =  10  is =  0.23503993691\n",
      "Score for i =  11  is =  0.108349870762\n",
      "Score for i =  12  is =  0.56550783609\n"
     ]
    }
   ],
   "source": [
    "# Boston DataSet\n",
    "\n",
    "boston = Datasets.load_boston()\n",
    "df = pd.DataFrame(boston.data)\n",
    "\n",
    "X = df.values\n",
    "Y = boston.target\n",
    "\n",
    "X_test, X_train, Y_test, Y_train = cv.train_test_split(X,Y,test_size=0.2,random_state=0)\n",
    "for i in range(X.shape[-1]):\n",
    "    m,b = univariateFit(X_train[:,i],Y_train)\n",
    "    Y_predicted = univariateTest(m,b,X_test[:,i])\n",
    "    print(\"Score for i = \",i,\" is = \",acc(Y_test,Y_predicted))"
   ]
  },
  {
   "cell_type": "code",
   "execution_count": null,
   "metadata": {
    "collapsed": true
   },
   "outputs": [],
   "source": []
  }
 ],
 "metadata": {
  "kernelspec": {
   "display_name": "Python 3",
   "language": "python",
   "name": "python3"
  },
  "language_info": {
   "codemirror_mode": {
    "name": "ipython",
    "version": 3
   },
   "file_extension": ".py",
   "mimetype": "text/x-python",
   "name": "python",
   "nbconvert_exporter": "python",
   "pygments_lexer": "ipython3",
   "version": "3.6.3"
  }
 },
 "nbformat": 4,
 "nbformat_minor": 2
}
