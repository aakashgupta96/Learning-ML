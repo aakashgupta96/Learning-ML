{
 "cells": [
  {
   "cell_type": "code",
   "execution_count": 2,
   "metadata": {
    "collapsed": true
   },
   "outputs": [],
   "source": [
    "import numpy as np\n",
    "import pandas as pd\n",
    "import sklearn.datasets as Datasets\n",
    "import sklearn.model_selection as cv"
   ]
  },
  {
   "cell_type": "markdown",
   "metadata": {},
   "source": [
    "## 1 Dimensional Linear Model"
   ]
  },
  {
   "cell_type": "code",
   "execution_count": 4,
   "metadata": {},
   "outputs": [
    {
     "data": {
      "text/plain": [
       "(1.0, 0.0)"
      ]
     },
     "execution_count": 4,
     "metadata": {},
     "output_type": "execute_result"
    }
   ],
   "source": [
    "def fit1D(X_train,Y_train):\n",
    "    numerator = (X_train*Y_train).mean() - X_train.mean()*Y_train.mean()\n",
    "    denominator = (X_train*X_train).mean() - (X_train.mean()*X_train.mean())\n",
    "    m = numerator / denominator\n",
    "    b = m*X_train.mean() - Y_train.mean()\n",
    "    return (m,b)\n",
    "X_train = np.array([[1],[2],[3]])\n",
    "Y_train = np.array([[1],[2],[3]])\n",
    "fit1D(X_train,Y_train)"
   ]
  },
  {
   "cell_type": "code",
   "execution_count": 184,
   "metadata": {
    "collapsed": true
   },
   "outputs": [],
   "source": [
    "def predict1D(m,b,X_test):\n",
    "    result = m*X_test + b\n",
    "    return result"
   ]
  },
  {
   "cell_type": "code",
   "execution_count": 185,
   "metadata": {
    "collapsed": true
   },
   "outputs": [],
   "source": [
    "#Same for multi dimensional linear model\n",
    "def score(Y_true,Y_predicted):\n",
    "    nr = ((Y_true - Y_predicted)*(Y_true-Y_predicted)).sum()\n",
    "    dr = ((Y_true - Y_true.mean())*(Y_true-Y_true.mean())).sum()\n",
    "    result = 1 - (nr/dr)\n",
    "    return result"
   ]
  },
  {
   "cell_type": "code",
   "execution_count": 186,
   "metadata": {
    "collapsed": true
   },
   "outputs": [],
   "source": [
    "iris = Datasets.load_iris()\n",
    "df = pd.DataFrame(iris.data)"
   ]
  },
  {
   "cell_type": "code",
   "execution_count": 205,
   "metadata": {},
   "outputs": [
    {
     "name": "stdout",
     "output_type": "stream",
     "text": [
      "Score for i =  0  is =  -54.9455850815\n",
      "Score for i =  1  is =  -51.4726246054\n",
      "Score for i =  2  is =  -1.33037818521\n",
      "Score for i =  3  is =  0.510794837407\n"
     ]
    }
   ],
   "source": [
    "for i in range(0,4):\n",
    "    X_test, X_train, Y_test, Y_train = cv.train_test_split(df[i],iris.target,test_size=0.3)\n",
    "    m,b = fit1D(X_train,Y_train)\n",
    "    Y_predicted = predict1D(m,b,X_test)\n",
    "    print(\"Score for i = \",i,\" is = \",score(Y_test,Y_predicted))"
   ]
  },
  {
   "cell_type": "markdown",
   "metadata": {},
   "source": [
    "## 2 Dimensional Linear Model"
   ]
  },
  {
   "cell_type": "code",
   "execution_count": 90,
   "metadata": {
    "collapsed": true
   },
   "outputs": [],
   "source": [
    "def fit2D(X1_train,X2_train,Y_train):\n",
    "    a = (X1_train * Y_train).mean()\n",
    "    f = (X2_train * Y_train).mean()\n",
    "    c = (X1_train**2).mean()\n",
    "    d = (X2_train**2).mean()\n",
    "    e = (X1_train * X2_train).mean()\n",
    "    g = X1_train.mean()\n",
    "    h = X2_train.mean()\n",
    "    i = Y_train.mean()\n",
    "    #Calculation m2\n",
    "    nr = ((f - h*i)*(c + g*g)) - ((a - g*i)*(e + g*h))\n",
    "    dr = ((d + h*h)*(c + g*g)) - ((e + g*h)**2)\n",
    "    m2 = nr/dr\n",
    "    \n",
    "    #Caclulating m1\n",
    "    m1 = ((a - g*i) - ((e + g*h)*m2)) / (c + g*g)\n",
    "    \n",
    "    #Calculating b\n",
    "    b = i - g*m1 - h*m2\n",
    "    return (m1,m2,b)"
   ]
  },
  {
   "cell_type": "code",
   "execution_count": 91,
   "metadata": {
    "collapsed": true
   },
   "outputs": [],
   "source": [
    "def predict2D(m1,m2,b,X1_test,X2_test):\n",
    "    result = m1*X1_test + m2*X2_test + b\n",
    "    return result"
   ]
  },
  {
   "cell_type": "code",
   "execution_count": 92,
   "metadata": {
    "collapsed": true
   },
   "outputs": [],
   "source": [
    "iris = Datasets.load_iris()\n",
    "df = pd.DataFrame(iris.data)"
   ]
  },
  {
   "cell_type": "code",
   "execution_count": 208,
   "metadata": {},
   "outputs": [
    {
     "name": "stdout",
     "output_type": "stream",
     "text": [
      "Score for i =  0  and j =  1  is  0.789546216124\n",
      "Score for i =  0  and j =  2  is  0.936548952707\n",
      "Score for i =  0  and j =  3  is  0.89668519717\n",
      "Score for i =  1  and j =  2  is  0.87343024319\n",
      "Score for i =  1  and j =  3  is  0.940321833432\n",
      "Score for i =  2  and j =  3  is  0.704041106299\n"
     ]
    }
   ],
   "source": [
    "for i in range(0,3):\n",
    "    for j in range(i+1,4):\n",
    "        X_test, X_train, Y_test, Y_train = cv.train_test_split(df.iloc[:,[i,j]],iris.target,test_size=0.9)\n",
    "        m1,m2,b = fit2D(X_train[i],X_train[j],Y_train)\n",
    "        Y_predicted = predict2D(m1,m2,b,X_test[i],X_test[j])\n",
    "        print(\"Score for i = \",i,\" and j = \",j,\" is \",score(Y_test,Y_predicted))"
   ]
  }
 ],
 "metadata": {
  "kernelspec": {
   "display_name": "Python 3",
   "language": "python",
   "name": "python3"
  },
  "language_info": {
   "codemirror_mode": {
    "name": "ipython",
    "version": 3
   },
   "file_extension": ".py",
   "mimetype": "text/x-python",
   "name": "python",
   "nbconvert_exporter": "python",
   "pygments_lexer": "ipython3",
   "version": "3.6.3"
  }
 },
 "nbformat": 4,
 "nbformat_minor": 2
}
