{
 "cells": [
  {
   "cell_type": "code",
   "execution_count": 23,
   "metadata": {},
   "outputs": [],
   "source": [
    "import numpy as np\n",
    "import pandas as pd\n",
    "import sklearn.datasets as Datasets\n",
    "import sklearn.model_selection as cv"
   ]
  },
  {
   "cell_type": "markdown",
   "metadata": {},
   "source": [
    "## 1 Feature Linear Model"
   ]
  },
  {
   "cell_type": "code",
   "execution_count": 24,
   "metadata": {},
   "outputs": [],
   "source": [
    "def fit1D(X_train,Y_train):\n",
    "    numerator = (X_train*Y_train).mean() - X_train.mean()*Y_train.mean()\n",
    "    denominator = (X_train*X_train).mean() - (X_train.mean()*X_train.mean())\n",
    "    m = numerator / denominator\n",
    "    b = m*X_train.mean() - Y_train.mean()\n",
    "    return (m,b)\n",
    "# X_train = np.array([[1],[2],[3]])\n",
    "# Y_train = np.array([[1],[2],[3]])\n",
    "# fit1D(X_train,Y_train)"
   ]
  },
  {
   "cell_type": "code",
   "execution_count": 25,
   "metadata": {},
   "outputs": [],
   "source": [
    "def predict1D(m,b,X_test):\n",
    "    result = m*X_test + b\n",
    "    return result"
   ]
  },
  {
   "cell_type": "code",
   "execution_count": 26,
   "metadata": {},
   "outputs": [],
   "source": [
    "#Same for multi dimensional linear model\n",
    "def score(Y_true,Y_predicted):\n",
    "    nr = ((Y_true - Y_predicted)*(Y_true-Y_predicted)).sum()\n",
    "    dr = ((Y_true - Y_true.mean())*(Y_true-Y_true.mean())).sum()\n",
    "    result = 1 - (nr/dr)\n",
    "    return result"
   ]
  },
  {
   "cell_type": "code",
   "execution_count": 27,
   "metadata": {},
   "outputs": [],
   "source": [
    "boston = Datasets.load_boston()\n",
    "df = pd.DataFrame(boston.data)"
   ]
  },
  {
   "cell_type": "code",
   "execution_count": 28,
   "metadata": {},
   "outputs": [],
   "source": [
    "X = df\n",
    "Y = boston.target"
   ]
  },
  {
   "cell_type": "code",
   "execution_count": 36,
   "metadata": {},
   "outputs": [
    {
     "name": "stdout",
     "output_type": "stream",
     "text": [
      "Score for i =  0  is =  -25.8921499958\n",
      "Score for i =  1  is =  -22.1864781568\n",
      "Score for i =  2  is =  -34.5176263838\n",
      "Score for i =  3  is =  -22.7228448362\n",
      "Score for i =  4  is =  -58.0233325346\n",
      "Score for i =  5  is =  -38.2225077726\n",
      "Score for i =  6  is =  -35.4067387915\n",
      "Score for i =  7  is =  -19.3212795198\n",
      "Score for i =  8  is =  -28.0432969078\n",
      "Score for i =  9  is =  -39.7129163313\n",
      "Score for i =  10  is =  -91.3817405004\n",
      "Score for i =  11  is =  -9.2992239215\n",
      "Score for i =  12  is =  -53.725708788\n"
     ]
    }
   ],
   "source": [
    "#Score will be bad obviously because of very less number of features provided to learning model\n",
    "for i in range(X.shape[-1]):\n",
    "    X_test, X_train, Y_test, Y_train = cv.train_test_split(X[i],Y,test_size=0.2,random_state=0)\n",
    "    m,b = fit1D(X_train,Y_train)\n",
    "    Y_predicted = predict1D(m,b,X_test)\n",
    "    print(\"Score for i = \",i,\" is = \",score(Y_test,Y_predicted))"
   ]
  },
  {
   "cell_type": "markdown",
   "metadata": {},
   "source": [
    "## 2 Feature Linear Model"
   ]
  },
  {
   "cell_type": "code",
   "execution_count": 37,
   "metadata": {},
   "outputs": [],
   "source": [
    "def fit2D(X1_train,X2_train,Y_train):\n",
    "    a = (X1_train * Y_train).mean()\n",
    "    f = (X2_train * Y_train).mean()\n",
    "    c = (X1_train**2).mean()\n",
    "    d = (X2_train**2).mean()\n",
    "    e = (X1_train * X2_train).mean()\n",
    "    g = X1_train.mean()\n",
    "    h = X2_train.mean()\n",
    "    i = Y_train.mean()\n",
    "    #Calculation m2\n",
    "    nr = ((f - h*i)*(c + g*g)) - ((a - g*i)*(e + g*h))\n",
    "    dr = ((d + h*h)*(c + g*g)) - ((e + g*h)**2)\n",
    "    m2 = nr/dr\n",
    "    \n",
    "    #Caclulating m1\n",
    "    m1 = ((a - g*i) - ((e + g*h)*m2)) / (c + g*g)\n",
    "    \n",
    "    #Calculating b\n",
    "    b = i - g*m1 - h*m2\n",
    "    return (m1,m2,b)"
   ]
  },
  {
   "cell_type": "code",
   "execution_count": 38,
   "metadata": {},
   "outputs": [],
   "source": [
    "def predict2D(m1,m2,b,X1_test,X2_test):\n",
    "    result = m1*X1_test + m2*X2_test + b\n",
    "    return result"
   ]
  },
  {
   "cell_type": "code",
   "execution_count": 39,
   "metadata": {},
   "outputs": [],
   "source": [
    "boston = Datasets.load_boston()\n",
    "df = pd.DataFrame(boston.data)"
   ]
  },
  {
   "cell_type": "code",
   "execution_count": 40,
   "metadata": {},
   "outputs": [],
   "source": [
    "X = df\n",
    "Y = boston.target"
   ]
  },
  {
   "cell_type": "code",
   "execution_count": 53,
   "metadata": {},
   "outputs": [
    {
     "name": "stdout",
     "output_type": "stream",
     "text": [
      "Score for i =  0  and j =  1  is  0.208696411117\n",
      "Score for i =  0  and j =  2  is  0.0934761874176\n",
      "Score for i =  0  and j =  3  is  0.150537235596\n",
      "Score for i =  0  and j =  4  is  0.121913130804\n",
      "Score for i =  0  and j =  5  is  0.172826341114\n",
      "Score for i =  0  and j =  6  is  0.108528644254\n",
      "Score for i =  0  and j =  7  is  0.151483249511\n",
      "Score for i =  0  and j =  8  is  0.0890315095233\n",
      "Score for i =  0  and j =  9  is  0.106413771197\n",
      "Score for i =  0  and j =  10  is  0.125574354649\n",
      "Score for i =  0  and j =  11  is  0.156716958886\n",
      "Score for i =  0  and j =  12  is  0.142526663073\n",
      "Score for i =  1  and j =  2  is  0.158494989886\n",
      "Score for i =  1  and j =  3  is  0.0991002409327\n",
      "Score for i =  1  and j =  4  is  0.119443430305\n",
      "Score for i =  1  and j =  5  is  0.0794022694096\n",
      "Score for i =  1  and j =  6  is  0.124388365042\n",
      "Score for i =  1  and j =  7  is  0.0937521403313\n",
      "Score for i =  1  and j =  8  is  0.158004897318\n",
      "Score for i =  1  and j =  9  is  0.149734175427\n",
      "Score for i =  1  and j =  10  is  0.112896833189\n",
      "Score for i =  1  and j =  11  is  0.0802783071976\n",
      "Score for i =  1  and j =  12  is  0.281714278695\n",
      "Score for i =  2  and j =  3  is  0.111099500519\n",
      "Score for i =  2  and j =  4  is  0.192228398378\n",
      "Score for i =  2  and j =  5  is  0.333750091732\n",
      "Score for i =  2  and j =  6  is  0.102736937103\n",
      "Score for i =  2  and j =  7  is  0.153621131769\n",
      "Score for i =  2  and j =  8  is  0.0449083991462\n",
      "Score for i =  2  and j =  9  is  0.0842322575744\n",
      "Score for i =  2  and j =  10  is  0.169648162614\n",
      "Score for i =  2  and j =  11  is  0.259042665059\n",
      "Score for i =  2  and j =  12  is  0.102981279142\n",
      "Score for i =  3  and j =  4  is  0.046264483666\n",
      "Score for i =  3  and j =  5  is  0.0283939915924\n",
      "Score for i =  3  and j =  6  is  0.0638343911307\n",
      "Score for i =  3  and j =  7  is  0.0302356458191\n",
      "Score for i =  3  and j =  8  is  0.0963575291724\n",
      "Score for i =  3  and j =  9  is  0.0668169607801\n",
      "Score for i =  3  and j =  10  is  0.0371562876591\n",
      "Score for i =  3  and j =  11  is  0.0284421332193\n",
      "Score for i =  3  and j =  12  is  0.188242255424\n",
      "Score for i =  4  and j =  5  is  0.405796843774\n",
      "Score for i =  4  and j =  6  is  0.0436260065691\n",
      "Score for i =  4  and j =  7  is  0.0902998536198\n",
      "Score for i =  4  and j =  8  is  0.0835359533605\n",
      "Score for i =  4  and j =  9  is  0.0797630487054\n",
      "Score for i =  4  and j =  10  is  0.0175909119853\n",
      "Score for i =  4  and j =  11  is  0.199163871889\n",
      "Score for i =  4  and j =  12  is  0.497520465031\n",
      "Score for i =  5  and j =  6  is  0.270520115499\n",
      "Score for i =  5  and j =  7  is  0.00337167777351\n",
      "Score for i =  5  and j =  8  is  0.200848435572\n",
      "Score for i =  5  and j =  9  is  0.372119082067\n",
      "Score for i =  5  and j =  10  is  0.555850498031\n",
      "Score for i =  5  and j =  11  is  0.00364058133753\n",
      "Score for i =  5  and j =  12  is  0.619268282305\n",
      "Score for i =  6  and j =  7  is  0.0962067464088\n",
      "Score for i =  6  and j =  8  is  0.0563644227107\n",
      "Score for i =  6  and j =  9  is  0.0177856072284\n",
      "Score for i =  6  and j =  10  is  0.0594327287433\n",
      "Score for i =  6  and j =  11  is  0.185595078207\n",
      "Score for i =  6  and j =  12  is  0.360247173712\n",
      "Score for i =  7  and j =  8  is  0.123167139254\n",
      "Score for i =  7  and j =  9  is  0.138799236827\n",
      "Score for i =  7  and j =  10  is  0.092894513648\n",
      "Score for i =  7  and j =  11  is  0.00509208019607\n",
      "Score for i =  7  and j =  12  is  0.363264508753\n",
      "Score for i =  8  and j =  9  is  0.0697015588175\n",
      "Score for i =  8  and j =  10  is  0.0996299969842\n",
      "Score for i =  8  and j =  11  is  0.158627196147\n",
      "Score for i =  8  and j =  12  is  0.105722049988\n",
      "Score for i =  9  and j =  10  is  0.126814349199\n",
      "Score for i =  9  and j =  11  is  0.2293739195\n",
      "Score for i =  9  and j =  12  is  0.222208089873\n",
      "Score for i =  10  and j =  11  is  0.215916823693\n",
      "Score for i =  10  and j =  12  is  0.459302112796\n",
      "Score for i =  11  and j =  12  is  0.537534478359\n"
     ]
    }
   ],
   "source": [
    "#Score will be bad but better than 1D because of very less number of features provided to learning model\n",
    "for i in range(0,X.shape[-1]):\n",
    "    for j in range(i+1,X.shape[-1]):\n",
    "        X_test, X_train, Y_test, Y_train = cv.train_test_split(X.iloc[:,[i,j]],Y,test_size=0.2,random_state=0)\n",
    "        m1,m2,b = fit2D(X_train[i],X_train[j],Y_train)\n",
    "        Y_predicted = predict2D(m1,m2,b,X_test[i],X_test[j])\n",
    "        print(\"Score for i = \",i,\" and j = \",j,\" is \",score(Y_test,Y_predicted))"
   ]
  }
 ],
 "metadata": {
  "kernelspec": {
   "display_name": "Python 3",
   "language": "python",
   "name": "python3"
  },
  "language_info": {
   "codemirror_mode": {
    "name": "ipython",
    "version": 3
   },
   "file_extension": ".py",
   "mimetype": "text/x-python",
   "name": "python",
   "nbconvert_exporter": "python",
   "pygments_lexer": "ipython3",
   "version": "3.6.4"
  }
 },
 "nbformat": 4,
 "nbformat_minor": 2
}
