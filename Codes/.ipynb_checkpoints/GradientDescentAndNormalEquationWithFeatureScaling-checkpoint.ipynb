{
 "cells": [
  {
   "cell_type": "markdown",
   "metadata": {},
   "source": [
    "## Gradient Descent And Normal Equation"
   ]
  },
  {
   "cell_type": "code",
   "execution_count": 1,
   "metadata": {
    "collapsed": true
   },
   "outputs": [],
   "source": [
    "import pandas as pd\n",
    "import numpy as np\n",
    "import sklearn.datasets as Datasets\n",
    "import sklearn.model_selection as cv\n",
    "import matplotlib.pyplot as plt"
   ]
  },
  {
   "cell_type": "code",
   "execution_count": 2,
   "metadata": {
    "collapsed": true
   },
   "outputs": [],
   "source": [
    "def fitNormal(X_train,Y_train):\n",
    "    #theta = (X.T * X).inv * X.T * Y_train\n",
    "    X_train = np.c_[np.ones(len(X_train)),X_train]\n",
    "    a = np.matmul(X_train.T,X_train)\n",
    "    inverse = np.linalg.pinv(a)\n",
    "    b = np.matmul(inverse,X_train.T)\n",
    "    theta = np.matmul(b,Y_train)\n",
    "    return theta"
   ]
  },
  {
   "cell_type": "code",
   "execution_count": 14,
   "metadata": {
    "collapsed": true
   },
   "outputs": [],
   "source": [
    "def fitGradientDescent(X_train,Y_train,learning_rate=0.001,tolerance=0.0001,max_iterations=1000000): #X_train can be np 2D array\n",
    "    n,fc = X_train.shape #fc is feature_count, n is no.of training samples\n",
    "    #Setting x[0] as 1s\n",
    "    X_train = np.c_[np.ones(n),X_train]\n",
    "    #Now X_train's shape is (n,fc+1)\n",
    "    \n",
    "    #Initializing theta with shape (fc+1,1)\n",
    "    theta = np.zeros((fc+1,1))\n",
    "    #print(\"X shape is \",X_train.shape)\n",
    "    #print(\"theta shape is \",theta.shape)\n",
    "    \n",
    "    J_theta = []\n",
    "    iterations = []\n",
    "    count = 0\n",
    "    error_value = (((np.matmul(X_train,theta) - Y_train)*(np.matmul(X_train,theta) - Y_train)).sum()/(2*n))\n",
    "    while(error_value >= tolerance and count <= max_iterations):\n",
    "        #Updating parameters based on formula and maths\n",
    "        theta_derivative =  (np.matmul(X_train.T,(np.matmul(X_train,theta) - Y_train)))/n # (fc+1,n)*(n,1) = (fc+1,1)\n",
    "        theta = theta - theta_derivative*learning_rate\n",
    "        \n",
    "        #For plotting curve of error value vs no. of iterations\n",
    "        J_theta.insert(len(J_theta),error_value) \n",
    "        iterations.insert(len(iterations),count)\n",
    "        \n",
    "        #Updated error value with new values of parameters and iteration count\n",
    "        error_value = (((np.matmul(X_train,theta) - Y_train)**2).sum()/(2*n))\n",
    "        count = count + 1\n",
    "        \n",
    "    print(\"Stopped after\",count,\"iterations\")\n",
    "    plt.plot(iterations,J_theta) \n",
    "    plt.show() #Should be decreasing for checking correct movement of gradient descent\n",
    "    return theta"
   ]
  },
  {
   "cell_type": "code",
   "execution_count": 5,
   "metadata": {
    "collapsed": true
   },
   "outputs": [],
   "source": [
    "def predict(X_test,theta):\n",
    "    X_test = np.c_[np.ones(X_test.shape[0]),X_test]\n",
    "    return np.matmul(X_test,theta)"
   ]
  },
  {
   "cell_type": "code",
   "execution_count": 6,
   "metadata": {
    "collapsed": true
   },
   "outputs": [],
   "source": [
    "def score(Y_true,Y_predicted):\n",
    "    nr = ((Y_true - Y_predicted)*(Y_true-Y_predicted)).sum()\n",
    "    dr = ((Y_true - Y_true.mean())*(Y_true-Y_true.mean())).sum()\n",
    "    result = 1 - (nr/dr)\n",
    "    return result"
   ]
  },
  {
   "cell_type": "code",
   "execution_count": 7,
   "metadata": {
    "collapsed": true
   },
   "outputs": [],
   "source": [
    "boston = Datasets.load_boston()\n",
    "df = pd.DataFrame(boston.data)\n",
    "X_test, X_train, Y_test, Y_train = cv.train_test_split(df,boston.target,test_size=0.2)"
   ]
  },
  {
   "cell_type": "code",
   "execution_count": 13,
   "metadata": {},
   "outputs": [
    {
     "name": "stdout",
     "output_type": "stream",
     "text": [
      "Score for Normal Equation =  0.700659343549\n",
      "Stopped after 1000001 iterations\n"
     ]
    },
    {
     "data": {
      "image/png": "[encoded data removed]",
      "text/plain": [
       "<matplotlib.figure.Figure at 0x7fd014f53748>"
      ]
     },
     "metadata": {},
     "output_type": "display_data"
    },
    {
     "name": "stdout",
     "output_type": "stream",
     "text": [
      "Score for Gradient Descent =  0.686034249357\n"
     ]
    }
   ],
   "source": [
    "theta = fitNormal(X_train,Y_train.reshape(len(Y_train),1))\n",
    "Y_predicted = predict(X_test,theta)\n",
    "print(\"Score for Normal Equation = \",score(Y_test,Y_predicted.reshape(len(Y_predicted))))\n",
    "theta = fitGradientDescent(X_train,Y_train.reshape(len(Y_train),1),learning_rate=0.000005)\n",
    "Y_predicted = predict(X_test,theta)\n",
    "print(\"Score for Gradient Descent = \",score(Y_test,Y_predicted.reshape(len(Y_predicted))))"
   ]
  },
  {
   "cell_type": "code",
   "execution_count": null,
   "metadata": {
    "collapsed": true
   },
   "outputs": [],
   "source": []
  }
 ],
 "metadata": {
  "kernelspec": {
   "display_name": "Python 3",
   "language": "python",
   "name": "python3"
  },
  "language_info": {
   "codemirror_mode": {
    "name": "ipython",
    "version": 3
   },
   "file_extension": ".py",
   "mimetype": "text/x-python",
   "name": "python",
   "nbconvert_exporter": "python",
   "pygments_lexer": "ipython3",
   "version": "3.6.3"
  }
 },
 "nbformat": 4,
 "nbformat_minor": 2
}
