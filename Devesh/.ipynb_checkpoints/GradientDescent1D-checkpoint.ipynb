{
 "cells": [
  {
   "cell_type": "markdown",
   "metadata": {},
   "source": [
    "# # Gradient Descent"
   ]
  },
  {
   "cell_type": "code",
   "execution_count": 1,
   "metadata": {
    "collapsed": true
   },
   "outputs": [],
   "source": [
    "import numpy as np\n",
    "import pandas as pd\n",
    "import sklearn.datasets as DataSets\n",
    "import sklearn.model_selection as cv\n",
    "import matplotlib.pyplot as plt"
   ]
  },
  {
   "cell_type": "code",
   "execution_count": 2,
   "metadata": {},
   "outputs": [],
   "source": [
    "def predict(x,m,c):\n",
    "    y = m*x + c\n",
    "    return y\n",
    "    \n",
    "\n",
    "def GradientDescent(x,y,alpha = 0.0001,epsilon = 0.0001,max_itr = 1000000):\n",
    "    m = 0\n",
    "    c = 0\n",
    "   # print(x.shape[0] , \" \" , y.shape[0])\n",
    "    n = x.shape[0]\n",
    "    error = (((predict(x,m,c)-y)**2).sum())/(2*n)\n",
    "    cnt = 0\n",
    "    cost = []\n",
    "    it = []\n",
    "    while(error>=epsilon and cnt<=max_itr):\n",
    "        tmp1 = c - alpha*(m*x.mean() + c/n -y.mean())\n",
    "        tmp2 = m - alpha*(m*(x*x).mean() + c*x.mean() - (x*y).mean())\n",
    "        c = tmp1\n",
    "        m = tmp2\n",
    "        \n",
    "        new_error = (((predict(x,m,c)-y)**2).sum())/(2*n)\n",
    "        error = abs(new_error-error)\n",
    "        cnt += 1\n",
    "        \n",
    "        cost.append(new_error)\n",
    "        it.append(cnt)\n",
    "    \n",
    "    print(\" Stopped after \",cnt,\" iterations !\")\n",
    "    plt.plot(it,cost,color='red')\n",
    "    plt.show()\n",
    "    return (m,c)\n",
    "    "
   ]
  },
  {
   "cell_type": "code",
   "execution_count": 3,
   "metadata": {},
   "outputs": [
    {
     "name": "stdout",
     "output_type": "stream",
     "text": [
      " Stopped after  1599  iterations !\n"
     ]
    },
    {
     "data": {
      "image/png": "[encoded data removed]",
      "text/plain": [
       "<matplotlib.figure.Figure at 0x7f53c48a6550>"
      ]
     },
     "metadata": {},
     "output_type": "display_data"
    },
    {
     "name": "stdout",
     "output_type": "stream",
     "text": [
      " m =  12980.6518546  c =  3187.74824216\n"
     ]
    }
   ],
   "source": [
    "dataset = pd.read_csv(\"../data/Salary_Data.csv\")\n",
    "X = dataset.iloc[:,0].values\n",
    "y = dataset.iloc[:,1].values\n",
    "X_train , X_test ,Y_train , Y_test = cv.train_test_split(X,y,test_size = 0.20 , random_state = 0)\n",
    "# print(X_train)\n",
    "# print(Y_train)\n",
    "m,c = GradientDescent(X_train,Y_train)\n",
    "\n",
    "yP = predict(X_test,m,c)\n",
    "print( \" m = \",m,\" c = \",c)"
   ]
  },
  {
   "cell_type": "code",
   "execution_count": 4,
   "metadata": {},
   "outputs": [
    {
     "data": {
      "image/png": "[encoded data removed]",
      "text/plain": [
       "<matplotlib.figure.Figure at 0x7f53c4b41ba8>"
      ]
     },
     "metadata": {},
     "output_type": "display_data"
    }
   ],
   "source": [
    "from matplotlib.lines import Line2D\n",
    "plt.scatter(X_test,Y_test,color = 'red')\n",
    "plt.plot(X_train,predict(X_train,m,c),color = 'blue')\n",
    "plt.show()"
   ]
  },
  {
   "cell_type": "code",
   "execution_count": 5,
   "metadata": {
    "collapsed": true
   },
   "outputs": [],
   "source": [
    "def acc(yT,yP):\n",
    "    num = ((yT-yP)*(yT-yP)).sum()\n",
    "    den = ((yT-yT.mean())*(yT-yT.mean())).sum()\n",
    "    score = 1 - num/den\n",
    "    return score"
   ]
  },
  {
   "cell_type": "code",
   "execution_count": 6,
   "metadata": {},
   "outputs": [
    {
     "name": "stdout",
     "output_type": "stream",
     "text": [
      " Score  =  0.898222229016\n"
     ]
    }
   ],
   "source": [
    "print(\" Score  = \",acc(Y_test,yP))"
   ]
  },
  {
   "cell_type": "code",
   "execution_count": null,
   "metadata": {
    "collapsed": true
   },
   "outputs": [],
   "source": []
  }
 ],
 "metadata": {
  "kernelspec": {
   "display_name": "Python 3",
   "language": "python",
   "name": "python3"
  },
  "language_info": {
   "codemirror_mode": {
    "name": "ipython",
    "version": 3
   },
   "file_extension": ".py",
   "mimetype": "text/x-python",
   "name": "python",
   "nbconvert_exporter": "python",
   "pygments_lexer": "ipython3",
   "version": "3.6.3"
  }
 },
 "nbformat": 4,
 "nbformat_minor": 2
}
