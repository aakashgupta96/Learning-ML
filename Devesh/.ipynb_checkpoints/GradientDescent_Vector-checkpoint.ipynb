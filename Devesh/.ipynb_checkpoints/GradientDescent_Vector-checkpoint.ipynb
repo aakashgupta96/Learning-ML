{
 "cells": [
  {
   "cell_type": "code",
   "execution_count": 1,
   "metadata": {
    "collapsed": true
   },
   "outputs": [],
   "source": [
    "import numpy as np\n",
    "import pandas as pd\n",
    "import sklearn.datasets as DataSets\n",
    "import sklearn.model_selection as cv\n",
    "import matplotlib.pyplot as plt\n"
   ]
  },
  {
   "cell_type": "code",
   "execution_count": 2,
   "metadata": {},
   "outputs": [],
   "source": [
    "def GradientDescent(x,y,alpha = 0.0000006 , tolerance = 0.000001 , max_itr = 1000000):\n",
    "    n,f = x.shape\n",
    "    \n",
    "    # x[0] = 1\n",
    "    x = np.c_[np.ones(n),x]  # x -> (n,f+1)\n",
    "    theta = np.zeros((f+1,1)) # theta -> (f+1,1)\n",
    "    \n",
    "    #print(theta)\n",
    "    #print(x[:5,:])\n",
    "    cost = []\n",
    "    itr = []\n",
    "    \n",
    "    cnt = 0\n",
    "    error = (((np.matmul(x,theta) - y)*(np.matmul(x,theta) - y)).sum())/(2*n)\n",
    "    while(error>=tolerance and cnt<=max_itr):\n",
    "        tmp = np.matmul(x.T,(np.matmul(x,theta)-y))/n\n",
    "        theta = theta - alpha*tmp\n",
    "        cnt += 1\n",
    "        \n",
    "        new_error = (((np.matmul(x,theta)-y)**2).sum())/(2*n)\n",
    "        itr.append(cnt)\n",
    "        cost.append(new_error)\n",
    "        error = abs(error - new_error)\n",
    "        \n",
    "    print(\" Iterations = \",cnt)\n",
    "    plt.plot(itr,cost,color='red')\n",
    "    plt.show()\n",
    "        \n",
    "    return theta"
   ]
  },
  {
   "cell_type": "code",
   "execution_count": 3,
   "metadata": {
    "collapsed": true
   },
   "outputs": [],
   "source": [
    "test_data = pd.read_excel(r\"../data/L3_homework/test.xlsx\")\n",
    "train_data = pd.read_excel(r\"../data/L3_homework/train.xlsx\")\n",
    "X_train = train_data.iloc[:,:-1].values\n",
    "Y_train = train_data.iloc[:,-1].values\n",
    "X_test = test_data.iloc[:,:-1].values\n",
    "Y_test = test_data.iloc[:,-1].values"
   ]
  },
  {
   "cell_type": "code",
   "execution_count": 4,
   "metadata": {},
   "outputs": [
    {
     "name": "stdout",
     "output_type": "stream",
     "text": [
      " Iterations =  4717\n"
     ]
    },
    {
     "data": {
      "image/png": "[encoded data removed]",
      "text/plain": [
       "<matplotlib.figure.Figure at 0x7f228a95ccf8>"
      ]
     },
     "metadata": {},
     "output_type": "display_data"
    }
   ],
   "source": [
    "#print(Y_train[:5])\n",
    "#print(Y_train.reshape(len(Y_train),1)[:5,:])\n",
    "\n",
    "theta  = GradientDescent(X_train,Y_train.reshape(len(Y_train),1))"
   ]
  },
  {
   "cell_type": "code",
   "execution_count": 5,
   "metadata": {},
   "outputs": [
    {
     "name": "stdout",
     "output_type": "stream",
     "text": [
      " Score =  -2408.166302\n"
     ]
    }
   ],
   "source": [
    "def predict(x,theta):\n",
    "    x = np.c_[np.ones(x.shape[0]),x]\n",
    "    return np.matmul(x,theta)\n",
    "\n",
    "def acc(yT,yP):\n",
    "    num = ((yT-yP)*(yT-yP)).sum()\n",
    "    den = ((yT-yT.mean())*(yT-yT.mean())).sum()\n",
    "    score = 1 - num/den\n",
    "    return score\n",
    "\n",
    "yP = predict(X_test,theta)\n",
    "print( \" Score = \" , acc(Y_test,yP.reshape(len(yP),1)))"
   ]
  },
  {
   "cell_type": "code",
   "execution_count": null,
   "metadata": {
    "collapsed": true
   },
   "outputs": [],
   "source": []
  }
 ],
 "metadata": {
  "kernelspec": {
   "display_name": "Python 3",
   "language": "python",
   "name": "python3"
  },
  "language_info": {
   "codemirror_mode": {
    "name": "ipython",
    "version": 3
   },
   "file_extension": ".py",
   "mimetype": "text/x-python",
   "name": "python",
   "nbconvert_exporter": "python",
   "pygments_lexer": "ipython3",
   "version": "3.6.3"
  }
 },
 "nbformat": 4,
 "nbformat_minor": 2
}
