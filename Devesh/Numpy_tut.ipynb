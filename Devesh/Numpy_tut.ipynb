{
 "cells": [
  {
   "cell_type": "code",
   "execution_count": 1,
   "metadata": {},
   "outputs": [
    {
     "name": "stdout",
     "output_type": "stream",
     "text": [
      "[['fixed acidity', 'volatile acidity', 'citric acid', 'residual sugar', 'chlorides', 'free sulfur dioxide', 'total sulfur dioxide', 'density', 'pH', 'sulphates', 'alcohol', 'quality'], ['7.4', '0.7', '0', '1.9', '0.076', '11', '34', '0.9978', '3.51', '0.56', '9.4', '5'], ['7.8', '0.88', '0', '2.6', '0.098', '25', '67', '0.9968', '3.2', '0.68', '9.8', '5']]\n",
      "5.6360225140712945\n"
     ]
    }
   ],
   "source": [
    "# https://www.dataquest.io/blog/numpy-tutorial-python/\n",
    "\n",
    "import csv\n",
    "with open('../data/winequality-red.csv','r') as f:\n",
    "    wines = list(csv.reader(f,delimiter = ';'))\n",
    "    print (wines[:3])\n",
    "    qualities = [float(item[-1]) for item in wines[1:]]\n",
    "    print (sum(qualities)/len(qualities))\n",
    "    "
   ]
  },
  {
   "cell_type": "code",
   "execution_count": 2,
   "metadata": {},
   "outputs": [
    {
     "name": "stdout",
     "output_type": "stream",
     "text": [
      "[[  7.4     0.7     0.    ...,   0.56    9.4     5.   ]\n",
      " [  7.8     0.88    0.    ...,   0.68    9.8     5.   ]\n",
      " [  7.8     0.76    0.04  ...,   0.65    9.8     5.   ]\n",
      " ..., \n",
      " [  6.3     0.51    0.13  ...,   0.75   11.      6.   ]\n",
      " [  5.9     0.645   0.12  ...,   0.71   10.2     5.   ]\n",
      " [  6.      0.31    0.47  ...,   0.66   11.      6.   ]]\n",
      "5.63602251407\n"
     ]
    }
   ],
   "source": [
    "import numpy as np\n",
    "wines = np.array(wines[1:],dtype=float)\n",
    "print (wines)\n",
    "print ((wines[:,-1]).sum() / wines.shape[0])"
   ]
  },
  {
   "cell_type": "code",
   "execution_count": 5,
   "metadata": {},
   "outputs": [
    {
     "name": "stdout",
     "output_type": "stream",
     "text": [
      "[[ 0.  0.  0.  0.]\n",
      " [ 0.  0.  0.  0.]\n",
      " [ 0.  0.  0.  0.]]\n"
     ]
    }
   ],
   "source": [
    "zeros = np.zeros((3,4))\n",
    "print(zeros)"
   ]
  },
  {
   "cell_type": "code",
   "execution_count": 8,
   "metadata": {},
   "outputs": [
    {
     "data": {
      "text/plain": [
       "array([[ 0.16953765,  0.50614344,  0.75056705,  0.30604081],\n",
       "       [ 0.68429966,  0.87927417,  0.08919387,  0.56088035],\n",
       "       [ 0.48317606,  0.9043536 ,  0.35975489,  0.12550182]])"
      ]
     },
     "execution_count": 8,
     "metadata": {},
     "output_type": "execute_result"
    }
   ],
   "source": [
    "rand= np.random.rand(3,4)\n",
    "rand"
   ]
  },
  {
   "cell_type": "code",
   "execution_count": 10,
   "metadata": {},
   "outputs": [
    {
     "data": {
      "text/plain": [
       "(1599, 12)"
      ]
     },
     "execution_count": 10,
     "metadata": {},
     "output_type": "execute_result"
    }
   ],
   "source": [
    "wines = np.genfromtxt('../data/winequality-red.csv',delimiter = ';',skip_header = 1)  # Automatically picks data type\n",
    "wines.shape"
   ]
  },
  {
   "cell_type": "code",
   "execution_count": 29,
   "metadata": {},
   "outputs": [
    {
     "name": "stdout",
     "output_type": "stream",
     "text": [
      "[ 11.2     0.28    0.56    1.9     0.075  17.     60.      0.998   3.16\n",
      "   0.58    9.8     6.   ]\n",
      "(12, 1)\n"
     ]
    }
   ],
   "source": [
    "wines[2,3]\n",
    "\n",
    "#Slicing\n",
    "third_wine = wines[3,:]\n",
    "print(third_wine)\n",
    "third_wine[2]\n",
    "newArr = np.reshape(third_wine,(wines.shape[1],1)) # Converted to 2-D\n",
    "print (newArr.shape)\n",
    "\n"
   ]
  },
  {
   "cell_type": "code",
   "execution_count": 31,
   "metadata": {},
   "outputs": [
    {
     "data": {
      "text/plain": [
       "dtype('float64')"
      ]
     },
     "execution_count": 31,
     "metadata": {},
     "output_type": "execute_result"
    }
   ],
   "source": [
    "ran = np.random.rand(4)\n",
    "ran\n",
    "ran.dtype\n"
   ]
  },
  {
   "cell_type": "code",
   "execution_count": 33,
   "metadata": {},
   "outputs": [],
   "source": [
    "int_wine = wines.astype(int)"
   ]
  },
  {
   "cell_type": "code",
   "execution_count": 37,
   "metadata": {},
   "outputs": [
    {
     "name": "stdout",
     "output_type": "stream",
     "text": [
      "[ 21.2    10.28   10.56   11.9    10.075  27.     70.     10.998  13.16\n",
      "  10.58   19.8    16.   ]\n"
     ]
    }
   ],
   "source": [
    "print(third_wine + 10)\n"
   ]
  },
  {
   "cell_type": "code",
   "execution_count": 43,
   "metadata": {},
   "outputs": [
    {
     "name": "stdout",
     "output_type": "stream",
     "text": [
      "[[ 1.  1.]\n",
      " [ 1.  1.]]\n",
      "[ 0.09109002  0.16957797]\n",
      "[[ 1.09109002  1.16957797]\n",
      " [ 1.09109002  1.16957797]]\n"
     ]
    }
   ],
   "source": [
    "# Broadcasting\n",
    "\n",
    "ones = np.ones((2,2))\n",
    "arr = np.random.rand(2)\n",
    "print(ones)\n",
    "print(arr)\n",
    "print(ones + arr) # Broadcast across each row\n",
    "\n"
   ]
  },
  {
   "cell_type": "markdown",
   "metadata": {},
   "source": [
    "## sum mean max min std ( standard deviation ) \n",
    "\n",
    "\n"
   ]
  },
  {
   "cell_type": "code",
   "execution_count": 50,
   "metadata": {},
   "outputs": [
    {
     "name": "stdout",
     "output_type": "stream",
     "text": [
      " Third row sum =  111.553\n",
      " Sum axis = 0  [ 13303.1        843.985      433.29      4059.55       139.859    25384.\n",
      "  74302.        1593.79794   5294.47      1052.38     16666.35      9012.     ]\n",
      " Sum axis = 1  [  74.5438   123.0548    99.699   ...,  100.48174  105.21547   92.49249]\n",
      " Shape axis = 0  (12,)\n",
      " Shape axis = 1  (1599,)\n"
     ]
    }
   ],
   "source": [
    "print( ' Third row sum = ',third_wine.sum())\n",
    "print( ' Sum axis = 0 ',wines.sum(axis=0))\n",
    "print( ' Sum axis = 1 ',wines.sum(axis=1))\n",
    "print( ' Shape axis = 0 ',wines.sum(axis=0).shape)\n",
    "print( ' Shape axis = 1 ',wines.sum(axis=1).shape)"
   ]
  },
  {
   "cell_type": "code",
   "execution_count": 60,
   "metadata": {},
   "outputs": [
    {
     "name": "stdout",
     "output_type": "stream",
     "text": [
      "[False  True False ...,  True  True False]\n",
      "[[  7.80000000e+00   8.80000000e-01   0.00000000e+00   2.60000000e+00\n",
      "    9.80000000e-02   2.50000000e+01   6.70000000e+01   9.96800000e-01\n",
      "    3.20000000e+00   6.80000000e-01   9.80000000e+00   5.00000000e+00]\n",
      " [  8.90000000e+00   6.20000000e-01   1.80000000e-01   3.80000000e+00\n",
      "    1.76000000e-01   5.20000000e+01   1.45000000e+02   9.98600000e-01\n",
      "    3.16000000e+00   8.80000000e-01   9.20000000e+00   5.00000000e+00]\n",
      " [  8.90000000e+00   6.20000000e-01   1.90000000e-01   3.90000000e+00\n",
      "    1.70000000e-01   5.10000000e+01   1.48000000e+02   9.98600000e-01\n",
      "    3.17000000e+00   9.30000000e-01   9.20000000e+00   5.00000000e+00]]\n"
     ]
    },
    {
     "data": {
      "text/plain": [
       "array([[ 12.8,   8. ],\n",
       "       [ 12.6,   8. ],\n",
       "       [ 12.9,   8. ],\n",
       "       [ 13.4,   8. ],\n",
       "       [ 11.7,   8. ],\n",
       "       [ 11. ,   8. ],\n",
       "       [ 11. ,   8. ],\n",
       "       [ 14. ,   8. ],\n",
       "       [ 12.7,   8. ],\n",
       "       [ 12.5,   8. ],\n",
       "       [ 11.8,   8. ],\n",
       "       [ 13.1,   8. ],\n",
       "       [ 11.7,   8. ],\n",
       "       [ 14. ,   8. ],\n",
       "       [ 11.3,   8. ],\n",
       "       [ 11.4,   8. ]])"
      ]
     },
     "execution_count": 60,
     "metadata": {},
     "output_type": "execute_result"
    }
   ],
   "source": [
    "wines[3,:] > 5\n",
    "\n",
    "# Subsetting - > Select row where value of column index 6 > val(20)\n",
    "\n",
    "setting = wines[:,5] > 20\n",
    "print(setting)\n",
    "print(wines[setting,:][:3,])\n",
    "\n",
    "high_quality_and_alcohol = (wines[:,10] > 10) & (wines[:,11] > 7)\n",
    "wines[high_quality_and_alcohol,10:]"
   ]
  },
  {
   "cell_type": "code",
   "execution_count": 66,
   "metadata": {},
   "outputs": [
    {
     "name": "stdout",
     "output_type": "stream",
     "text": [
      "[[  7.4     7.8     7.8   ...,   6.3     5.9     6.   ]\n",
      " [  0.7     0.88    0.76  ...,   0.51    0.645   0.31 ]\n",
      " [  0.      0.      0.04  ...,   0.13    0.12    0.47 ]\n",
      " ..., \n",
      " [  0.56    0.68    0.65  ...,   0.75    0.71    0.66 ]\n",
      " [  9.4     9.8     9.8   ...,  11.     10.2    11.   ]\n",
      " [  5.      5.      5.    ...,   6.      5.      6.   ]]\n",
      "\n",
      "\n",
      " Same as \n",
      "\n",
      "\n",
      "[[  7.4     7.8     7.8   ...,   6.3     5.9     6.   ]\n",
      " [  0.7     0.88    0.76  ...,   0.51    0.645   0.31 ]\n",
      " [  0.      0.      0.04  ...,   0.13    0.12    0.47 ]\n",
      " ..., \n",
      " [  0.56    0.68    0.65  ...,   0.75    0.71    0.66 ]\n",
      " [  9.4     9.8     9.8   ...,  11.     10.2    11.   ]\n",
      " [  5.      5.      5.    ...,   6.      5.      6.   ]]\n"
     ]
    }
   ],
   "source": [
    "print(np.transpose(wines))\n",
    "print('\\n\\n Same as \\n\\n')\n",
    "print(wines.T)\n",
    "\n"
   ]
  },
  {
   "cell_type": "code",
   "execution_count": 69,
   "metadata": {},
   "outputs": [
    {
     "data": {
      "text/plain": [
       "array([  7.4 ,   0.7 ,   0.  , ...,   0.66,  11.  ,   6.  ])"
      ]
     },
     "execution_count": 69,
     "metadata": {},
     "output_type": "execute_result"
    }
   ],
   "source": [
    "wines.ravel() # Convert to 1-D"
   ]
  },
  {
   "cell_type": "code",
   "execution_count": 73,
   "metadata": {},
   "outputs": [
    {
     "data": {
      "text/plain": [
       "(4898, 12)"
      ]
     },
     "execution_count": 73,
     "metadata": {},
     "output_type": "execute_result"
    }
   ],
   "source": [
    "white_wines = np.genfromtxt('../data/winequality-white.csv',delimiter = ';',skip_header=1)\n",
    "white_wines.shape"
   ]
  },
  {
   "cell_type": "code",
   "execution_count": 77,
   "metadata": {},
   "outputs": [
    {
     "data": {
      "text/plain": [
       "(6497, 12)"
      ]
     },
     "execution_count": 77,
     "metadata": {},
     "output_type": "execute_result"
    }
   ],
   "source": [
    "# Joining\n",
    "\n",
    "all_wines = np.vstack((wines,white_wines))\n",
    "all_wines\n",
    "all_wines.shape\n",
    "\n",
    "# hstack -> No of rows remain constant"
   ]
  },
  {
   "cell_type": "code",
   "execution_count": 79,
   "metadata": {},
   "outputs": [
    {
     "data": {
      "text/plain": [
       "array([[  7.4 ,   0.7 ,   0.  , ...,   0.56,   9.4 ,   5.  ],\n",
       "       [  7.8 ,   0.88,   0.  , ...,   0.68,   9.8 ,   5.  ],\n",
       "       [  7.8 ,   0.76,   0.04, ...,   0.65,   9.8 ,   5.  ],\n",
       "       ..., \n",
       "       [  6.5 ,   0.24,   0.19, ...,   0.46,   9.4 ,   6.  ],\n",
       "       [  5.5 ,   0.29,   0.3 , ...,   0.38,  12.8 ,   7.  ],\n",
       "       [  6.  ,   0.21,   0.38, ...,   0.32,  11.8 ,   6.  ]])"
      ]
     },
     "execution_count": 79,
     "metadata": {},
     "output_type": "execute_result"
    }
   ],
   "source": [
    "# concatenate\n",
    "# axis = 0 v-stack\n",
    "# axis = 1 h-stack\n",
    "\n",
    "np.concatenate((wines,white_wines),axis = 0)"
   ]
  },
  {
   "cell_type": "code",
   "execution_count": 81,
   "metadata": {},
   "outputs": [
    {
     "data": {
      "text/plain": [
       "array([[7, 7],\n",
       "       [7, 7]])"
      ]
     },
     "execution_count": 81,
     "metadata": {},
     "output_type": "execute_result"
    }
   ],
   "source": [
    "np.full((2,2),7)"
   ]
  },
  {
   "cell_type": "code",
   "execution_count": 85,
   "metadata": {},
   "outputs": [
    {
     "data": {
      "text/plain": [
       "array([[ 1.,  0.,  0.,  0.],\n",
       "       [ 0.,  1.,  0.,  0.],\n",
       "       [ 0.,  0.,  1.,  0.],\n",
       "       [ 0.,  0.,  0.,  1.]])"
      ]
     },
     "execution_count": 85,
     "metadata": {},
     "output_type": "execute_result"
    }
   ],
   "source": [
    "np.eye(4)"
   ]
  },
  {
   "cell_type": "code",
   "execution_count": 105,
   "metadata": {},
   "outputs": [
    {
     "name": "stdout",
     "output_type": "stream",
     "text": [
      "uint8 (4096, 2304, 3)\n"
     ]
    },
    {
     "name": "stderr",
     "output_type": "stream",
     "text": [
      "/home/godfather/anaconda3/lib/python3.6/site-packages/imageio/core/util.py:104: UserWarning: Conversion from float64 to uint8, range [0.0, 254.0]\n",
      "  'range [{2}, {3}]'.format(dtype_str, out_type.__name__, mi, ma))\n"
     ]
    }
   ],
   "source": [
    "import imageio as im\n",
    "img = im.imread('../data/work.jpg')\n",
    "print(img.dtype, img.shape)\n",
    "tinted_img = img * [1,0.95,0.9]\n",
    "im.imsave('../data/tinted_work.jpg',tinted_img)\n",
    "gray_scale = img[:,:,0]\n",
    "im.imsave('../data/gray_work.jpg',gray_scale)"
   ]
  },
  {
   "cell_type": "code",
   "execution_count": 106,
   "metadata": {},
   "outputs": [
    {
     "data": {
      "image/png": "[encoded data removed]",
      "text/plain": [
       "<matplotlib.figure.Figure at 0x7fbe8b8e0710>"
      ]
     },
     "metadata": {},
     "output_type": "display_data"
    }
   ],
   "source": [
    "import numpy as np\n",
    "import matplotlib.pyplot as plt\n",
    "\n",
    "# Compute the x and y coordinates for points on sine and cosine curves\n",
    "x = np.arange(0, 3 * np.pi, 0.1)\n",
    "y_sin = np.sin(x)\n",
    "y_cos = np.cos(x)\n",
    "\n",
    "# Set up a subplot grid that has height 3 and width 1,\n",
    "# and set the first such subplot as active.\n",
    "plt.subplot(3, 1, 1)\n",
    "\n",
    "# Make the first plot\n",
    "plt.plot(x, y_sin)\n",
    "plt.title('Sine')\n",
    "\n",
    "# Set the second subplot as active, and make the second plot.\n",
    "plt.subplot(3, 1, 2)\n",
    "plt.plot(x, y_cos)\n",
    "plt.title('Cosine')\n",
    "\n",
    "# Set image\n",
    "plt.subplot(3,1,3)\n",
    "plt.imshow(gray_scale)\n",
    "\n",
    "# Show the figure.\n",
    "plt.show()"
   ]
  }
 ],
 "metadata": {
  "kernelspec": {
   "display_name": "Python 3",
   "language": "python",
   "name": "python3"
  },
  "language_info": {
   "codemirror_mode": {
    "name": "ipython",
    "version": 3
   },
   "file_extension": ".py",
   "mimetype": "text/x-python",
   "name": "python",
   "nbconvert_exporter": "python",
   "pygments_lexer": "ipython3",
   "version": "3.6.3"
  }
 },
 "nbformat": 4,
 "nbformat_minor": 2
}
